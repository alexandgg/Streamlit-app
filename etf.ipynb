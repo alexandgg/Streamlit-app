{
 "metadata": {
  "language_info": {
   "codemirror_mode": {
    "name": "ipython",
    "version": 3
   },
   "file_extension": ".py",
   "mimetype": "text/x-python",
   "name": "python",
   "nbconvert_exporter": "python",
   "pygments_lexer": "ipython3",
   "version": "3.9.1"
  },
  "orig_nbformat": 2,
  "kernelspec": {
   "name": "python3",
   "display_name": "Python 3.9.1 64-bit"
  },
  "metadata": {
   "interpreter": {
    "hash": "6be861bb76b7ce02840ad718c37b30b4b1948e3b42ea4061df4f234ab19390ee"
   }
  },
  "interpreter": {
   "hash": "6be861bb76b7ce02840ad718c37b30b4b1948e3b42ea4061df4f234ab19390ee"
  }
 },
 "nbformat": 4,
 "nbformat_minor": 2,
 "cells": [
  {
   "cell_type": "code",
   "execution_count": 11,
   "metadata": {},
   "outputs": [],
   "source": [
    "import scipy.optimize as sco\n",
    "import pandas as pd \n",
    "import numpy as np \n",
    "from numpy import array\n",
    "from numpy import mean\n",
    "from numpy import cov\n",
    "from numpy.linalg import eig\n",
    "from tqdm import tqdm\n",
    "from pulp import *\n",
    "import plotly.express as px \n",
    "from sklearn.decomposition import PCA\n",
    "import random\n",
    "import plotly.io as pio \n",
    "pio.renderers.default = \"browser\"\n",
    "import plotly.graph_objects as go\n",
    "from pandas_datareader import data"
   ]
  },
  {
   "cell_type": "code",
   "execution_count": 12,
   "metadata": {},
   "outputs": [],
   "source": [
    "    def meanRetAn(data):             \n",
    "        Result = 1\n",
    "        \n",
    "        for i in data:\n",
    "            Result *= (1+i)\n",
    "            \n",
    "        Result = Result**(1/float(len(data)/52))-1\n",
    "        \n",
    "        return(Result)"
   ]
  },
  {
   "cell_type": "code",
   "execution_count": 44,
   "metadata": {},
   "outputs": [
    {
     "output_type": "execute_result",
     "data": {
      "text/plain": [
       "695"
      ]
     },
     "metadata": {},
     "execution_count": 44
    }
   ],
   "source": [
    "df = pd.read_csv(\"ETFs_info.csv\", index_col=\"Ticker\")\n",
    "df[\"Inception\"] = pd.to_datetime(df[\"Inception\"])\n",
    "df = df[df[\"Inception\"] <= \"2015-01-01\"]\n",
    "\n",
    "\n",
    "fundamental_df = pd.read_csv(\"all_clusters.csv\").rename(columns={\"Unnamed: 0\":\"Ticker\"}).set_index(\"Ticker\") #Fundamental Clustering Data\n",
    "weekly_return = pd.read_csv(\"WeeklyReturns.csv\",index_col=\"Date\") #Weekly Return Data\n",
    "#fundamental_df = fundamental_df.loc[fundamental_df.index.intersection(weekly_return.columns)]\n",
    "#fundamental_df = fundamental_df.loc[fundamental_df.index.intersection(df.index)]\n",
    "len(fundamental_df)"
   ]
  },
  {
   "cell_type": "code",
   "execution_count": 46,
   "metadata": {},
   "outputs": [
    {
     "output_type": "execute_result",
     "data": {
      "text/plain": [
       "            Category            Fundamental Cluster  \\\n",
       "Ticker                                                \n",
       "SPY      Large Blend  High Fundamental Broad Market   \n",
       "IVV      Large Blend  High Fundamental Broad Market   \n",
       "VTI      Large Blend  High Fundamental Broad Market   \n",
       "VOO      Large Blend  High Fundamental Broad Market   \n",
       "QQQ     Large Growth  High Fundamental Broad Market   \n",
       "\n",
       "                                             Risk Cluster  \\\n",
       "Ticker                                                      \n",
       "SPY     Moderat/High Risk - Slightly Above Market Vola...   \n",
       "IVV     Moderat/High Risk - Slightly Above Market Vola...   \n",
       "VTI     Moderat/High Risk - Slightly Above Market Vola...   \n",
       "VOO     Moderat/High Risk - Slightly Above Market Vola...   \n",
       "QQQ     Moderat/High Risk - Slightly Above Market Vola...   \n",
       "\n",
       "              kmean_env_cluster       Kmean_Social_cluster  \\\n",
       "Ticker                                                       \n",
       "SPY     High Env_Responsibility  Low Social_Responsibility   \n",
       "IVV     High Env_Responsibility  Low Social_Responsibility   \n",
       "VTI     High Env_Responsibility  Low Social_Responsibility   \n",
       "VOO     High Env_Responsibility  Low Social_Responsibility   \n",
       "QQQ     High Env_Responsibility  Low Social_Responsibility   \n",
       "\n",
       "              Kmean_Gov_cluster  \n",
       "Ticker                           \n",
       "SPY     High Gov_Responsibility  \n",
       "IVV     High Gov_Responsibility  \n",
       "VTI     High Gov_Responsibility  \n",
       "VOO     High Gov_Responsibility  \n",
       "QQQ     High Gov_Responsibility  "
      ],
      "text/html": "<div>\n<style scoped>\n    .dataframe tbody tr th:only-of-type {\n        vertical-align: middle;\n    }\n\n    .dataframe tbody tr th {\n        vertical-align: top;\n    }\n\n    .dataframe thead th {\n        text-align: right;\n    }\n</style>\n<table border=\"1\" class=\"dataframe\">\n  <thead>\n    <tr style=\"text-align: right;\">\n      <th></th>\n      <th>Category</th>\n      <th>Fundamental Cluster</th>\n      <th>Risk Cluster</th>\n      <th>kmean_env_cluster</th>\n      <th>Kmean_Social_cluster</th>\n      <th>Kmean_Gov_cluster</th>\n    </tr>\n    <tr>\n      <th>Ticker</th>\n      <th></th>\n      <th></th>\n      <th></th>\n      <th></th>\n      <th></th>\n      <th></th>\n    </tr>\n  </thead>\n  <tbody>\n    <tr>\n      <th>SPY</th>\n      <td>Large Blend</td>\n      <td>High Fundamental Broad Market</td>\n      <td>Moderat/High Risk - Slightly Above Market Vola...</td>\n      <td>High Env_Responsibility</td>\n      <td>Low Social_Responsibility</td>\n      <td>High Gov_Responsibility</td>\n    </tr>\n    <tr>\n      <th>IVV</th>\n      <td>Large Blend</td>\n      <td>High Fundamental Broad Market</td>\n      <td>Moderat/High Risk - Slightly Above Market Vola...</td>\n      <td>High Env_Responsibility</td>\n      <td>Low Social_Responsibility</td>\n      <td>High Gov_Responsibility</td>\n    </tr>\n    <tr>\n      <th>VTI</th>\n      <td>Large Blend</td>\n      <td>High Fundamental Broad Market</td>\n      <td>Moderat/High Risk - Slightly Above Market Vola...</td>\n      <td>High Env_Responsibility</td>\n      <td>Low Social_Responsibility</td>\n      <td>High Gov_Responsibility</td>\n    </tr>\n    <tr>\n      <th>VOO</th>\n      <td>Large Blend</td>\n      <td>High Fundamental Broad Market</td>\n      <td>Moderat/High Risk - Slightly Above Market Vola...</td>\n      <td>High Env_Responsibility</td>\n      <td>Low Social_Responsibility</td>\n      <td>High Gov_Responsibility</td>\n    </tr>\n    <tr>\n      <th>QQQ</th>\n      <td>Large Growth</td>\n      <td>High Fundamental Broad Market</td>\n      <td>Moderat/High Risk - Slightly Above Market Vola...</td>\n      <td>High Env_Responsibility</td>\n      <td>Low Social_Responsibility</td>\n      <td>High Gov_Responsibility</td>\n    </tr>\n  </tbody>\n</table>\n</div>"
     },
     "metadata": {},
     "execution_count": 46
    }
   ],
   "source": [
    "fundamental_df.head()"
   ]
  },
  {
   "cell_type": "code",
   "execution_count": 47,
   "metadata": {},
   "outputs": [],
   "source": [
    "ticks = list(fundamental_df.index)"
   ]
  },
  {
   "cell_type": "code",
   "execution_count": 314,
   "metadata": {},
   "outputs": [],
   "source": [
    "\n",
    "# startDate = \"2015-01-01\"\n",
    "# endDate = \"2021-01-01\"\n",
    "# # DOWNLOAD THE DATA FROM YAHOO DATABASE\n",
    "# #------------------------------------------------------------------\n",
    "# dailyPrices = data.DataReader(ticks, 'yahoo', startDate, endDate)\n",
    "# dailyPrices = dailyPrices[\"Adj Close\"]"
   ]
  },
  {
   "cell_type": "code",
   "execution_count": 315,
   "metadata": {},
   "outputs": [],
   "source": [
    "# dailyPrices.to_csv(\"Dailyprices.csv\", index=\"Date\")\n",
    "# daily_prices = pd.read_csv(\"DailyPrices.csv\", index_col=\"Date\")"
   ]
  },
  {
   "source": [
    "# PDI"
   ],
   "cell_type": "markdown",
   "metadata": {}
  },
  {
   "cell_type": "code",
   "execution_count": null,
   "metadata": {},
   "outputs": [],
   "source": []
  },
  {
   "cell_type": "code",
   "execution_count": null,
   "metadata": {},
   "outputs": [],
   "source": []
  },
  {
   "cell_type": "code",
   "execution_count": null,
   "metadata": {},
   "outputs": [],
   "source": []
  },
  {
   "cell_type": "code",
   "execution_count": null,
   "metadata": {},
   "outputs": [],
   "source": []
  },
  {
   "cell_type": "code",
   "execution_count": null,
   "metadata": {},
   "outputs": [],
   "source": []
  },
  {
   "cell_type": "code",
   "execution_count": 66,
   "metadata": {},
   "outputs": [],
   "source": [
    "def calculate_pdi( weekly_returns, portfolios, return_mean_range): \n",
    "\n",
    "    def meanRetAn(data):             \n",
    "        Result = 1\n",
    "        \n",
    "        for i in data:\n",
    "            Result *= (1+i)\n",
    "            \n",
    "        Result = Result**(1/float(len(data)/return_mean_range))-1\n",
    "        \n",
    "        return(Result)\n",
    "\n",
    "    pca = PCA()\n",
    "    PDI_dict = {}\n",
    "\n",
    "    for i,y in tqdm(zip(portfolios,range(1,len(portfolios)+1))):\n",
    "        n_assets = len(i)\n",
    "        portfolio_weights_ew = np.repeat(1/n_assets, n_assets)\n",
    "        port_ret  = weekly_returns[i].mul(portfolio_weights_ew,axis=1).sum(axis=1)\n",
    "\n",
    "        ann_ret = meanRetAn(list(port_ret))\n",
    "        an_cov = weekly_returns[i].cov()\n",
    "        port_std = np.sqrt(np.dot(portfolio_weights_ew.T, np.dot(an_cov, portfolio_weights_ew)))*np.sqrt(return_mean_range)\n",
    "        corr_matrix = np.array(weekly_returns[i].corr().replace(np.nan, 0))\n",
    "        principalComponents = pca.fit(corr_matrix)\n",
    "        PDI = 2*sum(principalComponents.explained_variance_ratio_*range(1,len(principalComponents.explained_variance_ratio_)+1,1))-1\n",
    "\n",
    "        PDI_dict[y] = {}\n",
    "        PDI_dict[y][\"PDI_INDEX\"] = PDI\n",
    "        PDI_dict[y][\"# of Assets\"] = len(i)\n",
    "        PDI_dict[y][\"Assets\"] = i\n",
    "        PDI_dict[y][\"Sharpe Ratio\"] = ann_ret/port_std\n",
    "        PDI_dict[y][\"Annual Return\"] = ann_ret\n",
    "        PDI_dict[y][\"Annual STD\"] = port_std\n",
    "\n",
    "\n",
    "\n",
    "    \n",
    "\n",
    "        \n",
    "\n",
    "\n",
    "    PDI_DF = pd.DataFrame(PDI_dict).T\n",
    "    #PDI_DF[\"Assets\"] = PDI_DF[\"Assets\"].astype(str)\n",
    "    PDI_DF[\"# of Assets\"] = PDI_DF[\"# of Assets\"].astype(str)\n",
    "    PDI_DF[\"Sharpe Ratio\"] = PDI_DF[\"Sharpe Ratio\"].astype(float)\n",
    "    PDI_DF[\"Annual STD\"] = PDI_DF[\"Annual STD\"].astype(float)\n",
    "    PDI_DF[\"PDI_INDEX\"] = PDI_DF[\"PDI_INDEX\"].astype(float)\n",
    "    PDI_DF[\"Annual Return\"] = PDI_DF[\"Annual Return\"].astype(float)\n",
    "    SPY_DF = PDI_DF.iloc[0,:]\n",
    "    return PDI_DF, SPY_DF #uncomment to add spy"
   ]
  },
  {
   "source": [
    "# PDI"
   ],
   "cell_type": "markdown",
   "metadata": {}
  },
  {
   "cell_type": "code",
   "execution_count": 7,
   "metadata": {},
   "outputs": [],
   "source": [
    "pdi_etf_start = pd.read_csv(\"WeeklyReturns.csv\", index_col=\"Date\").dropna(axis=1)\n",
    "pdi_etf_crypto = pd.read_csv(\"crypto_weekly.csv\", index_col=\"Date\").dropna(axis=1)"
   ]
  },
  {
   "cell_type": "code",
   "execution_count": 352,
   "metadata": {},
   "outputs": [
    {
     "output_type": "stream",
     "name": "stdout",
     "text": [
      "Number of Portfolios ETF: 119510\n"
     ]
    }
   ],
   "source": [
    "random.seed(60)\n",
    "num_pdi_ticker_etf = pdi_etf_start.columns\n",
    "samples_etf = []\n",
    "for number in range(2,10,1):\n",
    "    for i in range(1,15000):\n",
    "        #samples.extend([list(x) for x in combinations(selected_tickers, number_of_assets)])\n",
    "        samples_etf.append(random.sample(list(num_pdi_ticker_etf),number))\n",
    "# samples_mini_etf = []\n",
    "# for i in samples_etf:\n",
    "#     if i not in samples_mini_etf:\n",
    "#         samples_mini_etf.append(i)\n",
    "\n",
    "seen = set()\n",
    "sampled_etf = [x for x in samples_etf if frozenset(x) not in seen and not seen.add(frozenset(x))]\n",
    "\n",
    "print(\"Number of Portfolios ETF: {}\".format(len(sampled_etf)))"
   ]
  },
  {
   "cell_type": "code",
   "execution_count": 354,
   "metadata": {},
   "outputs": [
    {
     "output_type": "stream",
     "name": "stderr",
     "text": [
      "119510it [05:44, 346.97it/s]\n"
     ]
    }
   ],
   "source": [
    "pdi_df = calculate_pdi( weekly_returns = pdi_etf_start, portfolios = sampled_etf, return_mean_range = 52)"
   ]
  },
  {
   "cell_type": "code",
   "execution_count": 362,
   "metadata": {},
   "outputs": [],
   "source": [
    "fig = px.scatter(pdi_df, x = \"PDI_INDEX\", y = \"Annual STD\", color=\"# of Assets\", hover_data=[\"Assets\",\"Annual Return\",\"Sharpe Ratio\"])\n",
    "fig.show()"
   ]
  },
  {
   "cell_type": "code",
   "execution_count": 363,
   "metadata": {},
   "outputs": [],
   "source": [
    "fig = px.scatter(pdi_df, x = \"PDI_INDEX\", y = \"Sharpe Ratio\", color=\"# of Assets\",hover_data=[\"Assets\",\"Annual Return\",\"Annual STD\"])\n",
    "fig.show()"
   ]
  },
  {
   "cell_type": "code",
   "execution_count": 364,
   "metadata": {},
   "outputs": [],
   "source": [
    "fig = px.scatter(pdi_df, x = \"PDI_INDEX\", y = \"Annual Return\", color=\"# of Assets\",hover_data=[\"Assets\",\"Annual STD\",\"Sharpe Ratio\"])\n",
    "fig.show()"
   ]
  },
  {
   "source": [
    "## PDI Trading Strategy"
   ],
   "cell_type": "markdown",
   "metadata": {}
  },
  {
   "cell_type": "code",
   "execution_count": 67,
   "metadata": {},
   "outputs": [],
   "source": [
    "def pca_per(return_data, initial_port, interval, ret_range_mean):\n",
    "    data = return_data.copy() # data containing weekly returns\n",
    "    tickers = list(data.columns)\n",
    "    data.index = pd.to_datetime(data.index) # Conveting the index which is date to datetime\n",
    "    weeks_list = data.index # grabbing all index dates\n",
    "    data.index = data.index.to_period(interval) # converting the index to quarterly sets\n",
    "    periods = data.index.unique() # taking the unique quarters to loop\n",
    "\n",
    "    \n",
    "    print(periods)\n",
    "    first_period = periods[0] # the first period of the time frame\n",
    "    remaining_periods = periods[1:] # the remianing periods of the time framr\n",
    "    first_periods = periods[:-1] # all periods minus the last\n",
    "\n",
    "    def meanRetAn(data):             \n",
    "        Result = 1\n",
    "        \n",
    "        for i in data:\n",
    "            Result *= (1+i)\n",
    "            \n",
    "        Result = Result**(1/float(len(data)/ret_range_mean))-1\n",
    "        \n",
    "        return(Result)\n",
    "\n",
    "    \n",
    "    def port_ret(returns,port, period): # function for calculating returns\n",
    "        n_assets = len(port)\n",
    "        portfolio_weights_ew = np.repeat(1/n_assets, n_assets)\n",
    "        port_return = returns.loc[period][port].mul(portfolio_weights_ew,axis=1).sum(axis=1)\n",
    "        return  port_return\n",
    "\n",
    "    performance_eq = []\n",
    "    performance_eq_pdi = []\n",
    "    sharpe_performance_eq_2 = []\n",
    "    ret_performance_eq_2 = []\n",
    "    sharpe_performance_eq_2_pdi = []\n",
    "    ret_performance_eq_2_pdi = []\n",
    "    sharpe_performance_eq_3 = []\n",
    "    ret_performance_eq_3 = []\n",
    "    sharpe_performance_eq_3_pdi = []\n",
    "    ret_performance_eq_3_pdi = []\n",
    "    sharpe_performance_eq_max = []\n",
    "    ret_performance_eq_max = []\n",
    "    sharpe_performance_eq_max_pdi =  []\n",
    "    ret_performance_eq_max_pdi =  []\n",
    "    \n",
    "    ############################################################ Calculate first period ####################################################################################\n",
    "    #### Equal weight #####\n",
    "    print(first_period)\n",
    "    performance_eq.extend(port_ret(data, initial_port,first_period))\n",
    "    sharpe_performance_eq_2.extend(port_ret(data, initial_port,first_period))\n",
    "    sharpe_performance_eq_3.extend(port_ret(data, initial_port,first_period))\n",
    "    sharpe_performance_eq_max.extend(port_ret(data, initial_port,first_period))\n",
    "    tickers_weekly = list(data.columns)\n",
    "    number_of_assets = [len(initial_port)]\n",
    "\n",
    "\n",
    "\n",
    "\n",
    "\n",
    "\n",
    "\n",
    "    ######################################################## Calculation of portfolio perfomnce #############################################################################\n",
    "\n",
    "    for init_time, next_time in zip(first_periods,remaining_periods):\n",
    "        ############ Portfolio Creation ##############################\n",
    "        samples = [[\"URTH\"]]\n",
    "        for number in [len(initial_port)]:\n",
    "            for i in range(1,20000):\n",
    "                #samples.extend([list(x) for x in combinations(selected_tickers, number_of_assets)])\n",
    "                samples.append(random.sample(list(tickers),number))\n",
    "\n",
    "        seen = set()\n",
    "        samples_mini = [x for x in samples if frozenset(x) not in seen and not seen.add(frozenset(x))]\n",
    "\n",
    "        print(\"Number of Portfolios: {}\".format(len(samples_mini)))\n",
    "        print(\"first time: {} - last time: {}\".format(init_time, next_time))\n",
    "        PDI_DF, SPY_DF = calculate_pdi(weekly_returns = data.loc[init_time].dropna(axis=1), portfolios = samples_mini, return_mean_range = ret_range_mean)\n",
    "\n",
    "\n",
    "        ################################################## Taking the higest PDI ##########################################################################\n",
    "\n",
    "        id = PDI_DF[\"PDI_INDEX\"].idxmax()\n",
    "        port_max_pdi = PDI_DF[\"Assets\"][id]\n",
    "        performance_eq_pdi.append(PDI_DF[\"PDI_INDEX\"][id])\n",
    "        \n",
    "        port_max_ret_period = port_ret(data,port_max_pdi, next_time)\n",
    "        performance_eq.extend(port_max_ret_period)\n",
    "\n",
    "        ################################################## Taking the higest Sharpe Ration - PDI > 2##########################################################################\n",
    "        id_sharpe = PDI_DF[PDI_DF[\"PDI_INDEX\"]>2][\"Annual Return\"].idxmax()\n",
    "        \n",
    "\n",
    "        port_max_sharpe = PDI_DF[\"Assets\"][id_sharpe]\n",
    "        sharpe_performance_eq_2_pdi.append(PDI_DF[\"PDI_INDEX\"][id_sharpe])\n",
    "\n",
    "\n",
    "        \n",
    "        port_max_ret_period_sharpe = port_ret(data,port_max_sharpe, next_time)\n",
    "        sharpe_performance_eq_2.extend(port_max_ret_period_sharpe)\n",
    "\n",
    "                \n",
    "        ################################################## Taking the higest Sharpe Ration - PDI > 2##########################################################################\n",
    "        try: \n",
    "            try:\n",
    "                id_sharpe_3= PDI_DF[PDI_DF[\"PDI_INDEX\"]>3][\"Annual Return\"].idxmax()\n",
    "                port_max_sharpe_3 = PDI_DF[\"Assets\"][id_sharpe_3]\n",
    "                sharpe_performance_eq_3_pdi.append(PDI_DF[\"PDI_INDEX\"][id_sharpe_3])\n",
    "            except:\n",
    "                id_sharpe_3= PDI_DF[PDI_DF[\"PDI_INDEX\"]>2.5][\"Annual Return\"].idxmax()\n",
    "                port_max_sharpe_3 = PDI_DF[\"Assets\"][id_sharpe_3]\n",
    "                sharpe_performance_eq_3_pdi.append(PDI_DF[\"PDI_INDEX\"][id_sharpe_3])\n",
    "        except:\n",
    "            id_sharpe_3= PDI_DF[\"PDI_INDEX\"].idxmax()\n",
    "            port_max_sharpe_3 = PDI_DF[\"Assets\"][id_sharpe_3]\n",
    "            sharpe_performance_eq_3_pdi.append(PDI_DF[\"PDI_INDEX\"][id_sharpe_3])\n",
    "\n",
    "\n",
    "        \n",
    "        port_max_ret_period_sharpe_3 = port_ret(data,port_max_sharpe_3, next_time)\n",
    "        sharpe_performance_eq_3.extend(port_max_ret_period_sharpe_3)\n",
    "\n",
    "        \n",
    "\n",
    "        ################################################## Taking the higest Sharpe Ration - PDI > 2##########################################################################\n",
    "        id_sharpe_max = PDI_DF[\"Annual Return\"].idxmax()\n",
    "        port_max_sharpe_max = PDI_DF[\"Assets\"][id_sharpe_max]\n",
    "        sharpe_performance_eq_max_pdi.append(PDI_DF[\"PDI_INDEX\"][id_sharpe_max])\n",
    "        port_max_ret_period_sharpe_max = port_ret(data,port_max_sharpe_max, next_time)\n",
    "        sharpe_performance_eq_max.extend(port_max_ret_period_sharpe_max)\n",
    "\n",
    "\n",
    "\n",
    "\n",
    "    dd = pd.DataFrame()\n",
    "    dd[\"Time\"] = weeks_list\n",
    "    dd[\"per_pdi\"] = performance_eq\n",
    "    dd[\"per_sharpe_2\"] = sharpe_performance_eq_2\n",
    "    dd[\"per_sharpe_3\"] = sharpe_performance_eq_3\n",
    "    dd[\"per_sharpe_max\"] = sharpe_performance_eq_max\n",
    "    dd[\"URTH\"] = list(data[\"URTH\"])\n",
    "    dd[\"per_pdi_cum\"] = dd[\"per_pdi\"].cumsum(axis=0)\n",
    "    dd[\"per_sharpe_cum_2\"] = dd[\"per_sharpe_2\"].cumsum(axis=0)\n",
    "    dd[\"per_sharpe_cum_3\"] = dd[\"per_sharpe_3\"].cumsum(axis=0)\n",
    "    dd[\"per_sharpe_cum_max\"] = dd[\"per_sharpe_max\"].cumsum(axis=0)\n",
    "    dd[\"URTH_cum\"] = dd[\"URTH\"].cumsum(axis=0)\n",
    "\n",
    "    pdi = [performance_eq_pdi,sharpe_performance_eq_2_pdi,sharpe_performance_eq_3_pdi,sharpe_performance_eq_max_pdi]\n",
    "\n",
    "\n",
    "    return dd,pdi"
   ]
  },
  {
   "cell_type": "code",
   "execution_count": 70,
   "metadata": {},
   "outputs": [],
   "source": [
    "test = list(fundamental_df.loc[(fundamental_df['Risk Cluster']==\"Moderat/High Risk - Slightly Above Market Volatility\") & (fundamental_df['Fundamental Cluster']==\"High Fundamental Broad Market\") & (fundamental_df.kmean_env_cluster == \"High Env_Responsibility\") & (fundamental_df.Kmean_Social_cluster == \"High Social_Responsibility\")].index)\n",
    "test.append(\"URTH\")\n",
    "week_return = pd.read_csv(\"WeeklyReturns.csv\",index_col=\"Date\") #Weekly Return Data\n",
    "week_return_sort = week_return[test] #a"
   ]
  },
  {
   "source": [
    ",[\"DAX\", \"XLK\", \"EMIF\", \"EMFM\", \"SOXL\",\"SPY\"],\n",
    "    [\"DAX\", \"XLK\", \"EMIF\", \"EMFM\", \"SOXL\",\"FNDA\", \"QQXT\"],[\"FNDA\", \"QQXT\", \"SPEU\", \"AIA\", \"XSMO\",\"DAX\", \"XLK\", \"EMIF\"]"
   ],
   "cell_type": "markdown",
   "metadata": {}
  },
  {
   "cell_type": "code",
   "execution_count": 71,
   "metadata": {},
   "outputs": [
    {
     "output_type": "stream",
     "name": "stdout",
     "text": [
      "PeriodIndex(['2015Q1', '2015Q2', '2015Q3', '2015Q4', '2016Q1', '2016Q2',\n",
      "             '2016Q3', '2016Q4', '2017Q1', '2017Q2', '2017Q3', '2017Q4',\n",
      "             '2018Q1', '2018Q2', '2018Q3', '2018Q4', '2019Q1', '2019Q2',\n",
      "             '2019Q3', '2019Q4', '2020Q1', '2020Q2', '2020Q3', '2020Q4'],\n",
      "            dtype='period[Q-DEC]', name='Date', freq='Q-DEC')\n",
      "2015Q1\n",
      "0it [00:00, ?it/s]C:\\Users\\ALG\\AppData\\Local\\Programs\\Python\\Python39\\lib\\site-packages\\sklearn\\decomposition\\_pca.py:468: RuntimeWarning:\n",
      "\n",
      "invalid value encountered in true_divide\n",
      "\n",
      "11it [00:00, 109.49it/s]Number of Portfolios: 19827\n",
      "first time: 2015Q1 - last time: 2015Q2\n",
      "19827it [02:02, 162.22it/s]\n",
      "0it [00:00, ?it/s]C:\\Users\\ALG\\AppData\\Local\\Programs\\Python\\Python39\\lib\\site-packages\\sklearn\\decomposition\\_pca.py:468: RuntimeWarning:\n",
      "\n",
      "invalid value encountered in true_divide\n",
      "\n",
      "27it [00:00, 262.84it/s]Number of Portfolios: 19828\n",
      "first time: 2015Q2 - last time: 2015Q3\n",
      "19828it [01:23, 237.90it/s]\n",
      "0it [00:00, ?it/s]C:\\Users\\ALG\\AppData\\Local\\Programs\\Python\\Python39\\lib\\site-packages\\sklearn\\decomposition\\_pca.py:468: RuntimeWarning:\n",
      "\n",
      "invalid value encountered in true_divide\n",
      "\n",
      "51it [00:00, 248.52it/s]Number of Portfolios: 19810\n",
      "first time: 2015Q3 - last time: 2015Q4\n",
      "19810it [01:25, 232.65it/s]\n",
      "0it [00:00, ?it/s]C:\\Users\\ALG\\AppData\\Local\\Programs\\Python\\Python39\\lib\\site-packages\\sklearn\\decomposition\\_pca.py:468: RuntimeWarning:\n",
      "\n",
      "invalid value encountered in true_divide\n",
      "\n",
      "21it [00:00, 200.53it/s]Number of Portfolios: 19803\n",
      "first time: 2015Q4 - last time: 2016Q1\n",
      "19803it [01:26, 227.94it/s]\n",
      "0it [00:00, ?it/s]C:\\Users\\ALG\\AppData\\Local\\Programs\\Python\\Python39\\lib\\site-packages\\sklearn\\decomposition\\_pca.py:468: RuntimeWarning:\n",
      "\n",
      "invalid value encountered in true_divide\n",
      "\n",
      "60it [00:00, 298.51it/s]Number of Portfolios: 19823\n",
      "first time: 2016Q1 - last time: 2016Q2\n",
      "19823it [01:10, 282.20it/s]\n",
      "0it [00:00, ?it/s]C:\\Users\\ALG\\AppData\\Local\\Programs\\Python\\Python39\\lib\\site-packages\\sklearn\\decomposition\\_pca.py:468: RuntimeWarning:\n",
      "\n",
      "invalid value encountered in true_divide\n",
      "\n",
      "65it [00:00, 322.80it/s]Number of Portfolios: 19801\n",
      "first time: 2016Q2 - last time: 2016Q3\n",
      "19801it [01:06, 297.34it/s]\n",
      "0it [00:00, ?it/s]C:\\Users\\ALG\\AppData\\Local\\Programs\\Python\\Python39\\lib\\site-packages\\sklearn\\decomposition\\_pca.py:468: RuntimeWarning:\n",
      "\n",
      "invalid value encountered in true_divide\n",
      "\n",
      "32it [00:00, 302.81it/s]Number of Portfolios: 19817\n",
      "first time: 2016Q3 - last time: 2016Q4\n",
      "19817it [01:21, 241.78it/s]\n",
      "0it [00:00, ?it/s]C:\\Users\\ALG\\AppData\\Local\\Programs\\Python\\Python39\\lib\\site-packages\\sklearn\\decomposition\\_pca.py:468: RuntimeWarning:\n",
      "\n",
      "invalid value encountered in true_divide\n",
      "\n",
      "26it [00:00, 253.18it/s]Number of Portfolios: 19846\n",
      "first time: 2016Q4 - last time: 2017Q1\n",
      "19846it [01:24, 234.60it/s]\n",
      "0it [00:00, ?it/s]C:\\Users\\ALG\\AppData\\Local\\Programs\\Python\\Python39\\lib\\site-packages\\sklearn\\decomposition\\_pca.py:468: RuntimeWarning:\n",
      "\n",
      "invalid value encountered in true_divide\n",
      "\n",
      "25it [00:00, 245.75it/s]Number of Portfolios: 19828\n",
      "first time: 2017Q1 - last time: 2017Q2\n",
      "19828it [01:26, 229.22it/s]\n",
      "0it [00:00, ?it/s]C:\\Users\\ALG\\AppData\\Local\\Programs\\Python\\Python39\\lib\\site-packages\\sklearn\\decomposition\\_pca.py:468: RuntimeWarning:\n",
      "\n",
      "invalid value encountered in true_divide\n",
      "\n",
      "26it [00:00, 255.56it/s]Number of Portfolios: 19831\n",
      "first time: 2017Q2 - last time: 2017Q3\n",
      "19831it [01:25, 232.65it/s]\n",
      "0it [00:00, ?it/s]C:\\Users\\ALG\\AppData\\Local\\Programs\\Python\\Python39\\lib\\site-packages\\sklearn\\decomposition\\_pca.py:468: RuntimeWarning:\n",
      "\n",
      "invalid value encountered in true_divide\n",
      "\n",
      "26it [00:00, 255.58it/s]Number of Portfolios: 19824\n",
      "first time: 2017Q3 - last time: 2017Q4\n",
      "19824it [01:26, 228.22it/s]\n",
      "0it [00:00, ?it/s]C:\\Users\\ALG\\AppData\\Local\\Programs\\Python\\Python39\\lib\\site-packages\\sklearn\\decomposition\\_pca.py:468: RuntimeWarning:\n",
      "\n",
      "invalid value encountered in true_divide\n",
      "\n",
      "16it [00:00, 151.32it/s]Number of Portfolios: 19841\n",
      "first time: 2017Q4 - last time: 2018Q1\n",
      "19841it [01:28, 223.03it/s]\n",
      "0it [00:00, ?it/s]C:\\Users\\ALG\\AppData\\Local\\Programs\\Python\\Python39\\lib\\site-packages\\sklearn\\decomposition\\_pca.py:468: RuntimeWarning:\n",
      "\n",
      "invalid value encountered in true_divide\n",
      "\n",
      "23it [00:00, 221.63it/s]Number of Portfolios: 19825\n",
      "first time: 2018Q1 - last time: 2018Q2\n",
      "19825it [01:25, 232.41it/s]\n",
      "0it [00:00, ?it/s]C:\\Users\\ALG\\AppData\\Local\\Programs\\Python\\Python39\\lib\\site-packages\\sklearn\\decomposition\\_pca.py:468: RuntimeWarning:\n",
      "\n",
      "invalid value encountered in true_divide\n",
      "\n",
      "51it [00:00, 250.01it/s]Number of Portfolios: 19818\n",
      "first time: 2018Q2 - last time: 2018Q3\n",
      "19818it [01:25, 231.53it/s]\n",
      "0it [00:00, ?it/s]C:\\Users\\ALG\\AppData\\Local\\Programs\\Python\\Python39\\lib\\site-packages\\sklearn\\decomposition\\_pca.py:468: RuntimeWarning:\n",
      "\n",
      "invalid value encountered in true_divide\n",
      "\n",
      "50it [00:00, 242.28it/s]Number of Portfolios: 19814\n",
      "first time: 2018Q3 - last time: 2018Q4\n",
      "19814it [01:26, 229.82it/s]\n",
      "0it [00:00, ?it/s]C:\\Users\\ALG\\AppData\\Local\\Programs\\Python\\Python39\\lib\\site-packages\\sklearn\\decomposition\\_pca.py:468: RuntimeWarning:\n",
      "\n",
      "invalid value encountered in true_divide\n",
      "\n",
      "26it [00:00, 258.11it/s]Number of Portfolios: 19833\n",
      "first time: 2018Q4 - last time: 2019Q1\n",
      "19833it [01:24, 233.71it/s]\n",
      "0it [00:00, ?it/s]C:\\Users\\ALG\\AppData\\Local\\Programs\\Python\\Python39\\lib\\site-packages\\sklearn\\decomposition\\_pca.py:468: RuntimeWarning:\n",
      "\n",
      "invalid value encountered in true_divide\n",
      "\n",
      "48it [00:00, 234.13it/s]Number of Portfolios: 19809\n",
      "first time: 2019Q1 - last time: 2019Q2\n",
      "19809it [01:25, 231.54it/s]\n",
      "0it [00:00, ?it/s]C:\\Users\\ALG\\AppData\\Local\\Programs\\Python\\Python39\\lib\\site-packages\\sklearn\\decomposition\\_pca.py:468: RuntimeWarning:\n",
      "\n",
      "invalid value encountered in true_divide\n",
      "\n",
      "26it [00:00, 253.10it/s]Number of Portfolios: 19814\n",
      "first time: 2019Q2 - last time: 2019Q3\n",
      "19814it [01:24, 233.39it/s]\n",
      "0it [00:00, ?it/s]C:\\Users\\ALG\\AppData\\Local\\Programs\\Python\\Python39\\lib\\site-packages\\sklearn\\decomposition\\_pca.py:468: RuntimeWarning:\n",
      "\n",
      "invalid value encountered in true_divide\n",
      "\n",
      "25it [00:00, 241.03it/s]Number of Portfolios: 19792\n",
      "first time: 2019Q3 - last time: 2019Q4\n",
      "19792it [01:25, 231.88it/s]\n",
      "0it [00:00, ?it/s]C:\\Users\\ALG\\AppData\\Local\\Programs\\Python\\Python39\\lib\\site-packages\\sklearn\\decomposition\\_pca.py:468: RuntimeWarning:\n",
      "\n",
      "invalid value encountered in true_divide\n",
      "\n",
      "27it [00:00, 265.41it/s]Number of Portfolios: 19829\n",
      "first time: 2019Q4 - last time: 2020Q1\n",
      "19829it [01:25, 231.70it/s]\n",
      "0it [00:00, ?it/s]C:\\Users\\ALG\\AppData\\Local\\Programs\\Python\\Python39\\lib\\site-packages\\sklearn\\decomposition\\_pca.py:468: RuntimeWarning:\n",
      "\n",
      "invalid value encountered in true_divide\n",
      "\n",
      "24it [00:00, 231.39it/s]Number of Portfolios: 19826\n",
      "first time: 2020Q1 - last time: 2020Q2\n",
      "19826it [01:27, 226.83it/s]\n",
      "0it [00:00, ?it/s]C:\\Users\\ALG\\AppData\\Local\\Programs\\Python\\Python39\\lib\\site-packages\\sklearn\\decomposition\\_pca.py:468: RuntimeWarning:\n",
      "\n",
      "invalid value encountered in true_divide\n",
      "\n",
      "27it [00:00, 262.83it/s]Number of Portfolios: 19828\n",
      "first time: 2020Q2 - last time: 2020Q3\n",
      "19828it [01:24, 234.97it/s]\n",
      "0it [00:00, ?it/s]C:\\Users\\ALG\\AppData\\Local\\Programs\\Python\\Python39\\lib\\site-packages\\sklearn\\decomposition\\_pca.py:468: RuntimeWarning:\n",
      "\n",
      "invalid value encountered in true_divide\n",
      "\n",
      "26it [00:00, 258.09it/s]Number of Portfolios: 19823\n",
      "first time: 2020Q3 - last time: 2020Q4\n",
      "19823it [01:25, 232.89it/s]\n",
      "PeriodIndex(['2015Q1', '2015Q2', '2015Q3', '2015Q4', '2016Q1', '2016Q2',\n",
      "             '2016Q3', '2016Q4', '2017Q1', '2017Q2', '2017Q3', '2017Q4',\n",
      "             '2018Q1', '2018Q2', '2018Q3', '2018Q4', '2019Q1', '2019Q2',\n",
      "             '2019Q3', '2019Q4', '2020Q1', '2020Q2', '2020Q3', '2020Q4'],\n",
      "            dtype='period[Q-DEC]', name='Date', freq='Q-DEC')\n",
      "2015Q1\n",
      "0it [00:00, ?it/s]C:\\Users\\ALG\\AppData\\Local\\Programs\\Python\\Python39\\lib\\site-packages\\sklearn\\decomposition\\_pca.py:468: RuntimeWarning:\n",
      "\n",
      "invalid value encountered in true_divide\n",
      "\n",
      "47it [00:00, 224.80it/s]Number of Portfolios: 19994\n",
      "first time: 2015Q1 - last time: 2015Q2\n",
      "19994it [01:34, 211.51it/s]\n",
      "0it [00:00, ?it/s]C:\\Users\\ALG\\AppData\\Local\\Programs\\Python\\Python39\\lib\\site-packages\\sklearn\\decomposition\\_pca.py:468: RuntimeWarning:\n",
      "\n",
      "invalid value encountered in true_divide\n",
      "\n",
      "19it [00:00, 184.96it/s]Number of Portfolios: 19994\n",
      "first time: 2015Q2 - last time: 2015Q3\n",
      "19994it [01:38, 203.34it/s]\n",
      "0it [00:00, ?it/s]C:\\Users\\ALG\\AppData\\Local\\Programs\\Python\\Python39\\lib\\site-packages\\sklearn\\decomposition\\_pca.py:468: RuntimeWarning:\n",
      "\n",
      "invalid value encountered in true_divide\n",
      "\n",
      "23it [00:00, 228.27it/s]Number of Portfolios: 19990\n",
      "first time: 2015Q3 - last time: 2015Q4\n",
      "19990it [01:28, 226.17it/s]\n",
      "0it [00:00, ?it/s]C:\\Users\\ALG\\AppData\\Local\\Programs\\Python\\Python39\\lib\\site-packages\\sklearn\\decomposition\\_pca.py:468: RuntimeWarning:\n",
      "\n",
      "invalid value encountered in true_divide\n",
      "\n",
      "49it [00:00, 238.78it/s]Number of Portfolios: 19991\n",
      "first time: 2015Q4 - last time: 2016Q1\n",
      "19991it [01:28, 226.01it/s]\n",
      "0it [00:00, ?it/s]C:\\Users\\ALG\\AppData\\Local\\Programs\\Python\\Python39\\lib\\site-packages\\sklearn\\decomposition\\_pca.py:468: RuntimeWarning:\n",
      "\n",
      "invalid value encountered in true_divide\n",
      "\n",
      "37it [00:00, 181.96it/s]Number of Portfolios: 19996\n",
      "first time: 2016Q1 - last time: 2016Q2\n",
      "19996it [01:38, 202.03it/s]\n",
      "0it [00:00, ?it/s]C:\\Users\\ALG\\AppData\\Local\\Programs\\Python\\Python39\\lib\\site-packages\\sklearn\\decomposition\\_pca.py:468: RuntimeWarning:\n",
      "\n",
      "invalid value encountered in true_divide\n",
      "\n",
      "19it [00:00, 178.05it/s]Number of Portfolios: 19996\n",
      "first time: 2016Q2 - last time: 2016Q3\n",
      "19996it [01:28, 227.18it/s]\n",
      "0it [00:00, ?it/s]C:\\Users\\ALG\\AppData\\Local\\Programs\\Python\\Python39\\lib\\site-packages\\sklearn\\decomposition\\_pca.py:468: RuntimeWarning:\n",
      "\n",
      "invalid value encountered in true_divide\n",
      "\n",
      "24it [00:00, 233.63it/s]Number of Portfolios: 19995\n",
      "first time: 2016Q3 - last time: 2016Q4\n",
      "19995it [01:28, 226.16it/s]\n",
      "0it [00:00, ?it/s]C:\\Users\\ALG\\AppData\\Local\\Programs\\Python\\Python39\\lib\\site-packages\\sklearn\\decomposition\\_pca.py:468: RuntimeWarning:\n",
      "\n",
      "invalid value encountered in true_divide\n",
      "\n",
      "26it [00:00, 248.18it/s]Number of Portfolios: 19994\n",
      "first time: 2016Q4 - last time: 2017Q1\n",
      "19994it [01:27, 229.08it/s]\n",
      "0it [00:00, ?it/s]C:\\Users\\ALG\\AppData\\Local\\Programs\\Python\\Python39\\lib\\site-packages\\sklearn\\decomposition\\_pca.py:468: RuntimeWarning:\n",
      "\n",
      "invalid value encountered in true_divide\n",
      "\n",
      "50it [00:00, 242.54it/s]Number of Portfolios: 19993\n",
      "first time: 2017Q1 - last time: 2017Q2\n",
      "19993it [01:29, 222.85it/s]\n",
      "0it [00:00, ?it/s]C:\\Users\\ALG\\AppData\\Local\\Programs\\Python\\Python39\\lib\\site-packages\\sklearn\\decomposition\\_pca.py:468: RuntimeWarning:\n",
      "\n",
      "invalid value encountered in true_divide\n",
      "\n",
      "49it [00:00, 241.29it/s]Number of Portfolios: 19996\n",
      "first time: 2017Q2 - last time: 2017Q3\n",
      "19996it [01:39, 201.93it/s]\n",
      "0it [00:00, ?it/s]C:\\Users\\ALG\\AppData\\Local\\Programs\\Python\\Python39\\lib\\site-packages\\sklearn\\decomposition\\_pca.py:468: RuntimeWarning:\n",
      "\n",
      "invalid value encountered in true_divide\n",
      "\n",
      "24it [00:00, 238.33it/s]Number of Portfolios: 19993\n",
      "first time: 2017Q3 - last time: 2017Q4\n",
      "19993it [01:28, 224.98it/s]\n",
      "0it [00:00, ?it/s]C:\\Users\\ALG\\AppData\\Local\\Programs\\Python\\Python39\\lib\\site-packages\\sklearn\\decomposition\\_pca.py:468: RuntimeWarning:\n",
      "\n",
      "invalid value encountered in true_divide\n",
      "\n",
      "22it [00:00, 218.41it/s]Number of Portfolios: 19994\n",
      "first time: 2017Q4 - last time: 2018Q1\n",
      "19994it [01:28, 226.51it/s]\n",
      "0it [00:00, ?it/s]C:\\Users\\ALG\\AppData\\Local\\Programs\\Python\\Python39\\lib\\site-packages\\sklearn\\decomposition\\_pca.py:468: RuntimeWarning:\n",
      "\n",
      "invalid value encountered in true_divide\n",
      "\n",
      "25it [00:00, 243.39it/s]Number of Portfolios: 19992\n",
      "first time: 2018Q1 - last time: 2018Q2\n",
      "19992it [01:27, 229.72it/s]\n",
      "0it [00:00, ?it/s]C:\\Users\\ALG\\AppData\\Local\\Programs\\Python\\Python39\\lib\\site-packages\\sklearn\\decomposition\\_pca.py:468: RuntimeWarning:\n",
      "\n",
      "invalid value encountered in true_divide\n",
      "\n",
      "47it [00:00, 222.41it/s]Number of Portfolios: 19995\n",
      "first time: 2018Q2 - last time: 2018Q3\n",
      "19995it [01:27, 229.31it/s]\n",
      "0it [00:00, ?it/s]C:\\Users\\ALG\\AppData\\Local\\Programs\\Python\\Python39\\lib\\site-packages\\sklearn\\decomposition\\_pca.py:468: RuntimeWarning:\n",
      "\n",
      "invalid value encountered in true_divide\n",
      "\n",
      "38it [00:00, 184.23it/s]Number of Portfolios: 19993\n",
      "first time: 2018Q3 - last time: 2018Q4\n",
      "19993it [01:27, 229.58it/s]\n",
      "0it [00:00, ?it/s]C:\\Users\\ALG\\AppData\\Local\\Programs\\Python\\Python39\\lib\\site-packages\\sklearn\\decomposition\\_pca.py:468: RuntimeWarning:\n",
      "\n",
      "invalid value encountered in true_divide\n",
      "\n",
      "36it [00:00, 175.23it/s]Number of Portfolios: 19992\n",
      "first time: 2018Q4 - last time: 2019Q1\n",
      "19992it [01:25, 234.24it/s]\n",
      "0it [00:00, ?it/s]C:\\Users\\ALG\\AppData\\Local\\Programs\\Python\\Python39\\lib\\site-packages\\sklearn\\decomposition\\_pca.py:468: RuntimeWarning:\n",
      "\n",
      "invalid value encountered in true_divide\n",
      "\n",
      "26it [00:00, 255.49it/s]Number of Portfolios: 19997\n",
      "first time: 2019Q1 - last time: 2019Q2\n",
      "19997it [01:30, 219.85it/s]\n",
      "0it [00:00, ?it/s]C:\\Users\\ALG\\AppData\\Local\\Programs\\Python\\Python39\\lib\\site-packages\\sklearn\\decomposition\\_pca.py:468: RuntimeWarning:\n",
      "\n",
      "invalid value encountered in true_divide\n",
      "\n",
      "48it [00:00, 237.24it/s]Number of Portfolios: 19994\n",
      "first time: 2019Q2 - last time: 2019Q3\n",
      "19994it [01:28, 225.20it/s]\n",
      "0it [00:00, ?it/s]C:\\Users\\ALG\\AppData\\Local\\Programs\\Python\\Python39\\lib\\site-packages\\sklearn\\decomposition\\_pca.py:468: RuntimeWarning:\n",
      "\n",
      "invalid value encountered in true_divide\n",
      "\n",
      "17it [00:00, 160.81it/s]Number of Portfolios: 19996\n",
      "first time: 2019Q3 - last time: 2019Q4\n",
      "19996it [01:28, 225.78it/s]\n",
      "0it [00:00, ?it/s]C:\\Users\\ALG\\AppData\\Local\\Programs\\Python\\Python39\\lib\\site-packages\\sklearn\\decomposition\\_pca.py:468: RuntimeWarning:\n",
      "\n",
      "invalid value encountered in true_divide\n",
      "\n",
      "22it [00:00, 216.25it/s]Number of Portfolios: 19994\n",
      "first time: 2019Q4 - last time: 2020Q1\n",
      "19994it [01:27, 227.42it/s]\n",
      "0it [00:00, ?it/s]C:\\Users\\ALG\\AppData\\Local\\Programs\\Python\\Python39\\lib\\site-packages\\sklearn\\decomposition\\_pca.py:468: RuntimeWarning:\n",
      "\n",
      "invalid value encountered in true_divide\n",
      "\n",
      "51it [00:00, 248.63it/s]Number of Portfolios: 19996\n",
      "first time: 2020Q1 - last time: 2020Q2\n",
      "19996it [01:25, 233.10it/s]\n",
      "0it [00:00, ?it/s]C:\\Users\\ALG\\AppData\\Local\\Programs\\Python\\Python39\\lib\\site-packages\\sklearn\\decomposition\\_pca.py:468: RuntimeWarning:\n",
      "\n",
      "invalid value encountered in true_divide\n",
      "\n",
      "50it [00:00, 247.06it/s]Number of Portfolios: 19998\n",
      "first time: 2020Q2 - last time: 2020Q3\n",
      "19998it [01:24, 236.50it/s]\n",
      "0it [00:00, ?it/s]C:\\Users\\ALG\\AppData\\Local\\Programs\\Python\\Python39\\lib\\site-packages\\sklearn\\decomposition\\_pca.py:468: RuntimeWarning:\n",
      "\n",
      "invalid value encountered in true_divide\n",
      "\n",
      "52it [00:00, 250.71it/s]Number of Portfolios: 19995\n",
      "first time: 2020Q3 - last time: 2020Q4\n",
      "19995it [01:25, 232.72it/s]\n"
     ]
    }
   ],
   "source": [
    "ini_port = [list(week_return_sort.columns[:4]),list(week_return_sort.columns[:5])]\n",
    "dd = {}\n",
    "for i in ini_port:\n",
    "    dd[len(i)]  = pca_per(return_data = week_return_sort, initial_port = i, interval = \"Q\", ret_range_mean = 4)\n",
    "    "
   ]
  },
  {
   "cell_type": "code",
   "execution_count": 72,
   "metadata": {},
   "outputs": [
    {
     "output_type": "error",
     "ename": "KeyError",
     "evalue": "7",
     "traceback": [
      "\u001b[1;31m---------------------------------------------------------------------------\u001b[0m",
      "\u001b[1;31mKeyError\u001b[0m                                  Traceback (most recent call last)",
      "\u001b[1;32m<ipython-input-72-120669caaf28>\u001b[0m in \u001b[0;36m<module>\u001b[1;34m\u001b[0m\n\u001b[1;32m----> 1\u001b[1;33m \u001b[0mpdi_4\u001b[0m \u001b[1;33m=\u001b[0m \u001b[0mpd\u001b[0m\u001b[1;33m.\u001b[0m\u001b[0mDataFrame\u001b[0m\u001b[1;33m(\u001b[0m\u001b[0mdd\u001b[0m\u001b[1;33m[\u001b[0m\u001b[1;36m7\u001b[0m\u001b[1;33m]\u001b[0m\u001b[1;33m[\u001b[0m\u001b[1;36m1\u001b[0m\u001b[1;33m]\u001b[0m\u001b[1;33m)\u001b[0m\u001b[1;33m.\u001b[0m\u001b[0mT\u001b[0m\u001b[1;33m\u001b[0m\u001b[1;33m\u001b[0m\u001b[0m\n\u001b[0m\u001b[0;32m      2\u001b[0m \u001b[0mpdi_4\u001b[0m\u001b[1;33m.\u001b[0m\u001b[0mcolumns\u001b[0m \u001b[1;33m=\u001b[0m \u001b[1;33m[\u001b[0m\u001b[1;34m\"performance_eq_pdi\"\u001b[0m\u001b[1;33m,\u001b[0m\u001b[1;34m\"sharpe_performance_eq_2_pdi\"\u001b[0m\u001b[1;33m,\u001b[0m\u001b[1;34m\"sharpe_performance_eq_3_pdi\"\u001b[0m\u001b[1;33m,\u001b[0m\u001b[1;34m\"sharpe_performance_eq_max_pdi\"\u001b[0m\u001b[1;33m]\u001b[0m\u001b[1;33m\u001b[0m\u001b[1;33m\u001b[0m\u001b[0m\n",
      "\u001b[1;31mKeyError\u001b[0m: 7"
     ]
    }
   ],
   "source": [
    "pdi_4 = pd.DataFrame(dd[7][1]).T\n",
    "pdi_4.columns = [\"performance_eq_pdi\",\"sharpe_performance_eq_2_pdi\",\"sharpe_performance_eq_3_pdi\",\"sharpe_performance_eq_max_pdi\"]"
   ]
  },
  {
   "cell_type": "code",
   "execution_count": 479,
   "metadata": {},
   "outputs": [],
   "source": [
    "fig = px.line(pdi_4, y=pdi_4.columns)\n",
    "fig.show()"
   ]
  },
  {
   "cell_type": "code",
   "execution_count": 73,
   "metadata": {},
   "outputs": [
    {
     "output_type": "execute_result",
     "data": {
      "text/plain": [
       "          Time   per_pdi  per_sharpe_2  per_sharpe_3  per_sharpe_max  \\\n",
       "0   2015-01-14  0.001588      0.001588      0.001588        0.001588   \n",
       "1   2015-01-21  0.008167      0.008167      0.008167        0.008167   \n",
       "2   2015-01-28  0.001787      0.001787      0.001787        0.001787   \n",
       "3   2015-02-04  0.009812      0.009812      0.009812        0.009812   \n",
       "4   2015-02-11  0.015284      0.015284      0.015284        0.015284   \n",
       "..         ...       ...           ...           ...             ...   \n",
       "303 2020-12-02 -0.000056      0.002020      0.004623       -0.009444   \n",
       "304 2020-12-09  0.002555      0.016043      0.005470        0.011565   \n",
       "305 2020-12-16  0.062691      0.072328      0.064660        0.080509   \n",
       "306 2020-12-23  0.054035      0.082114      0.060688        0.104994   \n",
       "307 2020-12-30 -0.007069     -0.020827     -0.008116       -0.012750   \n",
       "\n",
       "         URTH  per_pdi_cum  per_sharpe_cum_2  per_sharpe_cum_3  \\\n",
       "0    0.002868     0.001588          0.001588          0.001588   \n",
       "1    0.009723     0.009755          0.009755          0.009755   \n",
       "2    0.001416     0.011543          0.011543          0.011543   \n",
       "3    0.007070     0.021354          0.021354          0.021354   \n",
       "4    0.010812     0.036638          0.036638          0.036638   \n",
       "..        ...          ...               ...               ...   \n",
       "303  0.010635     1.120348          1.587036          1.376258   \n",
       "304  0.004082     1.122902          1.603079          1.381728   \n",
       "305  0.011244     1.185593          1.675408          1.446388   \n",
       "306  0.000090     1.239629          1.757522          1.507076   \n",
       "307  0.010438     1.232559          1.736695          1.498961   \n",
       "\n",
       "     per_sharpe_cum_max  URTH_cum  \n",
       "0              0.001588  0.002868  \n",
       "1              0.009755  0.012590  \n",
       "2              0.011543  0.014006  \n",
       "3              0.021354  0.021076  \n",
       "4              0.036638  0.031888  \n",
       "..                  ...       ...  \n",
       "303            1.371002  0.657226  \n",
       "304            1.382568  0.661309  \n",
       "305            1.463076  0.672552  \n",
       "306            1.568070  0.672642  \n",
       "307            1.555320  0.683081  \n",
       "\n",
       "[308 rows x 11 columns]"
      ],
      "text/html": "<div>\n<style scoped>\n    .dataframe tbody tr th:only-of-type {\n        vertical-align: middle;\n    }\n\n    .dataframe tbody tr th {\n        vertical-align: top;\n    }\n\n    .dataframe thead th {\n        text-align: right;\n    }\n</style>\n<table border=\"1\" class=\"dataframe\">\n  <thead>\n    <tr style=\"text-align: right;\">\n      <th></th>\n      <th>Time</th>\n      <th>per_pdi</th>\n      <th>per_sharpe_2</th>\n      <th>per_sharpe_3</th>\n      <th>per_sharpe_max</th>\n      <th>URTH</th>\n      <th>per_pdi_cum</th>\n      <th>per_sharpe_cum_2</th>\n      <th>per_sharpe_cum_3</th>\n      <th>per_sharpe_cum_max</th>\n      <th>URTH_cum</th>\n    </tr>\n  </thead>\n  <tbody>\n    <tr>\n      <th>0</th>\n      <td>2015-01-14</td>\n      <td>0.001588</td>\n      <td>0.001588</td>\n      <td>0.001588</td>\n      <td>0.001588</td>\n      <td>0.002868</td>\n      <td>0.001588</td>\n      <td>0.001588</td>\n      <td>0.001588</td>\n      <td>0.001588</td>\n      <td>0.002868</td>\n    </tr>\n    <tr>\n      <th>1</th>\n      <td>2015-01-21</td>\n      <td>0.008167</td>\n      <td>0.008167</td>\n      <td>0.008167</td>\n      <td>0.008167</td>\n      <td>0.009723</td>\n      <td>0.009755</td>\n      <td>0.009755</td>\n      <td>0.009755</td>\n      <td>0.009755</td>\n      <td>0.012590</td>\n    </tr>\n    <tr>\n      <th>2</th>\n      <td>2015-01-28</td>\n      <td>0.001787</td>\n      <td>0.001787</td>\n      <td>0.001787</td>\n      <td>0.001787</td>\n      <td>0.001416</td>\n      <td>0.011543</td>\n      <td>0.011543</td>\n      <td>0.011543</td>\n      <td>0.011543</td>\n      <td>0.014006</td>\n    </tr>\n    <tr>\n      <th>3</th>\n      <td>2015-02-04</td>\n      <td>0.009812</td>\n      <td>0.009812</td>\n      <td>0.009812</td>\n      <td>0.009812</td>\n      <td>0.007070</td>\n      <td>0.021354</td>\n      <td>0.021354</td>\n      <td>0.021354</td>\n      <td>0.021354</td>\n      <td>0.021076</td>\n    </tr>\n    <tr>\n      <th>4</th>\n      <td>2015-02-11</td>\n      <td>0.015284</td>\n      <td>0.015284</td>\n      <td>0.015284</td>\n      <td>0.015284</td>\n      <td>0.010812</td>\n      <td>0.036638</td>\n      <td>0.036638</td>\n      <td>0.036638</td>\n      <td>0.036638</td>\n      <td>0.031888</td>\n    </tr>\n    <tr>\n      <th>...</th>\n      <td>...</td>\n      <td>...</td>\n      <td>...</td>\n      <td>...</td>\n      <td>...</td>\n      <td>...</td>\n      <td>...</td>\n      <td>...</td>\n      <td>...</td>\n      <td>...</td>\n      <td>...</td>\n    </tr>\n    <tr>\n      <th>303</th>\n      <td>2020-12-02</td>\n      <td>-0.000056</td>\n      <td>0.002020</td>\n      <td>0.004623</td>\n      <td>-0.009444</td>\n      <td>0.010635</td>\n      <td>1.120348</td>\n      <td>1.587036</td>\n      <td>1.376258</td>\n      <td>1.371002</td>\n      <td>0.657226</td>\n    </tr>\n    <tr>\n      <th>304</th>\n      <td>2020-12-09</td>\n      <td>0.002555</td>\n      <td>0.016043</td>\n      <td>0.005470</td>\n      <td>0.011565</td>\n      <td>0.004082</td>\n      <td>1.122902</td>\n      <td>1.603079</td>\n      <td>1.381728</td>\n      <td>1.382568</td>\n      <td>0.661309</td>\n    </tr>\n    <tr>\n      <th>305</th>\n      <td>2020-12-16</td>\n      <td>0.062691</td>\n      <td>0.072328</td>\n      <td>0.064660</td>\n      <td>0.080509</td>\n      <td>0.011244</td>\n      <td>1.185593</td>\n      <td>1.675408</td>\n      <td>1.446388</td>\n      <td>1.463076</td>\n      <td>0.672552</td>\n    </tr>\n    <tr>\n      <th>306</th>\n      <td>2020-12-23</td>\n      <td>0.054035</td>\n      <td>0.082114</td>\n      <td>0.060688</td>\n      <td>0.104994</td>\n      <td>0.000090</td>\n      <td>1.239629</td>\n      <td>1.757522</td>\n      <td>1.507076</td>\n      <td>1.568070</td>\n      <td>0.672642</td>\n    </tr>\n    <tr>\n      <th>307</th>\n      <td>2020-12-30</td>\n      <td>-0.007069</td>\n      <td>-0.020827</td>\n      <td>-0.008116</td>\n      <td>-0.012750</td>\n      <td>0.010438</td>\n      <td>1.232559</td>\n      <td>1.736695</td>\n      <td>1.498961</td>\n      <td>1.555320</td>\n      <td>0.683081</td>\n    </tr>\n  </tbody>\n</table>\n<p>308 rows × 11 columns</p>\n</div>"
     },
     "metadata": {},
     "execution_count": 73
    }
   ],
   "source": [
    "dd[4][0]"
   ]
  },
  {
   "cell_type": "code",
   "execution_count": 74,
   "metadata": {},
   "outputs": [],
   "source": [
    "for i in dd.keys():\n",
    "    fig = px.line(dd[i][0], x=\"Time\", y = [\"per_pdi_cum\",\"URTH_cum\",\"per_sharpe_cum_3\",\"per_sharpe_cum_2\",\"per_sharpe_cum_max\"], \\\n",
    "                    title=\"Number of Assets: {} - period interval {}\".format(i, \"Q\"))\n",
    "    fig.show()"
   ]
  },
  {
   "cell_type": "code",
   "execution_count": 75,
   "metadata": {},
   "outputs": [
    {
     "output_type": "stream",
     "name": "stdout",
     "text": [
      "Number of assets: 4\nper_pdi           0.485184\nURTH              0.359381\nper_sharpe_3      0.523993\nper_sharpe_2      0.575070\nper_sharpe_max    0.604925\ndtype: float64\n--------------------------------------------------\nNumber of assets: 5\nper_pdi           0.436987\nURTH              0.359381\nper_sharpe_3      0.502128\nper_sharpe_2      0.540384\nper_sharpe_max    0.573348\ndtype: float64\n--------------------------------------------------\n"
     ]
    }
   ],
   "source": [
    "for i in dd.keys():\n",
    "    print(\"Number of assets: {}\".format(i))\n",
    "    print(dd[i][0][[\"per_pdi\",\"URTH\",\"per_sharpe_3\",\"per_sharpe_2\",\"per_sharpe_max\"]].std()*np.sqrt(252))\n",
    "    print(50*\"-\")"
   ]
  },
  {
   "cell_type": "code",
   "execution_count": 442,
   "metadata": {},
   "outputs": [],
   "source": [
    "fig = px.line(port_per_num, x=\"Time\", y = [\"per_pdi_cum\",\"URTH_cum\",\"per_sharpe_cum_3\",\"per_sharpe_cum_2\",\"per_sharpe_cum_max\"], title=\"Number of Assets: {} - period interval {}\".format(i, \"Q\"))\n",
    "fig.show()"
   ]
  },
  {
   "cell_type": "code",
   "execution_count": null,
   "metadata": {},
   "outputs": [],
   "source": []
  },
  {
   "cell_type": "code",
   "execution_count": 341,
   "metadata": {},
   "outputs": [],
   "source": [
    "def pca_per(return_data, initial_port, interval, ret_range_mean):\n",
    "\n",
    "    data = return_data.copy() # data containing weekly returns\n",
    "    tickers = list(data.columns)\n",
    "    data.index = pd.to_datetime(data.index) # Conveting the index which is date to datetime\n",
    "    weeks_list = data.index # grabbing all index dates\n",
    "    data.index = data.index.to_period(interval) # converting the index to quarterly sets\n",
    "    periods = data.index.unique() # taking the unique quarters to loop\n",
    "\n",
    "    \n",
    "    print(periods)\n",
    "    first_period = periods[0] # the first period of the time frame\n",
    "    remaining_periods = periods[1:] # the remianing periods of the time framr\n",
    "    first_periods = periods[:-1] # all periods minus the last\n",
    "\n",
    "    def meanRetAn(data):             \n",
    "        Result = 1\n",
    "        \n",
    "        for i in data:\n",
    "            Result *= (1+i)\n",
    "            \n",
    "        Result = Result**(1/float(len(data)/ret_range_mean))-1\n",
    "        \n",
    "        return(Result)\n",
    "\n",
    "\n",
    "\n",
    "    def optimal_weights(returns, port, lambda_l, range_period):\n",
    "\n",
    "\n",
    "        def range_return_std(returns, port, weights):\n",
    "            port_geo_ret = meanRetAn(list(returns[port].mul(weights,axis=1).sum(axis=1)))\n",
    "            an_cov = returns[port].cov()\n",
    "            port_std = np.sqrt(np.dot(weights.T, np.dot(an_cov, weights)))*np.sqrt(range_period)\n",
    "            return  port_std,port_geo_ret\n",
    "\n",
    "\n",
    "\n",
    "\n",
    "        def markowitz(weights, returns,lambda_l, port):\n",
    "            p_var, p_ret = range_return_std(returns, port, weights)\n",
    "            return -( (1- lambda_l)*p_ret - lambda_l*p_var )\n",
    "            \n",
    "        def markowitz_opt(returns, port,lambda_l):\n",
    "            num_assets = len(port)\n",
    "            args = (returns, lambda_l,port)\n",
    "            constraints = ({'type': 'eq', 'fun': lambda x: np.sum(x) - 1})\n",
    "            bound = (0.1,1)\n",
    "            bounds = tuple(bound for asset in range(num_assets))\n",
    "            result = sco.minimize(markowitz, num_assets*[1./num_assets,], args=args,\n",
    "                                method='SLSQP', bounds=bounds, constraints=constraints)\n",
    "            return result\n",
    "\n",
    "\n",
    "\n",
    "        mark = markowitz_opt(returns, port, lambda_l).x\n",
    "\n",
    "\n",
    "\n",
    "        return list(mark)\n",
    "\n",
    "\n",
    "\n",
    "    def port_ret(returns,port, period): # function for calculating returns\n",
    "        n_assets = len(port)\n",
    "        portfolio_weights_ew = np.repeat(1/n_assets, n_assets)\n",
    "        port_return = returns.loc[period][port].mul(portfolio_weights_ew,axis=1).sum(axis=1)\n",
    "        return  port_return\n",
    "\n",
    "\n",
    "    \n",
    "    def port_ret_w(returns,port,period,weights): # Calculating weightes returns\n",
    "        port_return = returns.loc[period][port].mul(weights,axis=1).sum(axis=1)\n",
    "        return  port_return\n",
    "\n",
    "\n",
    "\n",
    "    performance_eq = []\n",
    "    sharpe_performance_eq = []\n",
    "    performance_w = []\n",
    "    sharpe_performance_w = []\n",
    "    weights = []\n",
    "    weight_sr = []\n",
    "    ############################################################ Calculate first period ####################################################################################\n",
    "    #### Equal weight #####\n",
    "    print(first_period)\n",
    "    performance_eq.extend(port_ret(data, initial_port,first_period))\n",
    "    sharpe_performance_eq.extend(port_ret(data, initial_port,first_period))\n",
    "    tickers_weekly = list(data.columns)\n",
    "    number_of_assets = [len(initial_port)]\n",
    "\n",
    "    #### Weighted weight #####\n",
    "    init_data = data.loc[first_period]\n",
    "    ww = optimal_weights(init_data,initial_port,0.5,30)\n",
    "    weights.append(ww)\n",
    "    weight_sr.append(ww)\n",
    "    performance_w.extend(port_ret_w(data, initial_port, first_period,ww))\n",
    "    sharpe_performance_w.extend(port_ret_w(data, initial_port, first_period,ww))\n",
    "\n",
    "\n",
    "\n",
    "\n",
    "\n",
    "    ################################################################## Portfolio Creation ###################################################################################\n",
    "    samples = [[\"SPY\"]]\n",
    "    for number in [len(initial_port)]:\n",
    "        for i in range(1,2000):\n",
    "            #samples.extend([list(x) for x in combinations(selected_tickers, number_of_assets)])\n",
    "            samples.append(random.sample(list(tickers),number))\n",
    "    samples_mini = []\n",
    "    for i in samples:\n",
    "        if i not in samples_mini:\n",
    "            samples_mini.append(i)\n",
    "\n",
    "    print(\"Number of Portfolios: {}\".format(len(samples_mini)))\n",
    "\n",
    "    vol_d = {}\n",
    "    ######################################################## Calculation of portfolio perfomnce #############################################################################\n",
    "\n",
    "    for init_time, next_time in zip(first_periods,remaining_periods):\n",
    "        print(\"first time: {} - last time: {}\".format(init_time, next_time))\n",
    "        PDI_DF, SPY_DF = calculate_pdi(weekly_returns = data.loc[init_time].dropna(axis=1), portfolios = samples_mini, return_mean_range = 30)\n",
    "\n",
    "        q1,q2 = PDI_DF[\"PDI_INDEX\"].quantile([0.20,0.85])\n",
    "        r1,r2 = PDI_DF[\"Annual Return\"].quantile([0.4,0.85])\n",
    "\n",
    "\n",
    "        #Taking the higest return within the range\n",
    "        SPY_vol_lower = SPY_DF[\"Annual STD\"] - 0.04 # allowing for a little room of divergence to find a asset match\n",
    "        SPY_vol_upper = SPY_DF[\"Annual STD\"] + 0.01# allowing for a little room of divergence to find a asset match\n",
    "\n",
    "        PDI_rev = PDI_DF[(PDI_DF[\"Annual STD\"] >= SPY_vol_lower) & (PDI_DF[\"Annual STD\"] <= SPY_vol_upper) & (PDI_DF[\"PDI_INDEX\"] >= q1) & (PDI_DF[\"PDI_INDEX\"] <= q2)\\\n",
    "                         & (PDI_DF[\"Annual STD\"] <= SPY_vol_upper) & (PDI_DF[\"Annual Return\"] >= r1) & (PDI_DF[\"Annual Return\"] <= r2)\\\n",
    "                         & (PDI_DF[\"PDI_INDEX\"] >= q1)].reset_index().drop(columns=\"index\")\n",
    "\n",
    "\n",
    "        # fig = px.scatter(PDI_DF,  color=\"Annual STD\", y=\"Annual Return\", x=\"PDI_INDEX\")\n",
    "        # fig.show()\n",
    "\n",
    "\n",
    "        ################################################## Taking the higest return within the range ##########################################################################\n",
    "\n",
    "        id = PDI_rev[\"Annual Return\"].idxmax()\n",
    "        port_max_ret = PDI_rev[\"Assets\"][id]\n",
    "        \n",
    "        port_max_ret_period = port_ret(data,port_max_ret, next_time)\n",
    "        performance_eq.extend(port_max_ret_period)\n",
    "\n",
    "        ###### Weighted ###########\n",
    "        period_return = data.loc[next_time]\n",
    "        max_ww = optimal_weights(period_return,port_max_ret,0.5,30)\n",
    "        weights.append(max_ww)\n",
    "        port_max_ret_period_w = port_ret_w(data, port_max_ret,next_time,max_ww)\n",
    "        performance_w.extend(port_max_ret_period_w)\n",
    "    \n",
    "\n",
    "        ################################################### Taking the best Sharpe Ratio within the range ######################################################################\n",
    "\n",
    "        id_sharpe = PDI_rev[\"Sharpe Ratio\"].idxmax()\n",
    "        port_max_sharpe = PDI_rev[\"Assets\"][id_sharpe]\n",
    "        \n",
    "        port_max_sharpe_period = port_ret(data,port_max_sharpe, next_time)\n",
    "        sharpe_performance_eq.extend(port_max_sharpe_period)\n",
    "\n",
    "        ###### Weighted ###########\n",
    "        max_ww_sr = optimal_weights(period_return,port_max_sharpe,0.5,30)\n",
    "        weight_sr.append(max_ww_sr)\n",
    "        port_max_sharpe_period_w = port_ret_w(data, port_max_sharpe,next_time,max_ww_sr)\n",
    "        sharpe_performance_w.extend(port_max_sharpe_period_w)\n",
    "\n",
    "\n",
    "\n",
    "\n",
    "\n",
    "\n",
    "    dd = pd.DataFrame()\n",
    "    dd[\"Time\"] = weeks_list\n",
    "    dd[\"per_eq\"] = performance_eq\n",
    "    dd[\"per_w\"] = performance_w\n",
    "    dd[\"SPY\"] = list(data[\"SPY\"])\n",
    "    dd[\"sharpe_eq\"] = sharpe_performance_eq\n",
    "    dd[\"sharpe_w\"] = sharpe_performance_w\n",
    "    dd[\"per_eq_cum\"] = dd[\"per_eq\"].cumsum(axis=0)\n",
    "    dd[\"per_w_cum\"] = dd[\"per_w\"].cumsum(axis=0)\n",
    "    dd[\"SPY_cum\"] = dd[\"SPY\"].cumsum(axis=0)\n",
    "    dd[\"sharpe_eq_cum\"] = dd[\"sharpe_eq\"].cumsum(axis=0)\n",
    "    dd[\"sharpe_w_cum\"] = dd[\"sharpe_w\"].cumsum(axis=0)\n",
    "    #fig = px.line(dd, x=\"Time\", y = [\"per_eq_cum\",\"SPY_cum\",\"sharpe_eq_cum\",\"sharpe_w_cum\",\"per_w_cum\"], title=\"Number of Assets: {} - period interval {}\".format(len(initial_port), interval))\n",
    "\n",
    "\n",
    "\n",
    "\n",
    "    return fig, dd, weights,weight_sr\n",
    "\n",
    "\n"
   ]
  },
  {
   "cell_type": "code",
   "execution_count": 342,
   "metadata": {},
   "outputs": [],
   "source": [
    "daily_prices = pd.read_csv(\"DailyPrices.csv\", index_col=\"Date\")"
   ]
  },
  {
   "cell_type": "code",
   "execution_count": 343,
   "metadata": {},
   "outputs": [],
   "source": [
    "daily_prices = daily_prices.dropna(axis=1)"
   ]
  },
  {
   "cell_type": "code",
   "execution_count": 344,
   "metadata": {},
   "outputs": [
    {
     "output_type": "execute_result",
     "data": {
      "text/plain": [
       "                 SPY       IVV       VTI       VOO       QQQ       VEA  \\\n",
       "Date                                                                     \n",
       "2015-01-05 -0.018059 -0.017559 -0.017183 -0.017569 -0.014669 -0.022287   \n",
       "2015-01-06 -0.009419 -0.009010 -0.009798 -0.009833 -0.013408 -0.011126   \n",
       "2015-01-07  0.012461  0.012371  0.011933  0.012495  0.012891  0.010703   \n",
       "2015-01-08  0.017745  0.017864  0.017640  0.017569  0.019140  0.015205   \n",
       "2015-01-09 -0.008013 -0.008438 -0.008290 -0.008421 -0.006583 -0.004814   \n",
       "\n",
       "                IEFA       VWO       VUG      IEMG  ...      IDMO       PXJ  \\\n",
       "Date                                                ...                       \n",
       "2015-01-05 -0.022459 -0.015925 -0.017458 -0.015239  ...  0.000000 -0.041714   \n",
       "2015-01-06 -0.010376 -0.004880 -0.009470 -0.005231  ... -0.048465 -0.022063   \n",
       "2015-01-07  0.010298  0.022974  0.012517  0.020596  ...  0.008554 -0.006707   \n",
       "2015-01-08  0.012787  0.016906  0.017619  0.017819  ...  0.000000  0.014733   \n",
       "2015-01-09 -0.004575 -0.004963 -0.007461 -0.003586  ... -0.002699 -0.017544   \n",
       "\n",
       "                 FLM      FTLB      NFTY      FTAG      CHII      CHIM  \\\n",
       "Date                                                                     \n",
       "2015-01-05 -0.025698  0.004931  0.003053 -0.013078 -0.014325  0.073320   \n",
       "2015-01-06 -0.011823 -0.020609 -0.017156  0.013252 -0.020069 -0.012018   \n",
       "2015-01-07  0.003682  0.008016  0.010417  0.011066  0.012712  0.003841   \n",
       "2015-01-08  0.013984  0.000000  0.027584  0.015921 -0.002789  0.003189   \n",
       "2015-01-09 -0.009722  0.009941 -0.008134  0.036239 -0.005594  0.000000   \n",
       "\n",
       "                CHIE       LTL  \n",
       "Date                            \n",
       "2015-01-05  0.000746 -0.032846  \n",
       "2015-01-06  0.000000 -0.025528  \n",
       "2015-01-07 -0.020880  0.001067  \n",
       "2015-01-08  0.044174  0.023091  \n",
       "2015-01-09 -0.015317 -0.013194  \n",
       "\n",
       "[5 rows x 682 columns]"
      ],
      "text/html": "<div>\n<style scoped>\n    .dataframe tbody tr th:only-of-type {\n        vertical-align: middle;\n    }\n\n    .dataframe tbody tr th {\n        vertical-align: top;\n    }\n\n    .dataframe thead th {\n        text-align: right;\n    }\n</style>\n<table border=\"1\" class=\"dataframe\">\n  <thead>\n    <tr style=\"text-align: right;\">\n      <th></th>\n      <th>SPY</th>\n      <th>IVV</th>\n      <th>VTI</th>\n      <th>VOO</th>\n      <th>QQQ</th>\n      <th>VEA</th>\n      <th>IEFA</th>\n      <th>VWO</th>\n      <th>VUG</th>\n      <th>IEMG</th>\n      <th>...</th>\n      <th>IDMO</th>\n      <th>PXJ</th>\n      <th>FLM</th>\n      <th>FTLB</th>\n      <th>NFTY</th>\n      <th>FTAG</th>\n      <th>CHII</th>\n      <th>CHIM</th>\n      <th>CHIE</th>\n      <th>LTL</th>\n    </tr>\n    <tr>\n      <th>Date</th>\n      <th></th>\n      <th></th>\n      <th></th>\n      <th></th>\n      <th></th>\n      <th></th>\n      <th></th>\n      <th></th>\n      <th></th>\n      <th></th>\n      <th></th>\n      <th></th>\n      <th></th>\n      <th></th>\n      <th></th>\n      <th></th>\n      <th></th>\n      <th></th>\n      <th></th>\n      <th></th>\n      <th></th>\n    </tr>\n  </thead>\n  <tbody>\n    <tr>\n      <th>2015-01-05</th>\n      <td>-0.018059</td>\n      <td>-0.017559</td>\n      <td>-0.017183</td>\n      <td>-0.017569</td>\n      <td>-0.014669</td>\n      <td>-0.022287</td>\n      <td>-0.022459</td>\n      <td>-0.015925</td>\n      <td>-0.017458</td>\n      <td>-0.015239</td>\n      <td>...</td>\n      <td>0.000000</td>\n      <td>-0.041714</td>\n      <td>-0.025698</td>\n      <td>0.004931</td>\n      <td>0.003053</td>\n      <td>-0.013078</td>\n      <td>-0.014325</td>\n      <td>0.073320</td>\n      <td>0.000746</td>\n      <td>-0.032846</td>\n    </tr>\n    <tr>\n      <th>2015-01-06</th>\n      <td>-0.009419</td>\n      <td>-0.009010</td>\n      <td>-0.009798</td>\n      <td>-0.009833</td>\n      <td>-0.013408</td>\n      <td>-0.011126</td>\n      <td>-0.010376</td>\n      <td>-0.004880</td>\n      <td>-0.009470</td>\n      <td>-0.005231</td>\n      <td>...</td>\n      <td>-0.048465</td>\n      <td>-0.022063</td>\n      <td>-0.011823</td>\n      <td>-0.020609</td>\n      <td>-0.017156</td>\n      <td>0.013252</td>\n      <td>-0.020069</td>\n      <td>-0.012018</td>\n      <td>0.000000</td>\n      <td>-0.025528</td>\n    </tr>\n    <tr>\n      <th>2015-01-07</th>\n      <td>0.012461</td>\n      <td>0.012371</td>\n      <td>0.011933</td>\n      <td>0.012495</td>\n      <td>0.012891</td>\n      <td>0.010703</td>\n      <td>0.010298</td>\n      <td>0.022974</td>\n      <td>0.012517</td>\n      <td>0.020596</td>\n      <td>...</td>\n      <td>0.008554</td>\n      <td>-0.006707</td>\n      <td>0.003682</td>\n      <td>0.008016</td>\n      <td>0.010417</td>\n      <td>0.011066</td>\n      <td>0.012712</td>\n      <td>0.003841</td>\n      <td>-0.020880</td>\n      <td>0.001067</td>\n    </tr>\n    <tr>\n      <th>2015-01-08</th>\n      <td>0.017745</td>\n      <td>0.017864</td>\n      <td>0.017640</td>\n      <td>0.017569</td>\n      <td>0.019140</td>\n      <td>0.015205</td>\n      <td>0.012787</td>\n      <td>0.016906</td>\n      <td>0.017619</td>\n      <td>0.017819</td>\n      <td>...</td>\n      <td>0.000000</td>\n      <td>0.014733</td>\n      <td>0.013984</td>\n      <td>0.000000</td>\n      <td>0.027584</td>\n      <td>0.015921</td>\n      <td>-0.002789</td>\n      <td>0.003189</td>\n      <td>0.044174</td>\n      <td>0.023091</td>\n    </tr>\n    <tr>\n      <th>2015-01-09</th>\n      <td>-0.008013</td>\n      <td>-0.008438</td>\n      <td>-0.008290</td>\n      <td>-0.008421</td>\n      <td>-0.006583</td>\n      <td>-0.004814</td>\n      <td>-0.004575</td>\n      <td>-0.004963</td>\n      <td>-0.007461</td>\n      <td>-0.003586</td>\n      <td>...</td>\n      <td>-0.002699</td>\n      <td>-0.017544</td>\n      <td>-0.009722</td>\n      <td>0.009941</td>\n      <td>-0.008134</td>\n      <td>0.036239</td>\n      <td>-0.005594</td>\n      <td>0.000000</td>\n      <td>-0.015317</td>\n      <td>-0.013194</td>\n    </tr>\n  </tbody>\n</table>\n<p>5 rows × 682 columns</p>\n</div>"
     },
     "metadata": {},
     "execution_count": 344
    }
   ],
   "source": [
    "daily_prices = daily_prices.pct_change().dropna(axis=0)\n",
    "daily_prices.head()"
   ]
  },
  {
   "cell_type": "code",
   "execution_count": 345,
   "metadata": {},
   "outputs": [],
   "source": [
    "ti = fundamental_df[(-fundamental_df[\"Category\"].isin(['Trading--Leveraged Equity','Trading--Inverse Equity']))]\n",
    "tttt = list(ti.index)\n",
    "tttt.append(\"SPY\")\n",
    "\n",
    "daily_prices = daily_prices[daily_prices.columns.intersection(tttt)]"
   ]
  },
  {
   "cell_type": "code",
   "execution_count": 346,
   "metadata": {},
   "outputs": [
    {
     "output_type": "stream",
     "name": "stderr",
     "text": [
      "0it [00:00, ?it/s]PeriodIndex(['2015Q1', '2015Q2', '2015Q3', '2015Q4', '2016Q1', '2016Q2',\n",
      "             '2016Q3', '2016Q4', '2017Q1', '2017Q2', '2017Q3', '2017Q4',\n",
      "             '2018Q1', '2018Q2', '2018Q3', '2018Q4', '2019Q1', '2019Q2',\n",
      "             '2019Q3', '2019Q4', '2020Q1', '2020Q2', '2020Q3', '2020Q4'],\n",
      "            dtype='period[Q-DEC]', name='Date', freq='Q-DEC')\n",
      "2015Q1\n",
      "Number of Portfolios: 2000\n",
      "first time: 2015Q1 - last time: 2015Q2\n",
      "2000it [00:05, 370.28it/s]\n"
     ]
    },
    {
     "output_type": "error",
     "ename": "ValueError",
     "evalue": "too many values to unpack (expected 2)",
     "traceback": [
      "\u001b[0;31m---------------------------------------------------------------------------\u001b[0m",
      "\u001b[0;31mValueError\u001b[0m                                Traceback (most recent call last)",
      "\u001b[0;32m<ipython-input-346-867041661034>\u001b[0m in \u001b[0;36m<module>\u001b[0;34m\u001b[0m\n\u001b[0;32m----> 1\u001b[0;31m \u001b[0mfig\u001b[0m\u001b[0;34m,\u001b[0m \u001b[0mdd\u001b[0m\u001b[0;34m,\u001b[0m \u001b[0mweights\u001b[0m\u001b[0;34m,\u001b[0m\u001b[0mweight_sr\u001b[0m \u001b[0;34m=\u001b[0m \u001b[0mpca_per\u001b[0m\u001b[0;34m(\u001b[0m\u001b[0mdaily_prices\u001b[0m\u001b[0;34m,\u001b[0m\u001b[0mlist\u001b[0m\u001b[0;34m(\u001b[0m\u001b[0mdaily_prices\u001b[0m\u001b[0;34m.\u001b[0m\u001b[0miloc\u001b[0m\u001b[0;34m[\u001b[0m\u001b[0;34m:\u001b[0m\u001b[0;34m,\u001b[0m\u001b[0;34m:\u001b[0m\u001b[0;36m4\u001b[0m\u001b[0;34m]\u001b[0m\u001b[0;34m.\u001b[0m\u001b[0mcolumns\u001b[0m\u001b[0;34m)\u001b[0m\u001b[0;34m,\u001b[0m \u001b[0minterval\u001b[0m\u001b[0;34m=\u001b[0m\u001b[0;34m\"Q\"\u001b[0m\u001b[0;34m,\u001b[0m\u001b[0mret_range_mean\u001b[0m\u001b[0;34m=\u001b[0m\u001b[0;36m30\u001b[0m\u001b[0;34m)\u001b[0m\u001b[0;34m\u001b[0m\u001b[0;34m\u001b[0m\u001b[0m\n\u001b[0m\u001b[1;32m      2\u001b[0m \u001b[0mfig\u001b[0m\u001b[0;34m.\u001b[0m\u001b[0mshow\u001b[0m\u001b[0;34m(\u001b[0m\u001b[0;34m)\u001b[0m\u001b[0;34m\u001b[0m\u001b[0;34m\u001b[0m\u001b[0m\n",
      "\u001b[0;32m<ipython-input-341-b3aaf9effa15>\u001b[0m in \u001b[0;36mpca_per\u001b[0;34m(return_data, initial_port, interval, ret_range_mean)\u001b[0m\n\u001b[1;32m    120\u001b[0m     \u001b[0;32mfor\u001b[0m \u001b[0minit_time\u001b[0m\u001b[0;34m,\u001b[0m \u001b[0mnext_time\u001b[0m \u001b[0;32min\u001b[0m \u001b[0mzip\u001b[0m\u001b[0;34m(\u001b[0m\u001b[0mfirst_periods\u001b[0m\u001b[0;34m,\u001b[0m\u001b[0mremaining_periods\u001b[0m\u001b[0;34m)\u001b[0m\u001b[0;34m:\u001b[0m\u001b[0;34m\u001b[0m\u001b[0;34m\u001b[0m\u001b[0m\n\u001b[1;32m    121\u001b[0m         \u001b[0mprint\u001b[0m\u001b[0;34m(\u001b[0m\u001b[0;34m\"first time: {} - last time: {}\"\u001b[0m\u001b[0;34m.\u001b[0m\u001b[0mformat\u001b[0m\u001b[0;34m(\u001b[0m\u001b[0minit_time\u001b[0m\u001b[0;34m,\u001b[0m \u001b[0mnext_time\u001b[0m\u001b[0;34m)\u001b[0m\u001b[0;34m)\u001b[0m\u001b[0;34m\u001b[0m\u001b[0;34m\u001b[0m\u001b[0m\n\u001b[0;32m--> 122\u001b[0;31m         \u001b[0mPDI_DF\u001b[0m\u001b[0;34m,\u001b[0m \u001b[0mSPY_DF\u001b[0m \u001b[0;34m=\u001b[0m \u001b[0mcalculate_pdi\u001b[0m\u001b[0;34m(\u001b[0m\u001b[0mweekly_returns\u001b[0m \u001b[0;34m=\u001b[0m \u001b[0mdata\u001b[0m\u001b[0;34m.\u001b[0m\u001b[0mloc\u001b[0m\u001b[0;34m[\u001b[0m\u001b[0minit_time\u001b[0m\u001b[0;34m]\u001b[0m\u001b[0;34m.\u001b[0m\u001b[0mdropna\u001b[0m\u001b[0;34m(\u001b[0m\u001b[0maxis\u001b[0m\u001b[0;34m=\u001b[0m\u001b[0;36m1\u001b[0m\u001b[0;34m)\u001b[0m\u001b[0;34m,\u001b[0m \u001b[0mportfolios\u001b[0m \u001b[0;34m=\u001b[0m \u001b[0msamples_mini\u001b[0m\u001b[0;34m,\u001b[0m \u001b[0mreturn_mean_range\u001b[0m \u001b[0;34m=\u001b[0m \u001b[0;36m30\u001b[0m\u001b[0;34m)\u001b[0m\u001b[0;34m\u001b[0m\u001b[0;34m\u001b[0m\u001b[0m\n\u001b[0m\u001b[1;32m    123\u001b[0m \u001b[0;34m\u001b[0m\u001b[0m\n\u001b[1;32m    124\u001b[0m         \u001b[0mq1\u001b[0m\u001b[0;34m,\u001b[0m\u001b[0mq2\u001b[0m \u001b[0;34m=\u001b[0m \u001b[0mPDI_DF\u001b[0m\u001b[0;34m[\u001b[0m\u001b[0;34m\"PDI_INDEX\"\u001b[0m\u001b[0;34m]\u001b[0m\u001b[0;34m.\u001b[0m\u001b[0mquantile\u001b[0m\u001b[0;34m(\u001b[0m\u001b[0;34m[\u001b[0m\u001b[0;36m0.20\u001b[0m\u001b[0;34m,\u001b[0m\u001b[0;36m0.85\u001b[0m\u001b[0;34m]\u001b[0m\u001b[0;34m)\u001b[0m\u001b[0;34m\u001b[0m\u001b[0;34m\u001b[0m\u001b[0m\n",
      "\u001b[0;31mValueError\u001b[0m: too many values to unpack (expected 2)"
     ]
    }
   ],
   "source": [
    "fig, dd, weights,weight_sr = pca_per(daily_prices,list(daily_prices.iloc[:,:4].columns), interval=\"Q\",ret_range_mean=30)\n",
    "fig.show()"
   ]
  },
  {
   "cell_type": "code",
   "execution_count": 70,
   "metadata": {},
   "outputs": [
    {
     "output_type": "execute_result",
     "data": {
      "text/plain": [
       "           Time    per_eq     per_w       SPY  sharpe_eq  sharpe_w  \\\n",
       "0    2015-01-05 -0.019683 -0.021296 -0.018059  -0.019683 -0.021296   \n",
       "1    2015-01-06 -0.008950 -0.010037 -0.009419  -0.008950 -0.010037   \n",
       "2    2015-01-07  0.014109  0.011947  0.012461   0.014109  0.011947   \n",
       "3    2015-01-08  0.015661  0.014682  0.017745   0.015661  0.014682   \n",
       "4    2015-01-09 -0.005591 -0.005055 -0.008013  -0.005591 -0.005055   \n",
       "...         ...       ...       ...       ...        ...       ...   \n",
       "1505 2020-12-24  0.002210  0.001451  0.003890  -0.001312 -0.004147   \n",
       "1506 2020-12-28 -0.004679 -0.008660  0.008591   0.006064  0.005777   \n",
       "1507 2020-12-29 -0.001510 -0.001861 -0.001908   0.005496  0.010330   \n",
       "1508 2020-12-30  0.009130  0.012354  0.001427   0.004235  0.006554   \n",
       "1509 2020-12-31 -0.000734 -0.002174  0.005081   0.003749  0.001417   \n",
       "\n",
       "      per_eq_cum  per_w_cum   SPY_cum  sharpe_eq_cum  sharpe_w_cum  \n",
       "0      -0.019683  -0.021296 -0.018059      -0.019683     -0.021296  \n",
       "1      -0.028633  -0.031333 -0.027478      -0.028633     -0.031333  \n",
       "2      -0.014524  -0.019386 -0.015017      -0.014524     -0.019386  \n",
       "3       0.001136  -0.004704  0.002728       0.001136     -0.004704  \n",
       "4      -0.004455  -0.009759 -0.005286      -0.004455     -0.009759  \n",
       "...          ...        ...       ...            ...           ...  \n",
       "1505    0.368491   0.877582  0.804173       0.553772      1.078221  \n",
       "1506    0.363813   0.868922  0.812764       0.559836      1.083998  \n",
       "1507    0.362303   0.867062  0.810856       0.565332      1.094327  \n",
       "1508    0.371433   0.879415  0.812283       0.569567      1.100881  \n",
       "1509    0.370699   0.877241  0.817364       0.573317      1.102298  \n",
       "\n",
       "[1510 rows x 11 columns]"
      ],
      "text/html": "<div>\n<style scoped>\n    .dataframe tbody tr th:only-of-type {\n        vertical-align: middle;\n    }\n\n    .dataframe tbody tr th {\n        vertical-align: top;\n    }\n\n    .dataframe thead th {\n        text-align: right;\n    }\n</style>\n<table border=\"1\" class=\"dataframe\">\n  <thead>\n    <tr style=\"text-align: right;\">\n      <th></th>\n      <th>Time</th>\n      <th>per_eq</th>\n      <th>per_w</th>\n      <th>SPY</th>\n      <th>sharpe_eq</th>\n      <th>sharpe_w</th>\n      <th>per_eq_cum</th>\n      <th>per_w_cum</th>\n      <th>SPY_cum</th>\n      <th>sharpe_eq_cum</th>\n      <th>sharpe_w_cum</th>\n    </tr>\n  </thead>\n  <tbody>\n    <tr>\n      <th>0</th>\n      <td>2015-01-05</td>\n      <td>-0.019683</td>\n      <td>-0.021296</td>\n      <td>-0.018059</td>\n      <td>-0.019683</td>\n      <td>-0.021296</td>\n      <td>-0.019683</td>\n      <td>-0.021296</td>\n      <td>-0.018059</td>\n      <td>-0.019683</td>\n      <td>-0.021296</td>\n    </tr>\n    <tr>\n      <th>1</th>\n      <td>2015-01-06</td>\n      <td>-0.008950</td>\n      <td>-0.010037</td>\n      <td>-0.009419</td>\n      <td>-0.008950</td>\n      <td>-0.010037</td>\n      <td>-0.028633</td>\n      <td>-0.031333</td>\n      <td>-0.027478</td>\n      <td>-0.028633</td>\n      <td>-0.031333</td>\n    </tr>\n    <tr>\n      <th>2</th>\n      <td>2015-01-07</td>\n      <td>0.014109</td>\n      <td>0.011947</td>\n      <td>0.012461</td>\n      <td>0.014109</td>\n      <td>0.011947</td>\n      <td>-0.014524</td>\n      <td>-0.019386</td>\n      <td>-0.015017</td>\n      <td>-0.014524</td>\n      <td>-0.019386</td>\n    </tr>\n    <tr>\n      <th>3</th>\n      <td>2015-01-08</td>\n      <td>0.015661</td>\n      <td>0.014682</td>\n      <td>0.017745</td>\n      <td>0.015661</td>\n      <td>0.014682</td>\n      <td>0.001136</td>\n      <td>-0.004704</td>\n      <td>0.002728</td>\n      <td>0.001136</td>\n      <td>-0.004704</td>\n    </tr>\n    <tr>\n      <th>4</th>\n      <td>2015-01-09</td>\n      <td>-0.005591</td>\n      <td>-0.005055</td>\n      <td>-0.008013</td>\n      <td>-0.005591</td>\n      <td>-0.005055</td>\n      <td>-0.004455</td>\n      <td>-0.009759</td>\n      <td>-0.005286</td>\n      <td>-0.004455</td>\n      <td>-0.009759</td>\n    </tr>\n    <tr>\n      <th>...</th>\n      <td>...</td>\n      <td>...</td>\n      <td>...</td>\n      <td>...</td>\n      <td>...</td>\n      <td>...</td>\n      <td>...</td>\n      <td>...</td>\n      <td>...</td>\n      <td>...</td>\n      <td>...</td>\n    </tr>\n    <tr>\n      <th>1505</th>\n      <td>2020-12-24</td>\n      <td>0.002210</td>\n      <td>0.001451</td>\n      <td>0.003890</td>\n      <td>-0.001312</td>\n      <td>-0.004147</td>\n      <td>0.368491</td>\n      <td>0.877582</td>\n      <td>0.804173</td>\n      <td>0.553772</td>\n      <td>1.078221</td>\n    </tr>\n    <tr>\n      <th>1506</th>\n      <td>2020-12-28</td>\n      <td>-0.004679</td>\n      <td>-0.008660</td>\n      <td>0.008591</td>\n      <td>0.006064</td>\n      <td>0.005777</td>\n      <td>0.363813</td>\n      <td>0.868922</td>\n      <td>0.812764</td>\n      <td>0.559836</td>\n      <td>1.083998</td>\n    </tr>\n    <tr>\n      <th>1507</th>\n      <td>2020-12-29</td>\n      <td>-0.001510</td>\n      <td>-0.001861</td>\n      <td>-0.001908</td>\n      <td>0.005496</td>\n      <td>0.010330</td>\n      <td>0.362303</td>\n      <td>0.867062</td>\n      <td>0.810856</td>\n      <td>0.565332</td>\n      <td>1.094327</td>\n    </tr>\n    <tr>\n      <th>1508</th>\n      <td>2020-12-30</td>\n      <td>0.009130</td>\n      <td>0.012354</td>\n      <td>0.001427</td>\n      <td>0.004235</td>\n      <td>0.006554</td>\n      <td>0.371433</td>\n      <td>0.879415</td>\n      <td>0.812283</td>\n      <td>0.569567</td>\n      <td>1.100881</td>\n    </tr>\n    <tr>\n      <th>1509</th>\n      <td>2020-12-31</td>\n      <td>-0.000734</td>\n      <td>-0.002174</td>\n      <td>0.005081</td>\n      <td>0.003749</td>\n      <td>0.001417</td>\n      <td>0.370699</td>\n      <td>0.877241</td>\n      <td>0.817364</td>\n      <td>0.573317</td>\n      <td>1.102298</td>\n    </tr>\n  </tbody>\n</table>\n<p>1510 rows × 11 columns</p>\n</div>"
     },
     "metadata": {},
     "execution_count": 70
    }
   ],
   "source": [
    "dd"
   ]
  },
  {
   "cell_type": "code",
   "execution_count": 68,
   "metadata": {},
   "outputs": [],
   "source": [
    "#dddd = PDI_DF[PDI_DF[\"# of Assets\"] == \"14\" ]\n",
    "dddd = dd.copy()\n",
    "#dddd = PDI_DF[PDI_DF[\"Annual STD\"] <= 0.2 ]"
   ]
  },
  {
   "cell_type": "code",
   "execution_count": 482,
   "metadata": {},
   "outputs": [],
   "source": [
    "fig = px.bar(dddd, color=\"# of Assets\", y=\"Annual Return\", x=\"PDI_INDEX\")\n",
    "fig.show()"
   ]
  },
  {
   "cell_type": "code",
   "execution_count": 483,
   "metadata": {},
   "outputs": [],
   "source": [
    "fig = px.scatter(dddd,  color=\"# of Assets\", y=\"Annual Return\", x=\"PDI_INDEX\")\n",
    "fig.show()"
   ]
  },
  {
   "cell_type": "code",
   "execution_count": 486,
   "metadata": {},
   "outputs": [],
   "source": [
    "fig = px.box(dddd, x=\"# of Assets\", y=\"PDI_INDEX\")\n",
    "fig.show()"
   ]
  },
  {
   "cell_type": "code",
   "execution_count": 498,
   "metadata": {},
   "outputs": [],
   "source": [
    "fig = px.scatter_3d(dddd, x='STD SEGG', y = \"Annual Return\", z = \"PDI_INDEX\", color=\"# of Assets\", hover_data = [dddd.index], title = \"ETF Portfolios\")\n",
    "fig.show()"
   ]
  },
  {
   "cell_type": "code",
   "execution_count": 462,
   "metadata": {},
   "outputs": [],
   "source": [
    "fig = px.scatter(dddd, x=\"PDI_INDEX\", y=\"Annual Return\", color = \"STD SEG\")\n",
    "fig.show()"
   ]
  },
  {
   "source": [
    "## PDI of total universe througout time "
   ],
   "cell_type": "markdown",
   "metadata": {}
  },
  {
   "cell_type": "code",
   "execution_count": 106,
   "metadata": {},
   "outputs": [],
   "source": [
    "time_pdi_etf = pd.read_csv(\"WeeklyReturns.csv\", index_col=\"Date\").dropna(axis=1)\n",
    "time_pdi_crypto = pd.read_csv(\"crypto_weekly.csv\", index_col=\"Date\").dropna(axis=1)\n",
    "etf_volme = pd.read_csv(\"ETF_Volumne.csv\", index_col=\"Date\").drop(columns=\"Unnamed: 0\")\n",
    "crypto_volme = pd.read_csv(\"Crypto_Volumne.csv\", index_col=\"Date\").drop(columns=\"Unnamed: 0\")"
   ]
  },
  {
   "cell_type": "code",
   "execution_count": 107,
   "metadata": {},
   "outputs": [],
   "source": [
    "# startDate = \"2015-01-01\"\n",
    "# endDate = \"2021-01-01\"\n",
    "# etf_names = list(time_pdi_crypto.columns)\n",
    "# dailyPrices = data.DataReader(etf_names, 'yahoo', startDate, endDate)\n",
    "# dailyPrices \n",
    "# dailyPrices[\"Volume\"].reset_index(drop=False).to_csv(\"Crypto_Volumne.csv\")"
   ]
  },
  {
   "cell_type": "code",
   "execution_count": 108,
   "metadata": {},
   "outputs": [],
   "source": [
    "#ETF volume config\n",
    "etf_volme.index = pd.to_datetime(etf_volme.index)\n",
    "etf_volme.index = etf_volme.index.to_period(\"Q\")\n",
    "#Crypto volume config\n",
    "crypto_volme.index = pd.to_datetime(crypto_volme.index)\n",
    "crypto_volme.index = crypto_volme.index.to_period(\"Q\")\n",
    "\n",
    "#etf\n",
    "groupie_volume_etf = etf_volme.groupby(\"Date\").sum()\n",
    "groupie_volume_etf = groupie_volume_etf.groupby(\"Date\").sum()\n",
    "volume_dic_etf = dict(zip(list(groupie_volume_etf.sum(axis=1).index.astype(str)),groupie_volume_etf.sum(axis=1)))\n",
    "#crypto\n",
    "groupie_volume_crypto = crypto_volme.groupby(\"Date\").sum()\n",
    "groupie_volume_crypto = groupie_volume_crypto.groupby(\"Date\").sum()\n",
    "volume_dic_crypto = dict(zip(list(groupie_volume_crypto.sum(axis=1).index.astype(str)),groupie_volume_crypto.sum(axis=1)))"
   ]
  },
  {
   "cell_type": "code",
   "execution_count": 88,
   "metadata": {},
   "outputs": [],
   "source": [
    "time_pdi_etf.index = pd.to_datetime(time_pdi_etf.index)\n",
    "time_pdi_crypto.index = pd.to_datetime(time_pdi_crypto.index)\n",
    "time_pdi_etf.index = time_pdi_etf.index.to_period(\"Q\")\n",
    "time_pdi_crypto.index = time_pdi_crypto.index.to_period(\"Q\")"
   ]
  },
  {
   "cell_type": "code",
   "execution_count": 63,
   "metadata": {},
   "outputs": [],
   "source": [
    "def pdi_q(x):    \n",
    "    corr_matrix = np.array(x.corr().replace(np.nan, 0))\n",
    "    principalComponents = pca.fit(corr_matrix)\n",
    "    PDI = 2*sum(principalComponents.explained_variance_ratio_*range(1,len(principalComponents.explained_variance_ratio_)+1,1))-1\n",
    "    return PDI\n"
   ]
  },
  {
   "cell_type": "code",
   "execution_count": 109,
   "metadata": {},
   "outputs": [],
   "source": [
    "time_pdi_etf.index = pd.to_datetime(time_pdi_etf.index)\n",
    "time_pdi_crypto.index = pd.to_datetime(time_pdi_crypto.index)\n",
    "time_pdi_etf.index = time_pdi_etf.index.to_period(\"Q\")\n",
    "time_pdi_crypto.index = time_pdi_crypto.index.to_period(\"Q\")\n",
    "#Time Series periods\n",
    "quarters = list(time_pdi_etf.index.unique())\n",
    "\n",
    "etf_pdi = {}\n",
    "crypto_pdi = {}\n",
    "pca = PCA()\n",
    "for q in quarters:\n",
    "    etf_pdi[str(q)] = pdi_q(time_pdi_etf.loc[q])\n",
    "    crypto_pdi[str(q)] = pdi_q(time_pdi_crypto.loc[q])"
   ]
  },
  {
   "cell_type": "code",
   "execution_count": 65,
   "metadata": {},
   "outputs": [],
   "source": [
    "fig = px.line(x=list(etf_pdi.keys()), y=list(etf_pdi.values()))\n",
    "fig.show()"
   ]
  },
  {
   "cell_type": "code",
   "execution_count": 66,
   "metadata": {},
   "outputs": [],
   "source": [
    "fig = px.line(x=list(crypto_pdi.keys()), y=list(crypto_pdi.values()))\n",
    "fig.show()"
   ]
  },
  {
   "cell_type": "code",
   "execution_count": 163,
   "metadata": {},
   "outputs": [],
   "source": [
    "import plotly.graph_objects as go\n",
    "from plotly.subplots import make_subplots\n",
    "\n",
    "fig = make_subplots(rows=1, cols=2,\n",
    "                    specs=[[{\"secondary_y\": True}, {\"secondary_y\": True}]],subplot_titles=(\"ETF Universe\", \"Crypto Universe\"),horizontal_spacing = 0.05)\n",
    "\n",
    "\n",
    "\n",
    "# Add traces\n",
    "fig.add_trace(\n",
    "    go.Scatter(x=list(volume_dic_etf.keys()), y=list(volume_dic_etf.values()),line=dict(color='mediumseagreen', width=2), name=\"ETF - Volume\"),\n",
    "    secondary_y=False,\n",
    "    row=1, col=1\n",
    ")\n",
    "\n",
    "fig.add_trace(\n",
    "    go.Scatter(x=list(etf_pdi.keys()), y=list(etf_pdi.values()),line=dict(color='mediumslateblue', width=2), name=\"ETF - PDI\"),\n",
    "    secondary_y=True,\n",
    "    row=1, col=1\n",
    ")\n",
    "\n",
    "\n",
    "# Add traces\n",
    "fig.add_trace(\n",
    "    go.Scatter(x=list(volume_dic_crypto.keys()), y=list(volume_dic_crypto.values()),line=dict(color='steelblue', width=2) ,name=\"Crypto - Volume\"),\n",
    "    secondary_y=False, row=1, col=2\n",
    ")\n",
    "\n",
    "fig.add_trace(\n",
    "    go.Scatter(x=list(crypto_pdi.keys()), y=list(crypto_pdi.values()),line=dict(color='darkslateblue', width=2), name=\"Crypto - PDI\",text=[\"Crypto - PDI\"]),\n",
    "    secondary_y=True, row=1, col=2\n",
    ")\n",
    "# Set x-axis title\n",
    "fig.update_xaxes(title_text=\"Quarterly Periods\", row=1,col=1, tickangle = 90)\n",
    "# Set x-axis title\n",
    "fig.update_xaxes(title_text=\"Quarterly Periods\", row=1,col=2, tickangle = 90)\n",
    "# Set y-axes titles\n",
    "fig.update_yaxes(title_text=\"Volume\", secondary_y=False, row=1,col=1)\n",
    "#fig.update_yaxes(title_text=\"Diversification Index - ETF Universe\", secondary_y=True,row=1,col=1)\n",
    "\n",
    "#fig.update_yaxes(title_text=\"Volume - Crypto Universe\", secondary_y=False, row=1,col=2)\n",
    "fig.update_yaxes(title_text=\"Diversification Index\", secondary_y=True,row=1,col=2)\n",
    "\n",
    "\n",
    "fig.update_layout(height=600,showlegend=True,template=\"plotly\",legend=dict(\n",
    "    #yanchor=\"top\",\n",
    "    y=1,\n",
    "    #xanchor=\"left\",\n",
    "    x=0.97\n",
    "))\n",
    "fig.show()"
   ]
  },
  {
   "source": [
    "## Number of Assets VS PDI"
   ],
   "cell_type": "markdown",
   "metadata": {}
  },
  {
   "cell_type": "code",
   "execution_count": 224,
   "metadata": {},
   "outputs": [],
   "source": [
    "num_vs_pdi_etf = pd.read_csv(\"WeeklyReturns.csv\", index_col=\"Date\").dropna(axis=1)\n",
    "num_vs_pdi_crypto = pd.read_csv(\"crypto_weekly.csv\", index_col=\"Date\").dropna(axis=1)"
   ]
  },
  {
   "cell_type": "code",
   "execution_count": 225,
   "metadata": {},
   "outputs": [
    {
     "output_type": "stream",
     "name": "stdout",
     "text": [
      "Number of Portfolios ETF: 195868\n",
      "------------------------------------------------------------\n",
      "Number of Portfolios crypto: 502\n"
     ]
    }
   ],
   "source": [
    "random.seed(60)\n",
    "num_pdi_ticker_etf = num_vs_pdi_etf.columns\n",
    "samples_etf = []\n",
    "for number in range(2,30,1):\n",
    "    for i in range(1,7000):\n",
    "        #samples.extend([list(x) for x in combinations(selected_tickers, number_of_assets)])\n",
    "        samples_etf.append(random.sample(list(num_pdi_ticker_etf),number))\n",
    "# samples_mini_etf = []\n",
    "# for i in samples_etf:\n",
    "#     if i not in samples_mini_etf:\n",
    "#         samples_mini_etf.append(i)\n",
    "\n",
    "seen = set()\n",
    "sampled_etf = [x for x in samples_etf if frozenset(x) not in seen and not seen.add(frozenset(x))]\n",
    "\n",
    "print(\"Number of Portfolios ETF: {}\".format(len(sampled_etf)))\n",
    "print(60 *\"-\")\n",
    "\n",
    "num_pdi_ticker_crypto = num_vs_pdi_crypto.columns\n",
    "samples_crypto = []\n",
    "for number in range(2,len(num_pdi_ticker_crypto)+1,1):\n",
    "    for i in range(1,7000):\n",
    "        #samples.extend([list(x) for x in combinations(selected_tickers, number_of_assets)])\n",
    "        samples_crypto.append(random.sample(list(num_pdi_ticker_crypto),number))\n",
    "# samples_mini_crypto = []\n",
    "# for i in samples_crypto:\n",
    "#     if i not in samples_mini_crypto:\n",
    "#         samples_mini_crypto.append(i)\n",
    "\n",
    "seen = set()\n",
    "sampled_crypto = [x for x in samples_crypto if frozenset(x) not in seen and not seen.add(frozenset(x))]\n",
    "\n",
    "print(\"Number of Portfolios crypto: {}\".format(len(sampled_crypto)))"
   ]
  },
  {
   "cell_type": "code",
   "execution_count": 227,
   "metadata": {},
   "outputs": [
    {
     "output_type": "stream",
     "name": "stderr",
     "text": [
      "195868it [10:45, 303.35it/s]\n",
      "502it [00:01, 353.63it/s]\n"
     ]
    }
   ],
   "source": [
    "num_PDI_PDI_DF_etf = calculate_pdi( weekly_returns = num_vs_pdi_etf, portfolios = sampled_etf, return_mean_range = 52)\n",
    "num_PDI_PDI_DF_crypto = calculate_pdi( weekly_returns = num_vs_pdi_crypto, portfolios = sampled_crypto, return_mean_range = 52)"
   ]
  },
  {
   "cell_type": "code",
   "execution_count": 229,
   "metadata": {},
   "outputs": [],
   "source": [
    "num_PDI_PDI_DF_etf[\"str_PDI\"] = num_PDI_PDI_DF_etf[\"PDI_INDEX\"].round(0).astype(int)\n",
    "num_PDI_PDI_DF_crypto[\"str_PDI\"] = num_PDI_PDI_DF_crypto[\"PDI_INDEX\"].round(0).astype(int)"
   ]
  },
  {
   "cell_type": "code",
   "execution_count": 230,
   "metadata": {},
   "outputs": [],
   "source": [
    "pio.templates.default = \"simple_white\"\n",
    "px.defaults.template = \"plotly\"\n",
    "px.defaults.color_continuous_scale = px.colors.sequential.Blackbody"
   ]
  },
  {
   "cell_type": "code",
   "execution_count": 239,
   "metadata": {},
   "outputs": [],
   "source": [
    "from plotly.subplots import make_subplots\n",
    "import plotly.graph_objects as go\n",
    "\n",
    "fig = go.Figure()\n",
    "# Initialize figure with subplots\n",
    "fig = make_subplots(\n",
    "    rows=1, cols=2, subplot_titles=(\"Portfolio Diversification Index - ETF Universe\", \"Portfolio Diversification Index - Crypto Universe\"))\n",
    "\n",
    "# Add traces\n",
    "fig.add_trace(go.Box(x=num_PDI_PDI_DF_etf[\"# of Assets\"], y=num_PDI_PDI_DF_etf[\"PDI_INDEX\"]),row=1, col=1)\n",
    "fig.add_trace(go.Box(x=num_PDI_PDI_DF_crypto[\"# of Assets\"], y=num_PDI_PDI_DF_crypto[\"PDI_INDEX\"]), row=1, col=2)\n",
    "\n",
    "\n",
    "# Update xaxis properties\n",
    "fig.update_xaxes(title_text=\"Number of Assets in Portfolio\", row=1, col=1)\n",
    "fig.update_xaxes(title_text=\"Number of Assets in Portfolio\", row=1, col=2)\n",
    "\n",
    "# Update yaxis properties\n",
    "fig.update_yaxes(title_text=\"Diversification Index\", row=1, col=1)\n",
    "fig.update_yaxes(title_text=\"Diversification Index\",row=1, col=2)\n",
    "\n",
    "fig.update_layout(height=1100,showlegend=False,template=\"plotly\")\n",
    "\n",
    "fig.show()"
   ]
  },
  {
   "cell_type": "code",
   "execution_count": 94,
   "metadata": {},
   "outputs": [],
   "source": [
    " marker=dict(color='steelblue'))\n",
    ",marker=dict(color='darkslateblue')"
   ]
  },
  {
   "cell_type": "code",
   "execution_count": 50,
   "metadata": {},
   "outputs": [],
   "source": [
    "fig = px.box(num_PDI_PDI_DF_etf, x=\"str_PDI\", y=\"Sharpe Ratio\", color=\"# of Assets\")\n",
    "fig.update_layout(width = 1200, height=700)\n",
    "fig.update_xaxes(title_text = \"Number of Unique Investments in the Portfolios\")\n",
    "fig.update_yaxes(title_text = \"Risk Adjusted Return\")\n",
    "fig.show()"
   ]
  },
  {
   "cell_type": "code",
   "execution_count": 18,
   "metadata": {},
   "outputs": [],
   "source": [
    "fig = px.box(num_PDI_PDI_DF_crypto, x=\"str_PDI\", y=\"Sharpe Ratio\", color=\"# of Assets\")\n",
    "fig.update_layout(width = 1200, height=700)\n",
    "fig.update_xaxes(title_text = \"Number of Unique Investments in the Portfolios\")\n",
    "fig.update_yaxes(title_text = \"Risk Adjusted Return\")\n",
    "fig.show()\n"
   ]
  },
  {
   "cell_type": "code",
   "execution_count": 148,
   "metadata": {},
   "outputs": [],
   "source": [
    "# ETF\n",
    "dict = {}\n",
    "for i in num_PDI_PDI_DF_etf[\"str_PDI\"].unique():\n",
    "    dict[i] = {}\n",
    "    for x in num_PDI_PDI_DF_etf[\"# of Assets\"].unique():\n",
    "        dict[i][x] = num_PDI_PDI_DF_etf[(num_PDI_PDI_DF_etf[\"str_PDI\"]==i) & (num_PDI_PDI_DF_etf[\"# of Assets\"]==x)][\"Sharpe Ratio\"].skew()\n",
    "skew = pd.DataFrame(dict)\n",
    "skew_df = pd.DataFrame(skew.stack()).reset_index()\n",
    "skew_df.rename(columns=({\"level_0\":\"num_assets\",\"level_1\":\"pdi\", 0:\"skewness\" }), inplace=True)"
   ]
  },
  {
   "cell_type": "code",
   "execution_count": null,
   "metadata": {},
   "outputs": [],
   "source": [
    "fig = px.bar(skew_df,x=\"pdi\", y=\"skewness\", color=\"num_assets\", barmode=\"group\")\n",
    "fig.update_yaxes(title=\"Skewness of distribution\")\n",
    "fig.update_xaxes(title=\"Portfolio Diversification\")\n",
    "fig.update_layout(height = 700, width= 1200, legend_title = \" # of Assets\")\n",
    "fig.show()"
   ]
  },
  {
   "cell_type": "code",
   "execution_count": 151,
   "metadata": {},
   "outputs": [],
   "source": [
    "# Crypto\n",
    "dict_crypto = {}\n",
    "for i in num_PDI_PDI_DF_crypto[\"str_PDI\"].unique():\n",
    "    dict_crypto[i] = {}\n",
    "    for x in num_PDI_PDI_DF_crypto[\"# of Assets\"].unique():\n",
    "        dict_crypto[i][x] = num_PDI_PDI_DF_crypto[(num_PDI_PDI_DF_crypto[\"str_PDI\"]==i) & (num_PDI_PDI_DF_crypto[\"# of Assets\"]==x)][\"Sharpe Ratio\"].skew()\n",
    "skew = pd.DataFrame(dict_crypto)\n",
    "skew_df_crypto = pd.DataFrame(skew.stack()).reset_index()\n",
    "skew_df_crypto.rename(columns=({\"level_0\":\"num_assets\",\"level_1\":\"pdi\", 0:\"skewness\" }), inplace=True)"
   ]
  },
  {
   "cell_type": "code",
   "execution_count": 152,
   "metadata": {},
   "outputs": [],
   "source": [
    "fig = px.bar(skew_df_crypto,x=\"pdi\", y=\"skewness\", color=\"num_assets\", barmode=\"group\")\n",
    "fig.update_yaxes(title=\"Skewness of distribution\")\n",
    "fig.update_xaxes(title=\"Portfolio Diversification\")\n",
    "fig.update_layout(height = 700, width= 1200, legend_title = \" # of Assets\")\n",
    "fig.show()"
   ]
  },
  {
   "cell_type": "code",
   "execution_count": 127,
   "metadata": {},
   "outputs": [],
   "source": []
  },
  {
   "source": [
    "#plotting color \n",
    "\n",
    "aliceblue, antiquewhite, aqua, aquamarine, azure,\n",
    "            beige, bisque, black, blanchedalmond, blue,\n",
    "            blueviolet, brown, burlywood, cadetblue,\n",
    "            chartreuse, chocolate, coral, cornflowerblue,\n",
    "            cornsilk, crimson, cyan, darkblue, darkcyan,\n",
    "            darkgoldenrod, darkgray, darkgrey, darkgreen,\n",
    "            darkkhaki, darkmagenta, darkolivegreen, darkorange,\n",
    "            darkorchid, darkred, darksalmon, darkseagreen,\n",
    "            darkslateblue, darkslategray, darkslategrey,\n",
    "            darkturquoise, darkviolet, deeppink, deepskyblue,\n",
    "            dimgray, dimgrey, dodgerblue, firebrick,\n",
    "            floralwhite, forestgreen, fuchsia, gainsboro,\n",
    "            ghostwhite, gold, goldenrod, gray, grey, green,\n",
    "            greenyellow, honeydew, hotpink, indianred, indigo,\n",
    "            ivory, khaki, lavender, lavenderblush, lawngreen,\n",
    "            lemonchiffon, lightblue, lightcoral, lightcyan,\n",
    "            lightgoldenrodyellow, lightgray, lightgrey,\n",
    "            lightgreen, lightpink, lightsalmon, lightseagreen,\n",
    "            lightskyblue, lightslategray, lightslategrey,\n",
    "            lightsteelblue, lightyellow, lime, limegreen,\n",
    "            linen, magenta, maroon, mediumaquamarine,\n",
    "            mediumblue, mediumorchid, mediumpurple,\n",
    "            mediumseagreen, mediumslateblue, mediumspringgreen,\n",
    "            mediumturquoise, mediumvioletred, midnightblue,\n",
    "            mintcream, mistyrose, moccasin, navajowhite, navy,\n",
    "            oldlace, olive, olivedrab, orange, orangered,\n",
    "            orchid, palegoldenrod, palegreen, paleturquoise,\n",
    "            palevioletred, papayawhip, peachpuff, peru, pink,\n",
    "            plum, powderblue, purple, red, rosybrown,\n",
    "            royalblue, rebeccapurple, saddlebrown, salmon,\n",
    "            sandybrown, seagreen, seashell, sienna, silver,\n",
    "            skyblue, slateblue, slategray, slategrey, snow,\n",
    "            springgreen, steelblue, tan, teal, thistle, tomato,\n",
    "            turquoise, violet, wheat, white, whitesmoke,\n",
    "            yellow, yellowgreen"
   ],
   "cell_type": "markdown",
   "metadata": {}
  },
  {
   "source": [
    "# Initialize figure with subplots\n",
    "import plotly.graph_objects as go\n",
    "from plotly.subplots import make_subplots\n",
    "fig = go.Figure()\n",
    "fig = make_subplots(\n",
    "    rows=1, cols=2, subplot_titles=(\"Correlation Heatmap - ETF Universe\", \"Correlation Heatmap- Crypto Universe\")\n",
    ")\n",
    "\n",
    "\n",
    "fig.add_trace(go.Heatmap(z=num_vs_pdi_etf.corr(),\n",
    "                    x=num_vs_pdi_etf.corr().columns,\n",
    "                    y=num_vs_pdi_etf.corr().index,colorbar=dict(y=.5,x=0.45,len=1),colorscale='cividis'), row=1, col=1)\n",
    "\n",
    "fig.add_trace(go.Heatmap(z=num_vs_pdi_crypto.corr(),\n",
    "                    x=num_vs_pdi_crypto.corr().columns,\n",
    "                    y=num_vs_pdi_crypto.corr().index,colorbar=dict(y=.5,x=1,len=1),colorscale='cividis'), row=1, col=2)\n",
    "\n",
    "\n",
    "fig.update_layout(height=600,showlegend=False,template=\"plotly\")\n",
    "\n",
    "fig.show()"
   ],
   "cell_type": "code",
   "metadata": {},
   "execution_count": 291,
   "outputs": []
  },
  {
   "source": [
    "## Catogries in PDI"
   ],
   "cell_type": "markdown",
   "metadata": {}
  },
  {
   "cell_type": "code",
   "execution_count": 256,
   "metadata": {},
   "outputs": [
    {
     "output_type": "stream",
     "name": "stdout",
     "text": [
      "Number of Portfolios ETF: 159160\n------------------------------------------------------------\n"
     ]
    }
   ],
   "source": [
    "random.seed(60)\n",
    "num_pdi_ticker_etf = num_vs_pdi_etf.columns\n",
    "samples_etf_min = []\n",
    "for number in range(2,10,1):\n",
    "    for i in range(1,20000):\n",
    "        #samples.extend([list(x) for x in combinations(selected_tickers, number_of_assets)])\n",
    "        samples_etf_min.append(random.sample(list(num_pdi_ticker_etf),number))\n",
    "# samples_mini_etf = []\n",
    "# for i in samples_etf:\n",
    "#     if i not in samples_mini_etf:\n",
    "#         samples_mini_etf.append(i)\n",
    "\n",
    "seen = set()\n",
    "sampled_etf_min = [x for x in samples_etf_min if frozenset(x) not in seen and not seen.add(frozenset(x))]\n",
    "\n",
    "print(\"Number of Portfolios ETF: {}\".format(len(sampled_etf_min)))\n",
    "print(60 *\"-\")"
   ]
  },
  {
   "cell_type": "code",
   "execution_count": 257,
   "metadata": {},
   "outputs": [],
   "source": [
    "def category_ratio(x):\n",
    "    return len(category.loc[x][\"Category\"].unique())/len(category.loc[x])\n",
    "\n",
    "category = pd.DataFrame(fundamental_df[\"Category\"])\n"
   ]
  },
  {
   "cell_type": "code",
   "execution_count": 258,
   "metadata": {},
   "outputs": [
    {
     "output_type": "stream",
     "name": "stderr",
     "text": [
      "159160it [07:31, 352.21it/s]\n"
     ]
    }
   ],
   "source": [
    "num_PDI_PDI_DF_etf_min = calculate_pdi( weekly_returns = num_vs_pdi_etf, portfolios = sampled_etf_min, return_mean_range = 52)\n"
   ]
  },
  {
   "cell_type": "code",
   "execution_count": 262,
   "metadata": {},
   "outputs": [],
   "source": [
    "num_PDI_PDI_DF_etf_min[\"category_ratio\"] = num_PDI_PDI_DF_etf_min[\"Assets\"].apply(lambda x: category_ratio(x))"
   ]
  },
  {
   "cell_type": "code",
   "execution_count": 366,
   "metadata": {},
   "outputs": [
    {
     "output_type": "execute_result",
     "data": {
      "text/plain": [
       "       PDI_INDEX  # of Assets                         Assets  Sharpe Ratio  \\\n",
       "59166   1.986036            5    [ARGT, HEEM, RYJ, VDC, IXP]      0.524288   \n",
       "59167   1.094982            5    [GDXJ, RYJ, DGRO, IWF, PKW]      0.711353   \n",
       "59168   1.645919            5   [DAX, XLK, EMIF, EMFM, SOXL]      0.695012   \n",
       "59169   1.447085            5    [VEU, DVYA, PJP, PKW, EURL]      0.271667   \n",
       "59170   1.291155            5    [PFM, IWN, HEWG, NGE, SPXL]      0.335852   \n",
       "...          ...          ...                            ...           ...   \n",
       "79160   1.718449            5  [FNDA, QQXT, SPEU, AIA, XSMO]      0.587468   \n",
       "79161   1.794645            5     [CFA, RPG, PID, TUR, WBIE]      0.283557   \n",
       "79162   1.764517            5    [RZV, PIN, GVAL, UXI, QQQE]      0.454891   \n",
       "79163   2.466436            5    [XLI, EIS, TOK, AIRR, FENY]      0.314014   \n",
       "79164   1.721900            5     [IEZ, EZM, FSTA, IAI, IVW]      0.292482   \n",
       "\n",
       "       Annual Return  Annual STD  category_ratio  str_PDI  \n",
       "59166       0.091450    0.174427             1.0        2  \n",
       "59167       0.141482    0.198892             0.8        1  \n",
       "59168       0.202056    0.290723             0.8        2  \n",
       "59169       0.066068    0.243197             1.0        1  \n",
       "59170       0.078848    0.234770             0.8        1  \n",
       "...              ...         ...             ...      ...  \n",
       "79160       0.111439    0.189693             1.0        2  \n",
       "79161       0.048595    0.171376             0.8        2  \n",
       "79162       0.103337    0.227170             1.0        2  \n",
       "79163       0.067537    0.215076             0.8        2  \n",
       "79164       0.061935    0.211756             1.0        2  \n",
       "\n",
       "[19999 rows x 8 columns]"
      ],
      "text/html": "<div>\n<style scoped>\n    .dataframe tbody tr th:only-of-type {\n        vertical-align: middle;\n    }\n\n    .dataframe tbody tr th {\n        vertical-align: top;\n    }\n\n    .dataframe thead th {\n        text-align: right;\n    }\n</style>\n<table border=\"1\" class=\"dataframe\">\n  <thead>\n    <tr style=\"text-align: right;\">\n      <th></th>\n      <th>PDI_INDEX</th>\n      <th># of Assets</th>\n      <th>Assets</th>\n      <th>Sharpe Ratio</th>\n      <th>Annual Return</th>\n      <th>Annual STD</th>\n      <th>category_ratio</th>\n      <th>str_PDI</th>\n    </tr>\n  </thead>\n  <tbody>\n    <tr>\n      <th>59166</th>\n      <td>1.986036</td>\n      <td>5</td>\n      <td>[ARGT, HEEM, RYJ, VDC, IXP]</td>\n      <td>0.524288</td>\n      <td>0.091450</td>\n      <td>0.174427</td>\n      <td>1.0</td>\n      <td>2</td>\n    </tr>\n    <tr>\n      <th>59167</th>\n      <td>1.094982</td>\n      <td>5</td>\n      <td>[GDXJ, RYJ, DGRO, IWF, PKW]</td>\n      <td>0.711353</td>\n      <td>0.141482</td>\n      <td>0.198892</td>\n      <td>0.8</td>\n      <td>1</td>\n    </tr>\n    <tr>\n      <th>59168</th>\n      <td>1.645919</td>\n      <td>5</td>\n      <td>[DAX, XLK, EMIF, EMFM, SOXL]</td>\n      <td>0.695012</td>\n      <td>0.202056</td>\n      <td>0.290723</td>\n      <td>0.8</td>\n      <td>2</td>\n    </tr>\n    <tr>\n      <th>59169</th>\n      <td>1.447085</td>\n      <td>5</td>\n      <td>[VEU, DVYA, PJP, PKW, EURL]</td>\n      <td>0.271667</td>\n      <td>0.066068</td>\n      <td>0.243197</td>\n      <td>1.0</td>\n      <td>1</td>\n    </tr>\n    <tr>\n      <th>59170</th>\n      <td>1.291155</td>\n      <td>5</td>\n      <td>[PFM, IWN, HEWG, NGE, SPXL]</td>\n      <td>0.335852</td>\n      <td>0.078848</td>\n      <td>0.234770</td>\n      <td>0.8</td>\n      <td>1</td>\n    </tr>\n    <tr>\n      <th>...</th>\n      <td>...</td>\n      <td>...</td>\n      <td>...</td>\n      <td>...</td>\n      <td>...</td>\n      <td>...</td>\n      <td>...</td>\n      <td>...</td>\n    </tr>\n    <tr>\n      <th>79160</th>\n      <td>1.718449</td>\n      <td>5</td>\n      <td>[FNDA, QQXT, SPEU, AIA, XSMO]</td>\n      <td>0.587468</td>\n      <td>0.111439</td>\n      <td>0.189693</td>\n      <td>1.0</td>\n      <td>2</td>\n    </tr>\n    <tr>\n      <th>79161</th>\n      <td>1.794645</td>\n      <td>5</td>\n      <td>[CFA, RPG, PID, TUR, WBIE]</td>\n      <td>0.283557</td>\n      <td>0.048595</td>\n      <td>0.171376</td>\n      <td>0.8</td>\n      <td>2</td>\n    </tr>\n    <tr>\n      <th>79162</th>\n      <td>1.764517</td>\n      <td>5</td>\n      <td>[RZV, PIN, GVAL, UXI, QQQE]</td>\n      <td>0.454891</td>\n      <td>0.103337</td>\n      <td>0.227170</td>\n      <td>1.0</td>\n      <td>2</td>\n    </tr>\n    <tr>\n      <th>79163</th>\n      <td>2.466436</td>\n      <td>5</td>\n      <td>[XLI, EIS, TOK, AIRR, FENY]</td>\n      <td>0.314014</td>\n      <td>0.067537</td>\n      <td>0.215076</td>\n      <td>0.8</td>\n      <td>2</td>\n    </tr>\n    <tr>\n      <th>79164</th>\n      <td>1.721900</td>\n      <td>5</td>\n      <td>[IEZ, EZM, FSTA, IAI, IVW]</td>\n      <td>0.292482</td>\n      <td>0.061935</td>\n      <td>0.211756</td>\n      <td>1.0</td>\n      <td>2</td>\n    </tr>\n  </tbody>\n</table>\n<p>19999 rows × 8 columns</p>\n</div>"
     },
     "metadata": {},
     "execution_count": 366
    }
   ],
   "source": [
    "num_PDI_PDI_DF_etf_min[num_PDI_PDI_DF_etf_min[\"# of Assets\"] == 5]"
   ]
  },
  {
   "cell_type": "code",
   "execution_count": 268,
   "metadata": {},
   "outputs": [],
   "source": [
    "num_PDI_PDI_DF_etf_min[\"# of Assets\"] = num_PDI_PDI_DF_etf_min[\"# of Assets\"].astype(int)\n",
    "num_PDI_PDI_DF_etf_min[\"str_PDI\"] = num_PDI_PDI_DF_etf_min[\"PDI_INDEX\"].round(0).astype(int)"
   ]
  },
  {
   "cell_type": "code",
   "execution_count": 308,
   "metadata": {},
   "outputs": [],
   "source": [
    "fig = px.box(num_PDI_PDI_DF_etf, x=\"str_PDI\", y=\"category_ratio\", color = \"# of Assets\")\n",
    "fig.update_layout(width = 1200, height=700)\n",
    "fig.update_xaxes(title_text = \"Portfolio Diversification\")\n",
    "fig.update_yaxes(title_text = \"Category Ratio\")\n",
    "fig.show()"
   ]
  },
  {
   "cell_type": "code",
   "execution_count": 281,
   "metadata": {},
   "outputs": [],
   "source": [
    "import plotly.figure_factory as ff"
   ]
  },
  {
   "source": [
    "#### Portfolios containing both crypto and ETF's"
   ],
   "cell_type": "markdown",
   "metadata": {}
  },
  {
   "cell_type": "code",
   "execution_count": 102,
   "metadata": {},
   "outputs": [],
   "source": [
    "num_vs_pdi_etf_1 = pd.read_csv(\"WeeklyReturns.csv\", index_col=\"Date\").dropna(axis=1)\n",
    "num_vs_pdi_crypto_1 = pd.read_csv(\"crypto_weekly.csv\", index_col=\"Date\").dropna(axis=1)\n",
    "\n",
    "comb_df_num_pdi_merge = pd.merge(num_vs_pdi_etf_1,num_vs_pdi_crypto_1, right_index=True,left_index=True)"
   ]
  },
  {
   "cell_type": "code",
   "execution_count": 103,
   "metadata": {
    "tags": []
   },
   "outputs": [
    {
     "output_type": "stream",
     "name": "stdout",
     "text": [
      "Number of Portfolios 50%: 74971\n",
      "Number of Portfolios 25%: 79991\n",
      "Number of Portfolios 75%: 29178\n"
     ]
    }
   ],
   "source": [
    "num_pdi_ticker_etf = num_vs_pdi_etf_1.columns\n",
    "num_pdi_ticker_crypto = num_vs_pdi_crypto_1.columns\n",
    "#50% crypto\n",
    "samples_etf_50 = []\n",
    "for number in range(1,9,1):\n",
    "    for i in range(1,10000):\n",
    "        sampled_etf = []\n",
    "        sampled_crypto = []\n",
    "        sampled_etf = random.sample(list(num_pdi_ticker_etf),number)\n",
    "        sampled_crypto = random.sample(list(num_pdi_ticker_crypto),number)\n",
    "        samples_etf_50.append(sampled_etf+sampled_crypto)\n",
    "\n",
    "# samples_mini_etf = []\n",
    "# for i in samples_etf:\n",
    "#     if i not in samples_mini_etf:\n",
    "#         samples_mini_etf.append(i)\n",
    "seen = set()\n",
    "samples_combined_unique_50 = [x for x in samples_etf_50 if frozenset(x) not in seen and not seen.add(frozenset(x))]\n",
    "print(\"Number of Portfolios 50%: {}\".format(len(samples_combined_unique_50)))\n",
    "\n",
    "#25% crypto\n",
    "samples_etf_25 = []\n",
    "for number in range(1,9,1):\n",
    "    for i in range(1,10000):\n",
    "        sampled_etf = []\n",
    "        sampled_crypto = []\n",
    "        sampled_etf = random.sample(list(num_pdi_ticker_etf),number*3)\n",
    "        sampled_crypto = random.sample(list(num_pdi_ticker_crypto),number)\n",
    "        samples_etf_25.append(sampled_etf+sampled_crypto)\n",
    "\n",
    "# samples_mini_etf_1 = []\n",
    "# for i in samples_etf_1:\n",
    "#     if i not in samples_mini_etf_1:\n",
    "#         samples_mini_etf_1.append(i)\n",
    "seen = set()\n",
    "samples_combined_unique_25  = [x for x in samples_etf_25 if frozenset(x) not in seen and not seen.add(frozenset(x))]\n",
    "print(\"Number of Portfolios 25%: {}\".format(len(samples_combined_unique_25)))\n",
    "\n",
    "#75% crypto\n",
    "samples_etf_75 = []\n",
    "for number in [1,2,3]:\n",
    "    for i in range(1,10000):\n",
    "        sampled_etf = []\n",
    "        sampled_crypto = []\n",
    "        sampled_etf = random.sample(list(num_pdi_ticker_etf),number)\n",
    "        sampled_crypto = random.sample(list(num_pdi_ticker_crypto),number*3)\n",
    "        samples_etf_75.append(sampled_etf+sampled_crypto)\n",
    "\n",
    "# samples_mini_etf_1 = []\n",
    "# for i in samples_etf_1:\n",
    "#     if i not in samples_mini_etf_1:\n",
    "#         samples_mini_etf_1.append(i)\n",
    "samples_combined_unique_75  = [x for x in samples_etf_75 if frozenset(x) not in seen and not seen.add(frozenset(x))]\n",
    "print(\"Number of Portfolios 75%: {}\".format(len(samples_combined_unique_75)))"
   ]
  },
  {
   "cell_type": "code",
   "execution_count": 104,
   "metadata": {},
   "outputs": [
    {
     "output_type": "stream",
     "name": "stderr",
     "text": [
      "79991it [04:18, 309.84it/s]\n",
      "74971it [03:32, 352.19it/s]\n",
      "29178it [01:16, 380.25it/s]\n"
     ]
    }
   ],
   "source": [
    "#25%\n",
    "num_PDI_PDI_DF_combined_25 = calculate_pdi( weekly_returns = comb_df_num_pdi_merge, portfolios = samples_combined_unique_25, return_mean_range = 52) \n",
    "#50%\n",
    "num_PDI_PDI_DF_combined_50 = calculate_pdi( weekly_returns = comb_df_num_pdi_merge, portfolios = samples_combined_unique_50, return_mean_range = 52)\n",
    "#75%\n",
    "num_PDI_PDI_DF_combined_75 = calculate_pdi( weekly_returns = comb_df_num_pdi_merge, portfolios = samples_combined_unique_75, return_mean_range = 52)\n"
   ]
  },
  {
   "cell_type": "code",
   "execution_count": 105,
   "metadata": {},
   "outputs": [],
   "source": [
    "#25%\n",
    "num_PDI_PDI_DF_combined_25[\"pdi_round\"] = num_PDI_PDI_DF_combined_25[\"PDI_INDEX\"].round(0)\n",
    "#50%\n",
    "num_PDI_PDI_DF_combined_50[\"pdi_round\"] = num_PDI_PDI_DF_combined_50[\"PDI_INDEX\"].round(0)\n",
    "#75%\n",
    "num_PDI_PDI_DF_combined_75[\"pdi_round\"] = num_PDI_PDI_DF_combined_75[\"PDI_INDEX\"].round(0)\n"
   ]
  },
  {
   "cell_type": "code",
   "execution_count": 106,
   "metadata": {},
   "outputs": [
    {
     "output_type": "execute_result",
     "data": {
      "text/plain": [
       "       PDI_INDEX # of Assets  \\\n",
       "1       1.811927           4   \n",
       "2       1.093890           4   \n",
       "3       1.207313           4   \n",
       "4       1.546015           4   \n",
       "5       1.814487           4   \n",
       "...          ...         ...   \n",
       "79987   1.773431          32   \n",
       "79988   2.281716          32   \n",
       "79989   2.611525          32   \n",
       "79990   1.883128          32   \n",
       "79991   1.855496          32   \n",
       "\n",
       "                                                  Assets  Sharpe Ratio  \\\n",
       "1                             [GOEX, RDIV, IXN, XMR-USD]      1.683537   \n",
       "2                             [FTC, VIDI, RWL, DOGE-USD]      1.039024   \n",
       "3                              [SLYG, SPY, PJP, BTC-USD]      1.531157   \n",
       "4                              [CSM, IDU, ITA, DOGE-USD]      1.094292   \n",
       "5                            [GLIN, XSLV, HACK, NMC-USD]      0.479115   \n",
       "...                                                  ...           ...   \n",
       "79987  [GII, FTHI, IDMO, GRES, VUG, IPO, SQQQ, MMTM, ...      1.767501   \n",
       "79988  [PSCD, RWJ, GII, QAT, FNK, INDA, DWM, GLIN, FD...      1.788682   \n",
       "79989  [FEP, FEM, KWEB, IXG, IPOS, XBI, EWSC, SILJ, F...      1.523749   \n",
       "79990  [KIE, ARKW, UWM, PZD, UDOW, XSLV, RSP, AMLP, R...      1.745711   \n",
       "79991  [GNR, CHIM, SYE, IQDE, PBS, PSCF, RCD, IWP, PX...      1.821613   \n",
       "\n",
       "       Annual Return  Annual STD  pdi_round  \n",
       "1           0.670852    0.398478        2.0  \n",
       "2           0.431621    0.415410        1.0  \n",
       "3           0.374506    0.244590        1.0  \n",
       "4           0.445522    0.407133        2.0  \n",
       "5           0.191561    0.399824        2.0  \n",
       "...              ...         ...        ...  \n",
       "79987       0.619608    0.350556        2.0  \n",
       "79988       0.648300    0.362446        2.0  \n",
       "79989       0.486983    0.319596        3.0  \n",
       "79990       0.662940    0.379754        2.0  \n",
       "79991       0.624093    0.342605        2.0  \n",
       "\n",
       "[79991 rows x 7 columns]"
      ],
      "text/html": "<div>\n<style scoped>\n    .dataframe tbody tr th:only-of-type {\n        vertical-align: middle;\n    }\n\n    .dataframe tbody tr th {\n        vertical-align: top;\n    }\n\n    .dataframe thead th {\n        text-align: right;\n    }\n</style>\n<table border=\"1\" class=\"dataframe\">\n  <thead>\n    <tr style=\"text-align: right;\">\n      <th></th>\n      <th>PDI_INDEX</th>\n      <th># of Assets</th>\n      <th>Assets</th>\n      <th>Sharpe Ratio</th>\n      <th>Annual Return</th>\n      <th>Annual STD</th>\n      <th>pdi_round</th>\n    </tr>\n  </thead>\n  <tbody>\n    <tr>\n      <th>1</th>\n      <td>1.811927</td>\n      <td>4</td>\n      <td>[GOEX, RDIV, IXN, XMR-USD]</td>\n      <td>1.683537</td>\n      <td>0.670852</td>\n      <td>0.398478</td>\n      <td>2.0</td>\n    </tr>\n    <tr>\n      <th>2</th>\n      <td>1.093890</td>\n      <td>4</td>\n      <td>[FTC, VIDI, RWL, DOGE-USD]</td>\n      <td>1.039024</td>\n      <td>0.431621</td>\n      <td>0.415410</td>\n      <td>1.0</td>\n    </tr>\n    <tr>\n      <th>3</th>\n      <td>1.207313</td>\n      <td>4</td>\n      <td>[SLYG, SPY, PJP, BTC-USD]</td>\n      <td>1.531157</td>\n      <td>0.374506</td>\n      <td>0.244590</td>\n      <td>1.0</td>\n    </tr>\n    <tr>\n      <th>4</th>\n      <td>1.546015</td>\n      <td>4</td>\n      <td>[CSM, IDU, ITA, DOGE-USD]</td>\n      <td>1.094292</td>\n      <td>0.445522</td>\n      <td>0.407133</td>\n      <td>2.0</td>\n    </tr>\n    <tr>\n      <th>5</th>\n      <td>1.814487</td>\n      <td>4</td>\n      <td>[GLIN, XSLV, HACK, NMC-USD]</td>\n      <td>0.479115</td>\n      <td>0.191561</td>\n      <td>0.399824</td>\n      <td>2.0</td>\n    </tr>\n    <tr>\n      <th>...</th>\n      <td>...</td>\n      <td>...</td>\n      <td>...</td>\n      <td>...</td>\n      <td>...</td>\n      <td>...</td>\n      <td>...</td>\n    </tr>\n    <tr>\n      <th>79987</th>\n      <td>1.773431</td>\n      <td>32</td>\n      <td>[GII, FTHI, IDMO, GRES, VUG, IPO, SQQQ, MMTM, ...</td>\n      <td>1.767501</td>\n      <td>0.619608</td>\n      <td>0.350556</td>\n      <td>2.0</td>\n    </tr>\n    <tr>\n      <th>79988</th>\n      <td>2.281716</td>\n      <td>32</td>\n      <td>[PSCD, RWJ, GII, QAT, FNK, INDA, DWM, GLIN, FD...</td>\n      <td>1.788682</td>\n      <td>0.648300</td>\n      <td>0.362446</td>\n      <td>2.0</td>\n    </tr>\n    <tr>\n      <th>79989</th>\n      <td>2.611525</td>\n      <td>32</td>\n      <td>[FEP, FEM, KWEB, IXG, IPOS, XBI, EWSC, SILJ, F...</td>\n      <td>1.523749</td>\n      <td>0.486983</td>\n      <td>0.319596</td>\n      <td>3.0</td>\n    </tr>\n    <tr>\n      <th>79990</th>\n      <td>1.883128</td>\n      <td>32</td>\n      <td>[KIE, ARKW, UWM, PZD, UDOW, XSLV, RSP, AMLP, R...</td>\n      <td>1.745711</td>\n      <td>0.662940</td>\n      <td>0.379754</td>\n      <td>2.0</td>\n    </tr>\n    <tr>\n      <th>79991</th>\n      <td>1.855496</td>\n      <td>32</td>\n      <td>[GNR, CHIM, SYE, IQDE, PBS, PSCF, RCD, IWP, PX...</td>\n      <td>1.821613</td>\n      <td>0.624093</td>\n      <td>0.342605</td>\n      <td>2.0</td>\n    </tr>\n  </tbody>\n</table>\n<p>79991 rows × 7 columns</p>\n</div>"
     },
     "metadata": {},
     "execution_count": 106
    }
   ],
   "source": [
    "num_PDI_PDI_DF_combined_25"
   ]
  },
  {
   "cell_type": "code",
   "execution_count": 107,
   "metadata": {},
   "outputs": [],
   "source": [
    "# 25% crypto\n",
    "fig = px.box(num_PDI_PDI_DF_combined_25,x=\"pdi_round\",y=\"Sharpe Ratio\", color=\"# of Assets\")\n",
    "fig.update_layout(height=500,showlegend=True,template=\"plotly\", width = 1000)\n",
    "fig.update_xaxes(title_text=\"Portfolio Diversification Index\")\n",
    "fig.show()\n",
    "\n",
    "# 50% crypto\n",
    "fig = px.box(num_PDI_PDI_DF_combined_50,x=\"pdi_round\",y=\"Sharpe Ratio\", color=\"# of Assets\")\n",
    "fig.update_layout(height=500,showlegend=True,template=\"plotly\", width = 1000)\n",
    "fig.update_xaxes(title_text=\"Portfolio Diversification Index\")\n",
    "fig.show()\n",
    "\n",
    "# 75% crypto\n",
    "fig = px.box(num_PDI_PDI_DF_combined_75,x=\"pdi_round\",y=\"Sharpe Ratio\", color=\"# of Assets\")\n",
    "fig.update_layout(height=500,showlegend=True,template=\"plotly\", width = 1000)\n",
    "fig.update_xaxes(title_text=\"Portfolio Diversification Index\")\n",
    "fig.show()\n"
   ]
  },
  {
   "cell_type": "code",
   "execution_count": 257,
   "metadata": {},
   "outputs": [],
   "source": [
    "\n",
    "# 75% crypto\n",
    "fig = px.box(num_PDI_PDI_DF_combined_50,x=\"# of Assets\",y=\"PDI_INDEX\")\n",
    "fig.update_layout(height=500,showlegend=True,template=\"plotly\", width = 1000)\n",
    "fig.update_xaxes(title_text=\"Portfolio Diversification Index\")\n",
    "fig.show()\n"
   ]
  },
  {
   "cell_type": "code",
   "execution_count": 182,
   "metadata": {},
   "outputs": [
    {
     "output_type": "execute_result",
     "data": {
      "text/plain": [
       "       PDI_INDEX # of Assets  \\\n",
       "1       1.634053           4   \n",
       "2       1.481993           4   \n",
       "3       1.424294           4   \n",
       "4       1.654358           4   \n",
       "5       1.606256           4   \n",
       "...          ...         ...   \n",
       "69956   2.319995          16   \n",
       "69957   2.540826          16   \n",
       "69958   2.686009          16   \n",
       "69959   2.141026          16   \n",
       "69960   2.914133          16   \n",
       "\n",
       "                                                  Assets  Sharpe Ratio  \\\n",
       "1                         [WBIL, RYT, LTC-USD, DASH-USD]      1.517404   \n",
       "2                         [IWM, ARKW, DOGE-USD, LTC-USD]      1.460219   \n",
       "3                         [ARKQ, PSCF, LTC-USD, XRP-USD]      1.221026   \n",
       "4                         [PSCU, IWS, DASH-USD, XRP-USD]      1.358502   \n",
       "5                           [SH, CFA, DASH-USD, XMR-USD]      1.615124   \n",
       "...                                                  ...           ...   \n",
       "69956  [SPEU, EWQ, PKW, DOO, ARKQ, FBZ, PEJ, HEWG, XM...      2.064649   \n",
       "69957  [VOT, PKW, EXI, CHIE, BBH, FIDU, IPKW, XLK, DO...      1.770113   \n",
       "69958  [IWF, QWLD, GDXJ, IJK, SPEU, DWM, FPXI, PHO, N...      2.047691   \n",
       "69959  [IDHQ, EWY, FEUZ, MXI, ILF, TZA, VIG, HAP, LTC...      2.068912   \n",
       "69960  [FXL, XTN, IPO, JKD, IDU, TDIV, VLU, IYZ, XVG-...      2.070116   \n",
       "\n",
       "       Annual Return  Annual STD  pdi_round  \n",
       "1           0.901926    0.594388        2.0  \n",
       "2           0.948599    0.649628        1.0  \n",
       "3           0.861077    0.705208        1.0  \n",
       "4           0.856951    0.630806        2.0  \n",
       "5           0.942331    0.583442        2.0  \n",
       "...              ...         ...        ...  \n",
       "69956       1.300381    0.629831        2.0  \n",
       "69957       0.924223    0.522126        3.0  \n",
       "69958       1.349373    0.658973        3.0  \n",
       "69959       1.315505    0.635844        2.0  \n",
       "69960       1.317068    0.636229        3.0  \n",
       "\n",
       "[69960 rows x 7 columns]"
      ],
      "text/html": "<div>\n<style scoped>\n    .dataframe tbody tr th:only-of-type {\n        vertical-align: middle;\n    }\n\n    .dataframe tbody tr th {\n        vertical-align: top;\n    }\n\n    .dataframe thead th {\n        text-align: right;\n    }\n</style>\n<table border=\"1\" class=\"dataframe\">\n  <thead>\n    <tr style=\"text-align: right;\">\n      <th></th>\n      <th>PDI_INDEX</th>\n      <th># of Assets</th>\n      <th>Assets</th>\n      <th>Sharpe Ratio</th>\n      <th>Annual Return</th>\n      <th>Annual STD</th>\n      <th>pdi_round</th>\n    </tr>\n  </thead>\n  <tbody>\n    <tr>\n      <th>1</th>\n      <td>1.634053</td>\n      <td>4</td>\n      <td>[WBIL, RYT, LTC-USD, DASH-USD]</td>\n      <td>1.517404</td>\n      <td>0.901926</td>\n      <td>0.594388</td>\n      <td>2.0</td>\n    </tr>\n    <tr>\n      <th>2</th>\n      <td>1.481993</td>\n      <td>4</td>\n      <td>[IWM, ARKW, DOGE-USD, LTC-USD]</td>\n      <td>1.460219</td>\n      <td>0.948599</td>\n      <td>0.649628</td>\n      <td>1.0</td>\n    </tr>\n    <tr>\n      <th>3</th>\n      <td>1.424294</td>\n      <td>4</td>\n      <td>[ARKQ, PSCF, LTC-USD, XRP-USD]</td>\n      <td>1.221026</td>\n      <td>0.861077</td>\n      <td>0.705208</td>\n      <td>1.0</td>\n    </tr>\n    <tr>\n      <th>4</th>\n      <td>1.654358</td>\n      <td>4</td>\n      <td>[PSCU, IWS, DASH-USD, XRP-USD]</td>\n      <td>1.358502</td>\n      <td>0.856951</td>\n      <td>0.630806</td>\n      <td>2.0</td>\n    </tr>\n    <tr>\n      <th>5</th>\n      <td>1.606256</td>\n      <td>4</td>\n      <td>[SH, CFA, DASH-USD, XMR-USD]</td>\n      <td>1.615124</td>\n      <td>0.942331</td>\n      <td>0.583442</td>\n      <td>2.0</td>\n    </tr>\n    <tr>\n      <th>...</th>\n      <td>...</td>\n      <td>...</td>\n      <td>...</td>\n      <td>...</td>\n      <td>...</td>\n      <td>...</td>\n      <td>...</td>\n    </tr>\n    <tr>\n      <th>69956</th>\n      <td>2.319995</td>\n      <td>16</td>\n      <td>[SPEU, EWQ, PKW, DOO, ARKQ, FBZ, PEJ, HEWG, XM...</td>\n      <td>2.064649</td>\n      <td>1.300381</td>\n      <td>0.629831</td>\n      <td>2.0</td>\n    </tr>\n    <tr>\n      <th>69957</th>\n      <td>2.540826</td>\n      <td>16</td>\n      <td>[VOT, PKW, EXI, CHIE, BBH, FIDU, IPKW, XLK, DO...</td>\n      <td>1.770113</td>\n      <td>0.924223</td>\n      <td>0.522126</td>\n      <td>3.0</td>\n    </tr>\n    <tr>\n      <th>69958</th>\n      <td>2.686009</td>\n      <td>16</td>\n      <td>[IWF, QWLD, GDXJ, IJK, SPEU, DWM, FPXI, PHO, N...</td>\n      <td>2.047691</td>\n      <td>1.349373</td>\n      <td>0.658973</td>\n      <td>3.0</td>\n    </tr>\n    <tr>\n      <th>69959</th>\n      <td>2.141026</td>\n      <td>16</td>\n      <td>[IDHQ, EWY, FEUZ, MXI, ILF, TZA, VIG, HAP, LTC...</td>\n      <td>2.068912</td>\n      <td>1.315505</td>\n      <td>0.635844</td>\n      <td>2.0</td>\n    </tr>\n    <tr>\n      <th>69960</th>\n      <td>2.914133</td>\n      <td>16</td>\n      <td>[FXL, XTN, IPO, JKD, IDU, TDIV, VLU, IYZ, XVG-...</td>\n      <td>2.070116</td>\n      <td>1.317068</td>\n      <td>0.636229</td>\n      <td>3.0</td>\n    </tr>\n  </tbody>\n</table>\n<p>69960 rows × 7 columns</p>\n</div>"
     },
     "metadata": {},
     "execution_count": 182
    }
   ],
   "source": [
    "num_PDI_PDI_DF_combined_1[\"pdi_round\"] = num_PDI_PDI_DF_combined_1[\"PDI_INDEX\"].round(0)\n",
    "num_PDI_PDI_DF_combined_1"
   ]
  },
  {
   "cell_type": "code",
   "execution_count": 183,
   "metadata": {},
   "outputs": [],
   "source": [
    "fig = px.box(num_PDI_PDI_DF_combined_1, x=\"pdi_round\", y=\"Sharpe Ratio\", color=\"# of Assets\")\n",
    "fig.show()"
   ]
  },
  {
   "cell_type": "code",
   "execution_count": null,
   "metadata": {},
   "outputs": [],
   "source": [
    "#1/4 Ratio - 20% Crypto"
   ]
  },
  {
   "cell_type": "code",
   "execution_count": 158,
   "metadata": {},
   "outputs": [
    {
     "output_type": "stream",
     "name": "stdout",
     "text": [
      "Number of Portfolios Combined: 55992\n"
     ]
    }
   ],
   "source": [
    "num_pdi_ticker_etf = num_vs_pdi_etf_1.columns\n",
    "num_pdi_ticker_crypto = num_vs_pdi_crypto_1.columns\n",
    "samples_etf_1 = []\n",
    "for number in range(1,9,1):\n",
    "    for i in range(1,7000):\n",
    "        sampled_etf = []\n",
    "        sampled_crypto = []\n",
    "        sampled_etf = random.sample(list(num_pdi_ticker_etf),number*4)\n",
    "        sampled_crypto = random.sample(list(num_pdi_ticker_crypto),number)\n",
    "        samples_etf_1.append(sampled_etf+sampled_crypto)\n",
    "\n",
    "samples_mini_etf_1 = []\n",
    "for i in samples_etf_1:\n",
    "    if i not in samples_mini_etf_1:\n",
    "        samples_mini_etf_1.append(i)\n",
    "samples_combined_unique_1  = [x for x in samples_mini_etf_1 if frozenset(x) not in seen and not seen.add(frozenset(x))]\n",
    "print(\"Number of Portfolios Combined: {}\".format(len(samples_combined_unique_1)))"
   ]
  },
  {
   "cell_type": "code",
   "execution_count": 159,
   "metadata": {},
   "outputs": [
    {
     "output_type": "stream",
     "name": "stderr",
     "text": [
      "55992it [03:10, 293.50it/s]\n"
     ]
    }
   ],
   "source": [
    "num_PDI_PDI_DF_combined_2 = calculate_pdi( weekly_returns = comb_df_num_pdi_merge, portfolios = samples_combined_unique_1, return_mean_range = 52)\n"
   ]
  },
  {
   "cell_type": "code",
   "execution_count": 108,
   "metadata": {},
   "outputs": [
    {
     "output_type": "error",
     "ename": "NameError",
     "evalue": "name 'num_PDI_PDI_DF_combined_2' is not defined",
     "traceback": [
      "\u001b[0;31m---------------------------------------------------------------------------\u001b[0m",
      "\u001b[0;31mNameError\u001b[0m                                 Traceback (most recent call last)",
      "\u001b[0;32m<ipython-input-108-cfc972b70bba>\u001b[0m in \u001b[0;36m<module>\u001b[0;34m\u001b[0m\n\u001b[1;32m      8\u001b[0m \u001b[0;34m\u001b[0m\u001b[0m\n\u001b[1;32m      9\u001b[0m \u001b[0;31m# Add traces\u001b[0m\u001b[0;34m\u001b[0m\u001b[0;34m\u001b[0m\u001b[0;34m\u001b[0m\u001b[0m\n\u001b[0;32m---> 10\u001b[0;31m \u001b[0mfig\u001b[0m\u001b[0;34m.\u001b[0m\u001b[0madd_trace\u001b[0m\u001b[0;34m(\u001b[0m\u001b[0mgo\u001b[0m\u001b[0;34m.\u001b[0m\u001b[0mBox\u001b[0m\u001b[0;34m(\u001b[0m\u001b[0mnum_PDI_PDI_DF_combined_2\u001b[0m\u001b[0;34m,\u001b[0m\u001b[0mx\u001b[0m\u001b[0;34m=\u001b[0m\u001b[0;34m\"# of Assets\"\u001b[0m\u001b[0;34m,\u001b[0m \u001b[0my\u001b[0m\u001b[0;34m=\u001b[0m\u001b[0;34m\"PDI_INDEX\"\u001b[0m\u001b[0;34m,\u001b[0m\u001b[0mmarker\u001b[0m\u001b[0;34m=\u001b[0m\u001b[0mdict\u001b[0m\u001b[0;34m(\u001b[0m\u001b[0mcolor\u001b[0m\u001b[0;34m=\u001b[0m\u001b[0;34m'steelblue'\u001b[0m\u001b[0;34m)\u001b[0m\u001b[0;34m)\u001b[0m\u001b[0;34m,\u001b[0m \u001b[0mrow\u001b[0m\u001b[0;34m=\u001b[0m\u001b[0;36m1\u001b[0m\u001b[0;34m,\u001b[0m \u001b[0mcol\u001b[0m\u001b[0;34m=\u001b[0m\u001b[0;36m1\u001b[0m\u001b[0;34m)\u001b[0m\u001b[0;34m\u001b[0m\u001b[0;34m\u001b[0m\u001b[0m\n\u001b[0m\u001b[1;32m     11\u001b[0m \u001b[0;34m\u001b[0m\u001b[0m\n\u001b[1;32m     12\u001b[0m \u001b[0;31m# Update xaxis properties\u001b[0m\u001b[0;34m\u001b[0m\u001b[0;34m\u001b[0m\u001b[0;34m\u001b[0m\u001b[0m\n",
      "\u001b[0;31mNameError\u001b[0m: name 'num_PDI_PDI_DF_combined_2' is not defined"
     ]
    }
   ],
   "source": [
    "# Initialize figure with subplots\n",
    "import plotly.graph_objects as go\n",
    "from plotly.subplots import make_subplots\n",
    "fig = go.Figure()\n",
    "fig = make_subplots(\n",
    "    rows=1, cols=1\n",
    ")\n",
    "\n",
    "# Add traces\n",
    "fig.add_trace(go.Box(num_PDI_PDI_DF_combined_2,x=\"# of Assets\", y=\"PDI_INDEX\",marker=dict(color='steelblue')), row=1, col=1)\n",
    "\n",
    "# Update xaxis properties\n",
    "#fig.update_xaxes(title_text=\"Percentage of cryptos in the portfolio's\", row=1, col=1)\n",
    "\n",
    "\n",
    "# Update yaxis properties\n",
    "fig.update_yaxes(title_text=\"Portfolio Diversification\", row=1, col=1)\n",
    "\n",
    "\n",
    "fig.update_layout(height=600,showlegend=False,template=\"plotly\", width = 1100)\n",
    "\n",
    "fig.show()"
   ]
  },
  {
   "cell_type": "code",
   "execution_count": 161,
   "metadata": {},
   "outputs": [],
   "source": [
    "fig = px.scatter(num_PDI_PDI_DF_combined_2, x=\"PDI_INDEX\", y=\"Sharpe Ratio\", color=\"# of Assets\")\n",
    "fig.show()"
   ]
  },
  {
   "cell_type": "code",
   "execution_count": 163,
   "metadata": {},
   "outputs": [],
   "source": [
    "# Initialize figure with subplots\n",
    "import plotly.graph_objects as go\n",
    "from plotly.subplots import make_subplots\n",
    "fig = go.Figure()\n",
    "fig = make_subplots(\n",
    "    rows=1, cols=1\n",
    ")\n",
    "\n",
    "# Add traces\n",
    "fig.add_trace(go.Box(x=num_PDI_PDI_DF_combined_2[\"PDI_INDEX\"], y=num_PDI_PDI_DF_combined_2[\"Annual STD\"],marker=dict(color='steelblue')), row=1, col=1)\n",
    "\n",
    "# Update xaxis properties\n",
    "#fig.update_xaxes(title_text=\"Percentage of cryptos in the portfolio's\", row=1, col=1)\n",
    "\n",
    "\n",
    "# Update yaxis properties\n",
    "fig.update_yaxes(title_text=\"Standard Deviation\", row=1, col=1)\n",
    "\n",
    "\n",
    "fig.update_layout(height=600,showlegend=False,template=\"plotly\", width = 1100)\n",
    "\n",
    "fig.show()"
   ]
  },
  {
   "source": [
    "#### Portfolios containing both crypto and ETF's"
   ],
   "cell_type": "markdown",
   "metadata": {}
  },
  {
   "cell_type": "code",
   "execution_count": 5,
   "metadata": {},
   "outputs": [
    {
     "output_type": "stream",
     "name": "stdout",
     "text": [
      "Number of Portfolios: 79990\n"
     ]
    }
   ],
   "source": [
    "samples = []\n",
    "for number in [10,9,8,7,6,5,4,3,2,1]:\n",
    "    for i in range(1,8000):\n",
    "        #samples.extend([list(x) for x in combinations(selected_tickers, number_of_assets)])\n",
    "        samples.append(random.sample(list(num_vs_pdi_etf.columns),number))\n",
    "\n",
    "\n",
    "print(\"Number of Portfolios: {}\".format(len(samples)))"
   ]
  },
  {
   "cell_type": "code",
   "execution_count": 8,
   "metadata": {},
   "outputs": [],
   "source": [
    "per_cryp = []\n",
    "for i in samples:\n",
    "    if int(len(i)) == 10:\n",
    "        per = np.round(1-(int(len(i))/10),1)\n",
    "        per_cryp.append(per)\n",
    "    else:\n",
    "        per = np.round(1-(int(len(i))/10),1)\n",
    "        per_cryp.append(per)"
   ]
  },
  {
   "cell_type": "code",
   "execution_count": 12,
   "metadata": {
    "tags": []
   },
   "outputs": [
    {
     "output_type": "stream",
     "name": "stdout",
     "text": [
      "Number of Portfolios: 79990\n"
     ]
    }
   ],
   "source": [
    "new_port = []\n",
    "for i in samples:\n",
    "    if int(len(i)) == 10:\n",
    "        new_port.append(i)\n",
    "    else:\n",
    "        new_port.append(i.extend(random.sample(list(num_vs_pdi_crypto.columns),10-len(i))))\n",
    "\n",
    "print(\"Number of Portfolios: {}\".format(len(new_port)))"
   ]
  },
  {
   "cell_type": "code",
   "execution_count": 17,
   "metadata": {},
   "outputs": [],
   "source": [
    "num_vs_pdi_combined = pd.merge(num_vs_pdi_etf,num_vs_pdi_crypto, left_index=True,right_index=True, how=\"inner\")"
   ]
  },
  {
   "cell_type": "code",
   "execution_count": 18,
   "metadata": {},
   "outputs": [
    {
     "output_type": "stream",
     "name": "stderr",
     "text": [
      "79990it [03:41, 360.53it/s]\n"
     ]
    }
   ],
   "source": [
    "num_PDI_PDI_DF_combined = calculate_pdi( weekly_returns = num_vs_pdi_combined, portfolios = new_port, return_mean_range = 52)"
   ]
  },
  {
   "cell_type": "code",
   "execution_count": 19,
   "metadata": {},
   "outputs": [],
   "source": [
    "num_PDI_PDI_DF_combined[\"Percentage_Crypto\"] = per_cryp"
   ]
  },
  {
   "cell_type": "code",
   "execution_count": 20,
   "metadata": {},
   "outputs": [
    {
     "output_type": "execute_result",
     "data": {
      "text/plain": [
       "       PDI_INDEX # of Assets  \\\n",
       "1       2.724998          10   \n",
       "2       1.192735          10   \n",
       "3       3.121719          10   \n",
       "4       2.538988          10   \n",
       "5       2.134212          10   \n",
       "...          ...         ...   \n",
       "79986   4.820370          10   \n",
       "79987   4.989466          10   \n",
       "79988   4.867727          10   \n",
       "79989   4.916087          10   \n",
       "79990   4.852526          10   \n",
       "\n",
       "                                                  Assets  Sharpe Ratio  \\\n",
       "1      [IEO, SPEU, SPUU, DDM, CFO, EWL, IVW, RZV, IEU...      0.444796   \n",
       "2      [DBEU, VTWO, SCHV, PEZ, SCHF, PSQ, DTH, PSCD, ...      0.378020   \n",
       "3      [EZM, GXC, IWM, CSF, ARKK, QQXT, XBI, DVYE, CA...      0.681106   \n",
       "4      [PSI, EEMO, GDXJ, PKB, IEV, ITA, EQWL, RPV, PX...      0.669173   \n",
       "5      [CFA, VAW, VB, EEMA, SLX, FVD, MOAT, PBS, EEMV...      0.599214   \n",
       "...                                                  ...           ...   \n",
       "79986  [YINN, BTC-USD, NMC-USD, DOGE-USD, XRP-USD, XL...      2.169165   \n",
       "79987  [QQQE, XVG-USD, BTC-USD, XMR-USD, NMC-USD, DAS...      2.210480   \n",
       "79988  [ILF, NMC-USD, DOGE-USD, XMR-USD, DASH-USD, XR...      2.169409   \n",
       "79989  [FDL, DOGE-USD, XVG-USD, BTC-USD, XMR-USD, DAS...      2.188186   \n",
       "79990  [EES, BTC-USD, XMR-USD, DOGE-USD, DASH-USD, NM...      2.189940   \n",
       "\n",
       "       Annual Return  Annual STD  Percentage_Crypto  \n",
       "1           0.097024    0.218131                0.0  \n",
       "2           0.057570    0.152292                0.0  \n",
       "3           0.130335    0.191359                0.0  \n",
       "4           0.135878    0.203053                0.0  \n",
       "5           0.112083    0.187050                0.0  \n",
       "...              ...         ...                ...  \n",
       "79986       2.326518    1.072541                0.9  \n",
       "79987       2.356302    1.065969                0.9  \n",
       "79988       2.315373    1.067283                0.9  \n",
       "79989       2.330589    1.065078                0.9  \n",
       "79990       2.334831    1.066162                0.9  \n",
       "\n",
       "[79990 rows x 7 columns]"
      ],
      "text/html": "<div>\n<style scoped>\n    .dataframe tbody tr th:only-of-type {\n        vertical-align: middle;\n    }\n\n    .dataframe tbody tr th {\n        vertical-align: top;\n    }\n\n    .dataframe thead th {\n        text-align: right;\n    }\n</style>\n<table border=\"1\" class=\"dataframe\">\n  <thead>\n    <tr style=\"text-align: right;\">\n      <th></th>\n      <th>PDI_INDEX</th>\n      <th># of Assets</th>\n      <th>Assets</th>\n      <th>Sharpe Ratio</th>\n      <th>Annual Return</th>\n      <th>Annual STD</th>\n      <th>Percentage_Crypto</th>\n    </tr>\n  </thead>\n  <tbody>\n    <tr>\n      <th>1</th>\n      <td>2.724998</td>\n      <td>10</td>\n      <td>[IEO, SPEU, SPUU, DDM, CFO, EWL, IVW, RZV, IEU...</td>\n      <td>0.444796</td>\n      <td>0.097024</td>\n      <td>0.218131</td>\n      <td>0.0</td>\n    </tr>\n    <tr>\n      <th>2</th>\n      <td>1.192735</td>\n      <td>10</td>\n      <td>[DBEU, VTWO, SCHV, PEZ, SCHF, PSQ, DTH, PSCD, ...</td>\n      <td>0.378020</td>\n      <td>0.057570</td>\n      <td>0.152292</td>\n      <td>0.0</td>\n    </tr>\n    <tr>\n      <th>3</th>\n      <td>3.121719</td>\n      <td>10</td>\n      <td>[EZM, GXC, IWM, CSF, ARKK, QQXT, XBI, DVYE, CA...</td>\n      <td>0.681106</td>\n      <td>0.130335</td>\n      <td>0.191359</td>\n      <td>0.0</td>\n    </tr>\n    <tr>\n      <th>4</th>\n      <td>2.538988</td>\n      <td>10</td>\n      <td>[PSI, EEMO, GDXJ, PKB, IEV, ITA, EQWL, RPV, PX...</td>\n      <td>0.669173</td>\n      <td>0.135878</td>\n      <td>0.203053</td>\n      <td>0.0</td>\n    </tr>\n    <tr>\n      <th>5</th>\n      <td>2.134212</td>\n      <td>10</td>\n      <td>[CFA, VAW, VB, EEMA, SLX, FVD, MOAT, PBS, EEMV...</td>\n      <td>0.599214</td>\n      <td>0.112083</td>\n      <td>0.187050</td>\n      <td>0.0</td>\n    </tr>\n    <tr>\n      <th>...</th>\n      <td>...</td>\n      <td>...</td>\n      <td>...</td>\n      <td>...</td>\n      <td>...</td>\n      <td>...</td>\n      <td>...</td>\n    </tr>\n    <tr>\n      <th>79986</th>\n      <td>4.820370</td>\n      <td>10</td>\n      <td>[YINN, BTC-USD, NMC-USD, DOGE-USD, XRP-USD, XL...</td>\n      <td>2.169165</td>\n      <td>2.326518</td>\n      <td>1.072541</td>\n      <td>0.9</td>\n    </tr>\n    <tr>\n      <th>79987</th>\n      <td>4.989466</td>\n      <td>10</td>\n      <td>[QQQE, XVG-USD, BTC-USD, XMR-USD, NMC-USD, DAS...</td>\n      <td>2.210480</td>\n      <td>2.356302</td>\n      <td>1.065969</td>\n      <td>0.9</td>\n    </tr>\n    <tr>\n      <th>79988</th>\n      <td>4.867727</td>\n      <td>10</td>\n      <td>[ILF, NMC-USD, DOGE-USD, XMR-USD, DASH-USD, XR...</td>\n      <td>2.169409</td>\n      <td>2.315373</td>\n      <td>1.067283</td>\n      <td>0.9</td>\n    </tr>\n    <tr>\n      <th>79989</th>\n      <td>4.916087</td>\n      <td>10</td>\n      <td>[FDL, DOGE-USD, XVG-USD, BTC-USD, XMR-USD, DAS...</td>\n      <td>2.188186</td>\n      <td>2.330589</td>\n      <td>1.065078</td>\n      <td>0.9</td>\n    </tr>\n    <tr>\n      <th>79990</th>\n      <td>4.852526</td>\n      <td>10</td>\n      <td>[EES, BTC-USD, XMR-USD, DOGE-USD, DASH-USD, NM...</td>\n      <td>2.189940</td>\n      <td>2.334831</td>\n      <td>1.066162</td>\n      <td>0.9</td>\n    </tr>\n  </tbody>\n</table>\n<p>79990 rows × 7 columns</p>\n</div>"
     },
     "metadata": {},
     "execution_count": 20
    }
   ],
   "source": [
    "num_PDI_PDI_DF_combined"
   ]
  },
  {
   "cell_type": "code",
   "execution_count": 56,
   "metadata": {},
   "outputs": [],
   "source": [
    "# Initialize figure with subplots\n",
    "import plotly.graph_objects as go\n",
    "from plotly.subplots import make_subplots\n",
    "fig = go.Figure()\n",
    "fig = make_subplots(\n",
    "    rows=1, cols=1\n",
    ")\n",
    "\n",
    "# Add traces\n",
    "fig.add_trace(go.Box(x=num_PDI_PDI_DF_combined[\"Percentage_Crypto\"], y=num_PDI_PDI_DF_combined[\"PDI_INDEX\"],marker=dict(color='steelblue')), row=1, col=1)\n",
    "\n",
    "# Update xaxis properties\n",
    "fig.update_xaxes(title_text=\"Percentage of cryptos in the portfolio's\", row=1, col=1)\n",
    "\n",
    "\n",
    "# Update yaxis properties\n",
    "fig.update_yaxes(title_text=\"Diversification Index\", row=1, col=1)\n",
    "\n",
    "\n",
    "fig.update_layout(height=600,showlegend=False,template=\"plotly\",title_text=\"Portfolio Diversificaiton Index - Percentage Allocated Cryptos\", width = 1100)\n",
    "\n",
    "fig.show()"
   ]
  },
  {
   "source": [
    "## PDI vs Risk\n"
   ],
   "cell_type": "markdown",
   "metadata": {}
  },
  {
   "cell_type": "code",
   "execution_count": 111,
   "metadata": {},
   "outputs": [],
   "source": [
    "num_PDI_PDI_DF_combined_25[\"allo_cryp\"] = \"25\"\n",
    "num_PDI_PDI_DF_combined_50[\"allo_cryp\"] = \"50\"\n",
    "num_PDI_PDI_DF_combined_75[\"allo_cryp\"] = \"75\""
   ]
  },
  {
   "cell_type": "code",
   "execution_count": 114,
   "metadata": {},
   "outputs": [],
   "source": [
    "concat_all = pd.concat([num_PDI_PDI_DF_combined_25,num_PDI_PDI_DF_combined_50,num_PDI_PDI_DF_combined_75])"
   ]
  },
  {
   "cell_type": "code",
   "execution_count": 116,
   "metadata": {},
   "outputs": [],
   "source": [
    "# 25% crypto\n",
    "fig = px.box(concat_all,x=\"pdi_round\",y=\"Annual STD\", color=\"# of Assets\")\n",
    "fig.update_layout(height=500,showlegend=True,template=\"plotly\", width = 1000)\n",
    "fig.update_xaxes(title_text=\"Portfolio Diversification Index\")\n",
    "fig.show()\n",
    "\n"
   ]
  },
  {
   "cell_type": "code",
   "execution_count": 118,
   "metadata": {},
   "outputs": [],
   "source": [
    "# 25% crypto\n",
    "fig = px.box(num_PDI_PDI_DF_combined_25,x=\"pdi_round\",y=\"Annual STD\")\n",
    "fig.update_layout(height=500,showlegend=True,template=\"plotly\", width = 1000)\n",
    "fig.update_xaxes(title_text=\"Portfolio Diversification Index\")\n",
    "\n",
    "fig.show()\n",
    "\n",
    "# 50% crypto\n",
    "fig = px.box(num_PDI_PDI_DF_combined_50,x=\"pdi_round\",y=\"Annual STD\")\n",
    "fig.update_layout(height=500,showlegend=True,template=\"plotly\", width = 1000)\n",
    "fig.update_xaxes(title_text=\"Portfolio Diversification Index\")\n",
    "\n",
    "fig.show()\n",
    "\n",
    "# 75% crypto\n",
    "fig = px.box(num_PDI_PDI_DF_combined_75,x=\"pdi_round\",y=\"Annual STD\")\n",
    "fig.update_layout(height=500,showlegend=True,template=\"plotly\", width = 1000)\n",
    "fig.update_xaxes(title_text=\"Portfolio Diversification Index\")\n",
    "fig.show()"
   ]
  },
  {
   "cell_type": "code",
   "execution_count": null,
   "metadata": {},
   "outputs": [],
   "source": []
  },
  {
   "cell_type": "code",
   "execution_count": 7,
   "metadata": {},
   "outputs": [
    {
     "output_type": "stream",
     "name": "stderr",
     "text": [
      "59997it [02:49, 354.25it/s]\n"
     ]
    }
   ],
   "source": [
    "num_PDI_PDI_DF_etf = calculate_pdi( weekly_returns = num_vs_pdi_etf, portfolios = samples_mini_etf, return_mean_range = 52)\n",
    "#num_PDI_PDI_DF_crypto = calculate_pdi( weekly_returns = num_vs_pdi_crypto, portfolios = samples_mini_crypto, return_mean_range = 52)"
   ]
  },
  {
   "cell_type": "code",
   "execution_count": 12,
   "metadata": {},
   "outputs": [],
   "source": [
    "num_PDI_PDI_DF_etf[\"str_PDI\"] = num_PDI_PDI_DF_etf[\"PDI_INDEX\"].round(0)\n",
    "num_PDI_PDI_DF_etf[\"str_PDI\"] = num_PDI_PDI_DF_etf[\"str_PDI\"].astype(int)\n",
    "num_PDI_PDI_DF_etf[\"str_PDI\"] = num_PDI_PDI_DF_etf[\"str_PDI\"].astype(str)\n",
    "\n",
    "# num_PDI_PDI_DF_crypto[\"str_PDI\"] = num_PDI_PDI_DF_crypto[\"PDI_INDEX\"].round(0)\n",
    "# num_PDI_PDI_DF_crypto[\"str_PDI\"] = num_PDI_PDI_DF_crypto[\"str_PDI\"].astype(int)\n",
    "# num_PDI_PDI_DF_crypto[\"str_PDI\"] = num_PDI_PDI_DF_crypto[\"str_PDI\"].astype(str)"
   ]
  },
  {
   "cell_type": "code",
   "execution_count": 60,
   "metadata": {},
   "outputs": [],
   "source": [
    "from plotly.subplots import make_subplots\n",
    "import plotly.graph_objects as go\n",
    "\n",
    "fig = go.Figure()\n",
    "# Initialize figure with subplots\n",
    "fig = make_subplots(\n",
    "    rows=2, cols=2, subplot_titles=(\"ETF Universe\", \"Crypto Universe\")\n",
    ")\n",
    "\n",
    "# Add traces\n",
    "fig.add_trace(go.Box(x=num_PDI_PDI_DF_etf[\"str_PDI\"], y=num_PDI_PDI_DF_etf[\"Annual STD\"],marker=dict(color='steelblue')), row=1, col=1)\n",
    "fig.add_trace(go.Box(x=num_PDI_PDI_DF_crypto[\"str_PDI\"], y=num_PDI_PDI_DF_crypto[\"Annual STD\"],marker=dict(color='darkslateblue')), row=1, col=2)\n",
    "\n",
    "\n",
    "# Update xaxis properties\n",
    "fig.update_xaxes(title_text=\"Portfolio Diversification Index\", row=1, col=1)\n",
    "fig.update_xaxes(title_text=\"Portfolio Diversification Index\", row=1, col=2)\n",
    "\n",
    "# Update yaxis properties\n",
    "fig.update_yaxes(title_text=\"Volatility\", row=1, col=1)\n",
    "fig.update_yaxes(title_text=\"Volatility\",row=1, col=2)\n",
    "\n",
    "fig.update_layout(height=1100,showlegend=False,template=\"plotly\")\n",
    "\n",
    "fig.show()"
   ]
  },
  {
   "cell_type": "code",
   "execution_count": 59,
   "metadata": {},
   "outputs": [],
   "source": [
    "fig = px.scatter(num_PDI_PDI_DF_crypto, x=\"PDI_INDEX\", y=\"Annual STD\", color=\"# of Assets\")\n",
    "fig.show()"
   ]
  },
  {
   "cell_type": "code",
   "execution_count": 40,
   "metadata": {},
   "outputs": [
    {
     "output_type": "execute_result",
     "data": {
      "text/plain": [
       "{'1': 0.18191475554760222, '2': 0.19508316249051075, '3': 0.20171149762356633}"
      ]
     },
     "metadata": {},
     "execution_count": 40
    }
   ],
   "source": [
    "list_1"
   ]
  },
  {
   "source": [
    "## Portoflio Diversification"
   ],
   "cell_type": "markdown",
   "metadata": {}
  },
  {
   "cell_type": "code",
   "execution_count": 39,
   "metadata": {},
   "outputs": [],
   "source": [
    "pdi_div_etf = pd.read_csv(\"WeeklyReturns.csv\", index_col=\"Date\").dropna(axis=1)"
   ]
  },
  {
   "cell_type": "code",
   "execution_count": 40,
   "metadata": {},
   "outputs": [
    {
     "output_type": "stream",
     "name": "stdout",
     "text": [
      "Number of Portfolios ETF: 74963\n------------------------------------------------------------\n"
     ]
    }
   ],
   "source": [
    "num_pdi_ticker_etf = pdi_div_etf.columns\n",
    "samples_etf = []\n",
    "for number in range(2,17,1):\n",
    "    for i in range(1,5000):\n",
    "        #samples.extend([list(x) for x in combinations(selected_tickers, number_of_assets)])\n",
    "        samples_etf.append(random.sample(list(num_pdi_ticker_etf),number))\n",
    "samples_mini_etf = []\n",
    "for i in samples_etf:\n",
    "    if i not in samples_mini_etf:\n",
    "        samples_mini_etf.append(i)\n",
    "\n",
    "print(\"Number of Portfolios ETF: {}\".format(len(samples_mini_etf)))\n",
    "print(60 *\"-\")\n"
   ]
  },
  {
   "cell_type": "code",
   "execution_count": 41,
   "metadata": {},
   "outputs": [
    {
     "output_type": "stream",
     "name": "stderr",
     "text": [
      "74963it [03:52, 322.68it/s]\n"
     ]
    }
   ],
   "source": [
    "PDI_div_DF_etf = calculate_pdi( weekly_returns = pdi_div_etf, portfolios = samples_mini_etf, return_mean_range = 52)"
   ]
  },
  {
   "cell_type": "code",
   "execution_count": 42,
   "metadata": {},
   "outputs": [
    {
     "output_type": "execute_result",
     "data": {
      "text/plain": [
       "                       Category            Fundamental Cluster  \\\n",
       "SPY                 Large Blend  High Fundamental Broad Market   \n",
       "IVV                 Large Blend  High Fundamental Broad Market   \n",
       "VTI                 Large Blend  High Fundamental Broad Market   \n",
       "VOO                 Large Blend  High Fundamental Broad Market   \n",
       "QQQ                Large Growth  High Fundamental Broad Market   \n",
       "...                         ...                            ...   \n",
       "FTAG          Natural Resources  Mid Fundamentals Broad Market   \n",
       "CHII               China Region  Low Fundamentals Broad Market   \n",
       "CHIM               China Region  Low Fundamentals Broad Market   \n",
       "CHIE               China Region  Low Fundamentals Broad Market   \n",
       "LTL   Trading--Leveraged Equity           Market Leveraged ETF   \n",
       "\n",
       "                                           Risk Cluster  \n",
       "SPY   Moderat/High Risk - Slightly Above Market Vola...  \n",
       "IVV   Moderat/High Risk - Slightly Above Market Vola...  \n",
       "VTI   Moderat/High Risk - Slightly Above Market Vola...  \n",
       "VOO   Moderat/High Risk - Slightly Above Market Vola...  \n",
       "QQQ   Moderat/High Risk - Slightly Above Market Vola...  \n",
       "...                                                 ...  \n",
       "FTAG     Moderat Risk - Slighty Below Market Volatility  \n",
       "CHII     Moderat Risk - Slighty Below Market Volatility  \n",
       "CHIM  Moderat/High Risk - Slightly Above Market Vola...  \n",
       "CHIE     Moderat Risk - Slighty Below Market Volatility  \n",
       "LTL                  High Risk - Double Market Volatile  \n",
       "\n",
       "[695 rows x 3 columns]"
      ],
      "text/html": "<div>\n<style scoped>\n    .dataframe tbody tr th:only-of-type {\n        vertical-align: middle;\n    }\n\n    .dataframe tbody tr th {\n        vertical-align: top;\n    }\n\n    .dataframe thead th {\n        text-align: right;\n    }\n</style>\n<table border=\"1\" class=\"dataframe\">\n  <thead>\n    <tr style=\"text-align: right;\">\n      <th></th>\n      <th>Category</th>\n      <th>Fundamental Cluster</th>\n      <th>Risk Cluster</th>\n    </tr>\n  </thead>\n  <tbody>\n    <tr>\n      <th>SPY</th>\n      <td>Large Blend</td>\n      <td>High Fundamental Broad Market</td>\n      <td>Moderat/High Risk - Slightly Above Market Vola...</td>\n    </tr>\n    <tr>\n      <th>IVV</th>\n      <td>Large Blend</td>\n      <td>High Fundamental Broad Market</td>\n      <td>Moderat/High Risk - Slightly Above Market Vola...</td>\n    </tr>\n    <tr>\n      <th>VTI</th>\n      <td>Large Blend</td>\n      <td>High Fundamental Broad Market</td>\n      <td>Moderat/High Risk - Slightly Above Market Vola...</td>\n    </tr>\n    <tr>\n      <th>VOO</th>\n      <td>Large Blend</td>\n      <td>High Fundamental Broad Market</td>\n      <td>Moderat/High Risk - Slightly Above Market Vola...</td>\n    </tr>\n    <tr>\n      <th>QQQ</th>\n      <td>Large Growth</td>\n      <td>High Fundamental Broad Market</td>\n      <td>Moderat/High Risk - Slightly Above Market Vola...</td>\n    </tr>\n    <tr>\n      <th>...</th>\n      <td>...</td>\n      <td>...</td>\n      <td>...</td>\n    </tr>\n    <tr>\n      <th>FTAG</th>\n      <td>Natural Resources</td>\n      <td>Mid Fundamentals Broad Market</td>\n      <td>Moderat Risk - Slighty Below Market Volatility</td>\n    </tr>\n    <tr>\n      <th>CHII</th>\n      <td>China Region</td>\n      <td>Low Fundamentals Broad Market</td>\n      <td>Moderat Risk - Slighty Below Market Volatility</td>\n    </tr>\n    <tr>\n      <th>CHIM</th>\n      <td>China Region</td>\n      <td>Low Fundamentals Broad Market</td>\n      <td>Moderat/High Risk - Slightly Above Market Vola...</td>\n    </tr>\n    <tr>\n      <th>CHIE</th>\n      <td>China Region</td>\n      <td>Low Fundamentals Broad Market</td>\n      <td>Moderat Risk - Slighty Below Market Volatility</td>\n    </tr>\n    <tr>\n      <th>LTL</th>\n      <td>Trading--Leveraged Equity</td>\n      <td>Market Leveraged ETF</td>\n      <td>High Risk - Double Market Volatile</td>\n    </tr>\n  </tbody>\n</table>\n<p>695 rows × 3 columns</p>\n</div>"
     },
     "metadata": {},
     "execution_count": 42
    }
   ],
   "source": [
    "fundamental_df"
   ]
  },
  {
   "cell_type": "code",
   "execution_count": null,
   "metadata": {},
   "outputs": [],
   "source": []
  },
  {
   "source": [
    "## Correlation Martrix VS Covariance "
   ],
   "cell_type": "markdown",
   "metadata": {}
  },
  {
   "cell_type": "code",
   "execution_count": 73,
   "metadata": {},
   "outputs": [],
   "source": [
    "from sklearn.decomposition import PCA\n",
    "pca =PCA()"
   ]
  },
  {
   "cell_type": "code",
   "execution_count": 74,
   "metadata": {},
   "outputs": [
    {
     "output_type": "execute_result",
     "data": {
      "text/plain": [
       "                UDOW       EPI       IYK       PEY       FNX\n",
       "Date                                                        \n",
       "2015-01-05 -0.052006 -0.012091 -0.011233 -0.015672 -0.018064\n",
       "2015-01-06 -0.026049 -0.029918 -0.005729 -0.006823 -0.013362\n",
       "2015-01-07  0.038547  0.017757  0.016894  0.011450  0.011580\n",
       "2015-01-08  0.054383  0.028007  0.016230  0.013585  0.015910\n",
       "2015-01-09 -0.026524  0.001340 -0.008127 -0.008190 -0.011268\n",
       "...              ...       ...       ...       ...       ...\n",
       "2020-12-24  0.007941  0.008481  0.006830  0.002324 -0.001823\n",
       "2020-12-28  0.019293  0.011212  0.002222  0.002899 -0.003819\n",
       "2020-12-29 -0.006144  0.003119 -0.002801 -0.007514 -0.013059\n",
       "2020-12-30  0.005783  0.003800  0.008952  0.005242  0.009711\n",
       "2020-12-31  0.015763  0.005162  0.005625  0.006952 -0.001683\n",
       "\n",
       "[1510 rows x 5 columns]"
      ],
      "text/html": "<div>\n<style scoped>\n    .dataframe tbody tr th:only-of-type {\n        vertical-align: middle;\n    }\n\n    .dataframe tbody tr th {\n        vertical-align: top;\n    }\n\n    .dataframe thead th {\n        text-align: right;\n    }\n</style>\n<table border=\"1\" class=\"dataframe\">\n  <thead>\n    <tr style=\"text-align: right;\">\n      <th></th>\n      <th>UDOW</th>\n      <th>EPI</th>\n      <th>IYK</th>\n      <th>PEY</th>\n      <th>FNX</th>\n    </tr>\n    <tr>\n      <th>Date</th>\n      <th></th>\n      <th></th>\n      <th></th>\n      <th></th>\n      <th></th>\n    </tr>\n  </thead>\n  <tbody>\n    <tr>\n      <th>2015-01-05</th>\n      <td>-0.052006</td>\n      <td>-0.012091</td>\n      <td>-0.011233</td>\n      <td>-0.015672</td>\n      <td>-0.018064</td>\n    </tr>\n    <tr>\n      <th>2015-01-06</th>\n      <td>-0.026049</td>\n      <td>-0.029918</td>\n      <td>-0.005729</td>\n      <td>-0.006823</td>\n      <td>-0.013362</td>\n    </tr>\n    <tr>\n      <th>2015-01-07</th>\n      <td>0.038547</td>\n      <td>0.017757</td>\n      <td>0.016894</td>\n      <td>0.011450</td>\n      <td>0.011580</td>\n    </tr>\n    <tr>\n      <th>2015-01-08</th>\n      <td>0.054383</td>\n      <td>0.028007</td>\n      <td>0.016230</td>\n      <td>0.013585</td>\n      <td>0.015910</td>\n    </tr>\n    <tr>\n      <th>2015-01-09</th>\n      <td>-0.026524</td>\n      <td>0.001340</td>\n      <td>-0.008127</td>\n      <td>-0.008190</td>\n      <td>-0.011268</td>\n    </tr>\n    <tr>\n      <th>...</th>\n      <td>...</td>\n      <td>...</td>\n      <td>...</td>\n      <td>...</td>\n      <td>...</td>\n    </tr>\n    <tr>\n      <th>2020-12-24</th>\n      <td>0.007941</td>\n      <td>0.008481</td>\n      <td>0.006830</td>\n      <td>0.002324</td>\n      <td>-0.001823</td>\n    </tr>\n    <tr>\n      <th>2020-12-28</th>\n      <td>0.019293</td>\n      <td>0.011212</td>\n      <td>0.002222</td>\n      <td>0.002899</td>\n      <td>-0.003819</td>\n    </tr>\n    <tr>\n      <th>2020-12-29</th>\n      <td>-0.006144</td>\n      <td>0.003119</td>\n      <td>-0.002801</td>\n      <td>-0.007514</td>\n      <td>-0.013059</td>\n    </tr>\n    <tr>\n      <th>2020-12-30</th>\n      <td>0.005783</td>\n      <td>0.003800</td>\n      <td>0.008952</td>\n      <td>0.005242</td>\n      <td>0.009711</td>\n    </tr>\n    <tr>\n      <th>2020-12-31</th>\n      <td>0.015763</td>\n      <td>0.005162</td>\n      <td>0.005625</td>\n      <td>0.006952</td>\n      <td>-0.001683</td>\n    </tr>\n  </tbody>\n</table>\n<p>1510 rows × 5 columns</p>\n</div>"
     },
     "metadata": {},
     "execution_count": 74
    }
   ],
   "source": [
    "data_cor_cov = pd.read_csv(\"DailyPrices.csv\", index_col=\"Date\").dropna(axis=1)\n",
    "num = 300\n",
    "data_cor_cov = data_cor_cov.iloc[:,num:num+5].pct_change().dropna(axis=0)\n",
    "data_cor_cov"
   ]
  },
  {
   "source": [
    "### Correlation can only maintaine equal weights in calculations \n"
   ],
   "cell_type": "markdown",
   "metadata": {}
  },
  {
   "source": [
    "### Correlation "
   ],
   "cell_type": "markdown",
   "metadata": {}
  },
  {
   "cell_type": "code",
   "execution_count": 75,
   "metadata": {},
   "outputs": [
    {
     "output_type": "stream",
     "name": "stdout",
     "text": [
      "Correlation PDI: 1.4691751294366147\n"
     ]
    }
   ],
   "source": [
    "\n",
    "principalComponents_cor = pca.fit(data_cor_cov.corr())\n",
    "PDI_cor = 2*sum(principalComponents_cor.explained_variance_ratio_*range(1,len(principalComponents_cor.explained_variance_ratio_)+1,1))-1\n",
    "print(\"Correlation PDI: {}\".format(PDI_cor))"
   ]
  },
  {
   "source": [
    "### Covariance "
   ],
   "cell_type": "markdown",
   "metadata": {}
  },
  {
   "source": [
    "#### Equal Weight"
   ],
   "cell_type": "markdown",
   "metadata": {}
  },
  {
   "cell_type": "code",
   "execution_count": 76,
   "metadata": {},
   "outputs": [
    {
     "output_type": "stream",
     "name": "stdout",
     "text": [
      "Equal weight Covariance PDI: 1.0337430425723007\n"
     ]
    }
   ],
   "source": [
    "principalComponents_cov = pca.fit(data_cor_cov.cov())\n",
    "PDI_cov = 2*sum(principalComponents_cov.explained_variance_ratio_*range(1,len(principalComponents_cov.explained_variance_ratio_)+1,1))-1\n",
    "print(\"Equal weight Covariance PDI: {}\".format(PDI_cov))"
   ]
  },
  {
   "source": [
    "### Weigthed "
   ],
   "cell_type": "markdown",
   "metadata": {}
  },
  {
   "cell_type": "code",
   "execution_count": 77,
   "metadata": {},
   "outputs": [
    {
     "output_type": "stream",
     "name": "stdout",
     "text": [
      "Weight Covariance PDI: 1.0337430425723002\n"
     ]
    }
   ],
   "source": [
    "weights = [ 0.2,0.2,0.2,0.2,0.2]\n",
    "w_data = data_cor_cov.mul(weights)\n",
    "\n",
    "principalComponents_cov_w = pca.fit(w_data.cov())\n",
    "PDI_cov_w = 2*sum(principalComponents_cov_w.explained_variance_ratio_*range(1,len(principalComponents_cov_w.explained_variance_ratio_)+1,1))-1\n",
    "print(\"Weight Covariance PDI: {}\".format(PDI_cov_w))"
   ]
  },
  {
   "cell_type": "code",
   "execution_count": 142,
   "metadata": {},
   "outputs": [],
   "source": [
    "import random\n",
    "n = 5\n",
    "w = [[0.2,0.2,0.2,0.2,0.2]]\n",
    "for i in range(1,100000):\n",
    "    weights = [random.random() for _ in range(n)]\n",
    "    sum_weights = sum(weights)\n",
    "    weights = [1*w/sum_weights for w in weights]\n",
    "    w.append(list(np.round(weights,2)))"
   ]
  },
  {
   "cell_type": "code",
   "execution_count": 143,
   "metadata": {},
   "outputs": [],
   "source": [
    "def calculate_pdi_weights( returns,return_mean_range, weights): \n",
    "\n",
    "    def meanRetAn(data):             \n",
    "        Result = 1\n",
    "        \n",
    "        for i in data:\n",
    "            Result *= (1+i)\n",
    "            \n",
    "        Result = Result**(1/float(len(data)/return_mean_range))-1\n",
    "        \n",
    "        return(Result)\n",
    "\n",
    "    pca = PCA()\n",
    "    PDI_dict = {}\n",
    "\n",
    "    for y in tqdm(weights):\n",
    "        port_ret  = returns.mul(y,axis=1).sum(axis=1)\n",
    "\n",
    "        ann_ret = meanRetAn(list(port_ret))\n",
    "        an_cov = returns.cov()\n",
    "        port_std = np.sqrt(np.dot(np.array(y).T, np.dot(an_cov, y)))*np.sqrt(return_mean_range)\n",
    "        corr_matrix = np.array(returns.mul(y).cov())\n",
    "        principalComponents = pca.fit(corr_matrix)\n",
    "        PDI = 2*sum(principalComponents.explained_variance_ratio_*range(1,len(principalComponents.explained_variance_ratio_)+1,1))-1\n",
    "\n",
    "        PDI_dict[str(y)] = {}\n",
    "        PDI_dict[str(y)][\"PDI_INDEX\"] = PDI\n",
    "        PDI_dict[str(y)][\"# of Assets\"] = len(y)\n",
    "        PDI_dict[str(y)][\"Sharpe Ratio\"] = ann_ret/port_std\n",
    "        PDI_dict[str(y)][\"Annual Return\"] = ann_ret\n",
    "        PDI_dict[str(y)][\"Annual STD\"] = port_std\n",
    "\n",
    "    return PDI_dict\n"
   ]
  },
  {
   "cell_type": "code",
   "execution_count": 149,
   "metadata": {},
   "outputs": [
    {
     "output_type": "execute_result",
     "data": {
      "text/plain": [
       "                 VLU      QTEC       LIT       IXP       BJK\n",
       "Date                                                        \n",
       "2015-01-05  0.000000 -0.014662 -0.021333 -0.019336 -0.023040\n",
       "2015-01-06 -0.028224 -0.021855  0.000000 -0.003740 -0.018704\n",
       "2015-01-07  0.015441  0.009983  0.000000  0.011090  0.017956\n",
       "2015-01-08  0.000000  0.022594  0.011807  0.016369  0.007870\n",
       "2015-01-09  0.010258 -0.000921 -0.000898 -0.002324 -0.003500\n",
       "...              ...       ...       ...       ...       ...\n",
       "2020-12-24 -0.001331  0.005044 -0.008037 -0.003952  0.004064\n",
       "2020-12-28  0.004999 -0.004497  0.026840  0.009850 -0.003835\n",
       "2020-12-29 -0.004891 -0.004444 -0.025810  0.002167 -0.003208\n",
       "2020-12-30  0.005749  0.010611  0.053032 -0.002433  0.007295\n",
       "2020-12-31  0.004722 -0.000217 -0.006741  0.005827 -0.002343\n",
       "\n",
       "[1510 rows x 5 columns]"
      ],
      "text/html": "<div>\n<style scoped>\n    .dataframe tbody tr th:only-of-type {\n        vertical-align: middle;\n    }\n\n    .dataframe tbody tr th {\n        vertical-align: top;\n    }\n\n    .dataframe thead th {\n        text-align: right;\n    }\n</style>\n<table border=\"1\" class=\"dataframe\">\n  <thead>\n    <tr style=\"text-align: right;\">\n      <th></th>\n      <th>VLU</th>\n      <th>QTEC</th>\n      <th>LIT</th>\n      <th>IXP</th>\n      <th>BJK</th>\n    </tr>\n    <tr>\n      <th>Date</th>\n      <th></th>\n      <th></th>\n      <th></th>\n      <th></th>\n      <th></th>\n    </tr>\n  </thead>\n  <tbody>\n    <tr>\n      <th>2015-01-05</th>\n      <td>0.000000</td>\n      <td>-0.014662</td>\n      <td>-0.021333</td>\n      <td>-0.019336</td>\n      <td>-0.023040</td>\n    </tr>\n    <tr>\n      <th>2015-01-06</th>\n      <td>-0.028224</td>\n      <td>-0.021855</td>\n      <td>0.000000</td>\n      <td>-0.003740</td>\n      <td>-0.018704</td>\n    </tr>\n    <tr>\n      <th>2015-01-07</th>\n      <td>0.015441</td>\n      <td>0.009983</td>\n      <td>0.000000</td>\n      <td>0.011090</td>\n      <td>0.017956</td>\n    </tr>\n    <tr>\n      <th>2015-01-08</th>\n      <td>0.000000</td>\n      <td>0.022594</td>\n      <td>0.011807</td>\n      <td>0.016369</td>\n      <td>0.007870</td>\n    </tr>\n    <tr>\n      <th>2015-01-09</th>\n      <td>0.010258</td>\n      <td>-0.000921</td>\n      <td>-0.000898</td>\n      <td>-0.002324</td>\n      <td>-0.003500</td>\n    </tr>\n    <tr>\n      <th>...</th>\n      <td>...</td>\n      <td>...</td>\n      <td>...</td>\n      <td>...</td>\n      <td>...</td>\n    </tr>\n    <tr>\n      <th>2020-12-24</th>\n      <td>-0.001331</td>\n      <td>0.005044</td>\n      <td>-0.008037</td>\n      <td>-0.003952</td>\n      <td>0.004064</td>\n    </tr>\n    <tr>\n      <th>2020-12-28</th>\n      <td>0.004999</td>\n      <td>-0.004497</td>\n      <td>0.026840</td>\n      <td>0.009850</td>\n      <td>-0.003835</td>\n    </tr>\n    <tr>\n      <th>2020-12-29</th>\n      <td>-0.004891</td>\n      <td>-0.004444</td>\n      <td>-0.025810</td>\n      <td>0.002167</td>\n      <td>-0.003208</td>\n    </tr>\n    <tr>\n      <th>2020-12-30</th>\n      <td>0.005749</td>\n      <td>0.010611</td>\n      <td>0.053032</td>\n      <td>-0.002433</td>\n      <td>0.007295</td>\n    </tr>\n    <tr>\n      <th>2020-12-31</th>\n      <td>0.004722</td>\n      <td>-0.000217</td>\n      <td>-0.006741</td>\n      <td>0.005827</td>\n      <td>-0.002343</td>\n    </tr>\n  </tbody>\n</table>\n<p>1510 rows × 5 columns</p>\n</div>"
     },
     "metadata": {},
     "execution_count": 149
    }
   ],
   "source": [
    "data_cor_cov_1 = pd.read_csv(\"DailyPrices.csv\", index_col=\"Date\").dropna(axis=1)\n",
    "assets = [\"VLU\",\"QTEC\",\"LIT\",\"IXP\",\"BJK\"]\n",
    "data_cor_cov_1 = data_cor_cov_1[assets].pct_change().dropna(axis=0)\n",
    "data_cor_cov_1"
   ]
  },
  {
   "cell_type": "code",
   "execution_count": 150,
   "metadata": {},
   "outputs": [
    {
     "output_type": "stream",
     "name": "stderr",
     "text": [
      "100%|██████████| 100000/100000 [03:08<00:00, 530.41it/s]\n"
     ]
    }
   ],
   "source": [
    "aa = calculate_pdi_weights(data_cor_cov_1,252,w)"
   ]
  },
  {
   "cell_type": "code",
   "execution_count": 151,
   "metadata": {},
   "outputs": [
    {
     "output_type": "execute_result",
     "data": {
      "text/plain": [
       "                            index  PDI_INDEX  # of Assets  Sharpe Ratio  \\\n",
       "0       [0.2, 0.2, 0.2, 0.2, 0.2]   2.245102          5.0      0.710304   \n",
       "1  [0.12, 0.27, 0.26, 0.33, 0.01]   1.205199          5.0      0.796164   \n",
       "2  [0.19, 0.09, 0.51, 0.18, 0.03]   1.006471          5.0      0.777796   \n",
       "3   [0.09, 0.3, 0.25, 0.19, 0.17]   1.252533          5.0      0.772163   \n",
       "4  [0.21, 0.19, 0.19, 0.26, 0.15]   2.471552          5.0      0.712602   \n",
       "\n",
       "   Annual Return  Annual STD  \n",
       "0       0.137860    0.194086  \n",
       "1       0.153273    0.192514  \n",
       "2       0.162808    0.209319  \n",
       "3       0.156835    0.203111  \n",
       "4       0.135098    0.189584  "
      ],
      "text/html": "<div>\n<style scoped>\n    .dataframe tbody tr th:only-of-type {\n        vertical-align: middle;\n    }\n\n    .dataframe tbody tr th {\n        vertical-align: top;\n    }\n\n    .dataframe thead th {\n        text-align: right;\n    }\n</style>\n<table border=\"1\" class=\"dataframe\">\n  <thead>\n    <tr style=\"text-align: right;\">\n      <th></th>\n      <th>index</th>\n      <th>PDI_INDEX</th>\n      <th># of Assets</th>\n      <th>Sharpe Ratio</th>\n      <th>Annual Return</th>\n      <th>Annual STD</th>\n    </tr>\n  </thead>\n  <tbody>\n    <tr>\n      <th>0</th>\n      <td>[0.2, 0.2, 0.2, 0.2, 0.2]</td>\n      <td>2.245102</td>\n      <td>5.0</td>\n      <td>0.710304</td>\n      <td>0.137860</td>\n      <td>0.194086</td>\n    </tr>\n    <tr>\n      <th>1</th>\n      <td>[0.12, 0.27, 0.26, 0.33, 0.01]</td>\n      <td>1.205199</td>\n      <td>5.0</td>\n      <td>0.796164</td>\n      <td>0.153273</td>\n      <td>0.192514</td>\n    </tr>\n    <tr>\n      <th>2</th>\n      <td>[0.19, 0.09, 0.51, 0.18, 0.03]</td>\n      <td>1.006471</td>\n      <td>5.0</td>\n      <td>0.777796</td>\n      <td>0.162808</td>\n      <td>0.209319</td>\n    </tr>\n    <tr>\n      <th>3</th>\n      <td>[0.09, 0.3, 0.25, 0.19, 0.17]</td>\n      <td>1.252533</td>\n      <td>5.0</td>\n      <td>0.772163</td>\n      <td>0.156835</td>\n      <td>0.203111</td>\n    </tr>\n    <tr>\n      <th>4</th>\n      <td>[0.21, 0.19, 0.19, 0.26, 0.15]</td>\n      <td>2.471552</td>\n      <td>5.0</td>\n      <td>0.712602</td>\n      <td>0.135098</td>\n      <td>0.189584</td>\n    </tr>\n  </tbody>\n</table>\n</div>"
     },
     "metadata": {},
     "execution_count": 151
    }
   ],
   "source": [
    "weight_df = pd.DataFrame(aa).T.reset_index()\n",
    "weight_df.head()"
   ]
  },
  {
   "cell_type": "code",
   "execution_count": 180,
   "metadata": {},
   "outputs": [],
   "source": [
    "fig = px.scatter(weight_df, y=\"Annual STD\", x=\"PDI_INDEX\", hover_data=[\"index\"], color=\"Annual Return\", title = \"Highest Combintation PDI - And then weighted\")\n",
    "fig.show()"
   ]
  },
  {
   "cell_type": "code",
   "execution_count": 155,
   "metadata": {},
   "outputs": [],
   "source": [
    "fig = px.scatter_3d(weight_df, z=\"Annual Return\", y=\"Annual STD\", hover_data=[\"index\"],color=\"Sharpe Ratio\", x = \"PDI_INDEX\",title = \"Highest Combintation PDI - And then weighted\")\n",
    "fig.show()"
   ]
  },
  {
   "source": [
    "## Without crypto's "
   ],
   "cell_type": "markdown",
   "metadata": {}
  },
  {
   "cell_type": "code",
   "execution_count": 106,
   "metadata": {},
   "outputs": [],
   "source": [
    "etf = pd.read_csv(\"WeeklyReturns.csv\", index_col= \"Date\")\n",
    "etf_name = list(etf.columns)"
   ]
  },
  {
   "cell_type": "code",
   "execution_count": 108,
   "metadata": {},
   "outputs": [
    {
     "output_type": "stream",
     "name": "stdout",
     "text": [
      "Number of Portfolios: 99999\n"
     ]
    }
   ],
   "source": [
    "samples_etf = []\n",
    "\n",
    "for number in [5]:\n",
    "    for i in range(1,100000):\n",
    "        #samples.extend([list(x) for x in combinations(selected_tickers, number_of_assets)])\n",
    "        samples_etf.append(random.sample(etf_name,number))\n",
    "samples_mini = []\n",
    "for i in samples_etf:\n",
    "    if i not in samples_mini:\n",
    "        samples_mini.append(i)\n",
    "\n",
    "print(\"Number of Portfolios: {}\".format(len(samples_mini)))\n",
    "\n",
    "\n",
    "\n",
    "\n"
   ]
  },
  {
   "cell_type": "code",
   "execution_count": 110,
   "metadata": {},
   "outputs": [
    {
     "output_type": "execute_result",
     "data": {
      "text/plain": [
       "99999"
      ]
     },
     "metadata": {},
     "execution_count": 110
    }
   ],
   "source": [
    "len(samples_mini)"
   ]
  },
  {
   "cell_type": "code",
   "execution_count": 117,
   "metadata": {},
   "outputs": [
    {
     "output_type": "stream",
     "name": "stderr",
     "text": [
      "99999it [04:14, 392.21it/s]\n"
     ]
    }
   ],
   "source": [
    "PDI_DF, SPY_DF = calculate_pdi(etf, samples_mini, 52)"
   ]
  },
  {
   "cell_type": "code",
   "execution_count": 119,
   "metadata": {},
   "outputs": [
    {
     "output_type": "execute_result",
     "data": {
      "text/plain": [
       "       PDI_INDEX # of Assets                        Assets  Sharpe Ratio  \\\n",
       "1       1.319746           5    [CHIC, IGF, GWX, RWK, JKI]      0.378834   \n",
       "2       1.594580           5   [CZA, SYG, XLV, ACWI, CHIE]      0.542822   \n",
       "3       1.471866           5   [IGV, DIG, FILL, IPKW, VTI]      0.183430   \n",
       "4       2.125803           5  [RSP, ISRA, SOXX, DDM, ICLN]      0.808880   \n",
       "5       1.583234           5   [SLY, IHI, PSCE, SUSA, RZV]      0.182064   \n",
       "...          ...         ...                           ...           ...   \n",
       "99995   1.960906           5    [EXI, XRT, EWS, SDOG, HAP]      0.333575   \n",
       "99996   1.886686           5  [RETL, EWN, PRN, SPYV, FPXI]      0.629290   \n",
       "99997   2.233961           5  [IWR, DEEP, HACK, IVV, HEZU]      0.549769   \n",
       "99998   1.682608           5   [XSVM, DDM, IEMG, FDL, VFH]      0.488911   \n",
       "99999   2.383533           5  [EWO, VXF, ZJPN, ONEQ, TOLZ]      0.628571   \n",
       "\n",
       "       Annual Return  Annual STD  \n",
       "1           0.072948    0.192560  \n",
       "2           0.086214    0.158825  \n",
       "3           0.050372    0.274614  \n",
       "4           0.184427    0.228003  \n",
       "5           0.043980    0.241563  \n",
       "...              ...         ...  \n",
       "99995       0.063779    0.191197  \n",
       "99996       0.162200    0.257750  \n",
       "99997       0.104218    0.189567  \n",
       "99998       0.108017    0.220933  \n",
       "99999       0.110756    0.176202  \n",
       "\n",
       "[99999 rows x 6 columns]"
      ],
      "text/html": "<div>\n<style scoped>\n    .dataframe tbody tr th:only-of-type {\n        vertical-align: middle;\n    }\n\n    .dataframe tbody tr th {\n        vertical-align: top;\n    }\n\n    .dataframe thead th {\n        text-align: right;\n    }\n</style>\n<table border=\"1\" class=\"dataframe\">\n  <thead>\n    <tr style=\"text-align: right;\">\n      <th></th>\n      <th>PDI_INDEX</th>\n      <th># of Assets</th>\n      <th>Assets</th>\n      <th>Sharpe Ratio</th>\n      <th>Annual Return</th>\n      <th>Annual STD</th>\n    </tr>\n  </thead>\n  <tbody>\n    <tr>\n      <th>1</th>\n      <td>1.319746</td>\n      <td>5</td>\n      <td>[CHIC, IGF, GWX, RWK, JKI]</td>\n      <td>0.378834</td>\n      <td>0.072948</td>\n      <td>0.192560</td>\n    </tr>\n    <tr>\n      <th>2</th>\n      <td>1.594580</td>\n      <td>5</td>\n      <td>[CZA, SYG, XLV, ACWI, CHIE]</td>\n      <td>0.542822</td>\n      <td>0.086214</td>\n      <td>0.158825</td>\n    </tr>\n    <tr>\n      <th>3</th>\n      <td>1.471866</td>\n      <td>5</td>\n      <td>[IGV, DIG, FILL, IPKW, VTI]</td>\n      <td>0.183430</td>\n      <td>0.050372</td>\n      <td>0.274614</td>\n    </tr>\n    <tr>\n      <th>4</th>\n      <td>2.125803</td>\n      <td>5</td>\n      <td>[RSP, ISRA, SOXX, DDM, ICLN]</td>\n      <td>0.808880</td>\n      <td>0.184427</td>\n      <td>0.228003</td>\n    </tr>\n    <tr>\n      <th>5</th>\n      <td>1.583234</td>\n      <td>5</td>\n      <td>[SLY, IHI, PSCE, SUSA, RZV]</td>\n      <td>0.182064</td>\n      <td>0.043980</td>\n      <td>0.241563</td>\n    </tr>\n    <tr>\n      <th>...</th>\n      <td>...</td>\n      <td>...</td>\n      <td>...</td>\n      <td>...</td>\n      <td>...</td>\n      <td>...</td>\n    </tr>\n    <tr>\n      <th>99995</th>\n      <td>1.960906</td>\n      <td>5</td>\n      <td>[EXI, XRT, EWS, SDOG, HAP]</td>\n      <td>0.333575</td>\n      <td>0.063779</td>\n      <td>0.191197</td>\n    </tr>\n    <tr>\n      <th>99996</th>\n      <td>1.886686</td>\n      <td>5</td>\n      <td>[RETL, EWN, PRN, SPYV, FPXI]</td>\n      <td>0.629290</td>\n      <td>0.162200</td>\n      <td>0.257750</td>\n    </tr>\n    <tr>\n      <th>99997</th>\n      <td>2.233961</td>\n      <td>5</td>\n      <td>[IWR, DEEP, HACK, IVV, HEZU]</td>\n      <td>0.549769</td>\n      <td>0.104218</td>\n      <td>0.189567</td>\n    </tr>\n    <tr>\n      <th>99998</th>\n      <td>1.682608</td>\n      <td>5</td>\n      <td>[XSVM, DDM, IEMG, FDL, VFH]</td>\n      <td>0.488911</td>\n      <td>0.108017</td>\n      <td>0.220933</td>\n    </tr>\n    <tr>\n      <th>99999</th>\n      <td>2.383533</td>\n      <td>5</td>\n      <td>[EWO, VXF, ZJPN, ONEQ, TOLZ]</td>\n      <td>0.628571</td>\n      <td>0.110756</td>\n      <td>0.176202</td>\n    </tr>\n  </tbody>\n</table>\n<p>99999 rows × 6 columns</p>\n</div>"
     },
     "metadata": {},
     "execution_count": 119
    }
   ],
   "source": [
    "PDI_DF"
   ]
  },
  {
   "cell_type": "code",
   "execution_count": 128,
   "metadata": {},
   "outputs": [],
   "source": [
    "fig = px.scatter_3d(PDI_DF, x ='PDI_INDEX', y= \"Annual Return\", hover_data=[\"Assets\"], z = \"Annual STD\", color = \"Sharpe Ratio\")\n",
    "fig.show()"
   ]
  },
  {
   "cell_type": "code",
   "execution_count": null,
   "metadata": {},
   "outputs": [],
   "source": [
    "fig = px.scatter(PDI_DF, x ='PDI_INDEX',  color =\"Annual STD\", y= \"Sharpe Ratio\")\n",
    "fig.show()"
   ]
  },
  {
   "cell_type": "code",
   "execution_count": null,
   "metadata": {},
   "outputs": [],
   "source": [
    "fig = px.scatter(PDI_DF, x ='PDI_INDEX',  y=\"Annual STD\")\n",
    "fig.show()"
   ]
  },
  {
   "cell_type": "code",
   "execution_count": 129,
   "metadata": {},
   "outputs": [],
   "source": [
    "PDI_DF[\"Quantile\"] = pd.qcut(PDI_DF[\"PDI_INDEX\"],4)"
   ]
  },
  {
   "cell_type": "code",
   "execution_count": 133,
   "metadata": {},
   "outputs": [],
   "source": [
    "fig = px.scatter_3d(PDI_DF, x ='Annual STD',  color =\"Quantile\", y= \"Annual Return\", z=\"PDI_INDEX\" )\n",
    "fig.show()"
   ]
  },
  {
   "source": [
    "## Weigthing cryptoes in different sizes of a portfolio"
   ],
   "cell_type": "markdown",
   "metadata": {}
  },
  {
   "cell_type": "code",
   "execution_count": 43,
   "metadata": {},
   "outputs": [],
   "source": [
    "crypto = pd.read_csv(\"crypto_weekly.csv\",index_col=\"Date\")\n",
    "crypto_name = list(crypto.columns)\n",
    "etf = pd.read_csv(\"WeeklyReturns.csv\", index_col= \"Date\")\n",
    "etf_name = list(etf.columns)\n",
    "comb_df = pd.merge(crypto,etf, right_index=True,left_index=True)"
   ]
  },
  {
   "cell_type": "code",
   "execution_count": 44,
   "metadata": {},
   "outputs": [
    {
     "output_type": "stream",
     "name": "stdout",
     "text": [
      "Number of Portfolios: 27664\n"
     ]
    }
   ],
   "source": [
    "ti = list(comb_df.columns)\n",
    "\n",
    "samples = []\n",
    "for number in [10,9,8,7,6,5,4,3,2,1]:\n",
    "    for i in range(1,3000):\n",
    "        #samples.extend([list(x) for x in combinations(selected_tickers, number_of_assets)])\n",
    "        samples.append(random.sample(etf_name,number))\n",
    "samples_mini = []\n",
    "for i in samples:\n",
    "    if i not in samples_mini:\n",
    "        samples_mini.append(i)\n",
    "\n",
    "print(\"Number of Portfolios: {}\".format(len(samples_mini)))\n",
    "\n",
    "#PDI_DF, SPY_DF = calculate_pdi(weekly_return, samples_mini, return_mean_range = 52)\n",
    "\n"
   ]
  },
  {
   "cell_type": "code",
   "execution_count": 45,
   "metadata": {},
   "outputs": [
    {
     "output_type": "execute_result",
     "data": {
      "text/plain": [
       "[['ZCAN', 'EFA', 'IWX', 'RPV', 'SDS', 'EUDG', 'LIT', 'ENFR', 'HEEM', 'SPLV'],\n",
       " ['VOT', 'TZA', 'NORW', 'PSCF', 'PRN', 'IXUS', 'VPU', 'SLX', 'EDOG', 'EWW'],\n",
       " ['EWSC', 'RTH', 'RZG', 'XTL', 'SOXS', 'VPU', 'JKG', 'MXI', 'FVD'],\n",
       " ['TECL', 'EWGS', 'ZCAN', 'LGLV', 'FJP', 'PHDG', 'EWY', 'VLU', 'RZG'],\n",
       " ['QEMM', 'INDY', 'FCG', 'IVE', 'FILL', 'VUSE', 'EFAV', 'EWSC', 'BKF']]"
      ]
     },
     "metadata": {},
     "execution_count": 45
    }
   ],
   "source": [
    "samples_mini[2997:3002]"
   ]
  },
  {
   "cell_type": "code",
   "execution_count": 46,
   "metadata": {},
   "outputs": [],
   "source": [
    "per_cryp = []\n",
    "for i in samples_mini:\n",
    "    if int(len(i)) == 10:\n",
    "        per = np.round(1-(int(len(i))/10),1)\n",
    "        per_cryp.append(per)\n",
    "    else:\n",
    "        per = np.round(1-(int(len(i))/10),1)\n",
    "        per_cryp.append(per)"
   ]
  },
  {
   "cell_type": "code",
   "execution_count": 53,
   "metadata": {
    "tags": []
   },
   "outputs": [
    {
     "output_type": "stream",
     "name": "stdout",
     "text": [
      "Number of Portfolios: 27664\n"
     ]
    }
   ],
   "source": [
    "\n",
    "new_port = []\n",
    "for i in samples_mini:\n",
    "    if len(i) == 10:\n",
    "        new_port.append(i)\n",
    "    else:\n",
    "        new_port.append(i.extend(random.sample(crypto_name,10-int(len(i)))))\n",
    "\n",
    "print(\"Number of Portfolios: {}\".format(len(new_port)))"
   ]
  },
  {
   "cell_type": "code",
   "execution_count": 54,
   "metadata": {},
   "outputs": [
    {
     "output_type": "stream",
     "name": "stderr",
     "text": [
      "27664it [01:17, 358.02it/s]\n"
     ]
    }
   ],
   "source": [
    "PDI_DF = calculate_pdi(comb_df, new_port, return_mean_range = 52)"
   ]
  },
  {
   "cell_type": "code",
   "execution_count": 55,
   "metadata": {},
   "outputs": [],
   "source": [
    "PDI_DF[\"per_crypto\"] = per_cryp # adding the percentage of cryptoes in the portfolio\n",
    "PDI_DF[\"per_crypto\"] = PDI_DF[\"per_crypto\"].astype(str)"
   ]
  },
  {
   "cell_type": "code",
   "execution_count": 75,
   "metadata": {},
   "outputs": [],
   "source": [
    "fig = px.scatter(PDI_DF, x ='PDI_INDEX',hover_data=[\"Assets\"],  color =\"per_crypto\", y= \"Sharpe Ratio\",color_discrete_sequence=px.colors.qualitative.Vivid, title = \"Percentage of Crypto's allocated in Portfolios\",opacity=0.8)\n",
    "fig.update_layout(legend_title_text='Percentage of Crypto', height=700, width=1200)\n",
    "fig.update_yaxes( title=\"Risk Adjusted Return\")\n",
    "fig.update_xaxes(title=\"Portfolio Diversification\")\n",
    "fig.show()"
   ]
  },
  {
   "cell_type": "code",
   "execution_count": 81,
   "metadata": {},
   "outputs": [],
   "source": [
    "fig = px.scatter(PDI_DF, x ='Annual STD',hover_data=[\"Assets\"],  color =\"per_crypto\", y= \"Annual Return\",color_discrete_sequence=px.colors.qualitative.Vivid, title = \"Percentage of Crypto's allocated in Portfolios\",opacity=0.8)\n",
    "fig.update_layout(legend_title_text='Percentage of Crypto', height=700, width=1200)\n",
    "fig.update_yaxes( title=\"Annual Return\")\n",
    "fig.update_xaxes(title=\"Annual Standard Deviation\")\n",
    "fig.show()"
   ]
  },
  {
   "cell_type": "code",
   "execution_count": 96,
   "metadata": {},
   "outputs": [],
   "source": [
    "from plotly.subplots import make_subplots\n",
    "import plotly.graph_objects as go\n",
    "\n",
    "fig = go.Figure()\n",
    "# Initialize figure with subplots\n",
    "\n",
    "\n",
    "# Add traces\n",
    "fig.add_trace(go.Box(x=PDI_DF[\"per_crypto\"], y=PDI_DF[\"Annual STD\"],marker=dict(color='steelblue')))\n",
    "\n",
    "\n",
    "# Update xaxis properties\n",
    "fig.update_xaxes(title_text=\"Weight of Allocated Crypto\")\n",
    "\n",
    "\n",
    "# Update yaxis properties\n",
    "fig.update_yaxes(title_text=\"Volatility - Annual Standard Deviation\")\n",
    "\n",
    "fig.update_layout(height=600,showlegend=False,template=\"plotly\", width=1100)\n",
    "\n",
    "fig.show()"
   ]
  },
  {
   "source": [
    "## "
   ],
   "cell_type": "markdown",
   "metadata": {}
  },
  {
   "cell_type": "code",
   "execution_count": null,
   "metadata": {},
   "outputs": [],
   "source": []
  }
 ]
}